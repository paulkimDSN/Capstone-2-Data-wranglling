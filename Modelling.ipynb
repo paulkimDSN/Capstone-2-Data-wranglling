{
 "cells": [
  {
   "cell_type": "markdown",
   "id": "16c61819",
   "metadata": {},
   "source": [
    "Modelling"
   ]
  },
  {
   "cell_type": "code",
   "execution_count": 1,
   "id": "b93e10df",
   "metadata": {},
   "outputs": [],
   "source": [
    "from imblearn.over_sampling import SMOTE"
   ]
  },
  {
   "cell_type": "code",
   "execution_count": 2,
   "id": "1f85ad73",
   "metadata": {},
   "outputs": [],
   "source": [
    "import numpy as np\n",
    "import pandas as pd\n",
    "import matplotlib.pyplot as plt\n",
    "import seaborn as sns\n",
    "import warnings\n",
    "warnings.filterwarnings('ignore')"
   ]
  },
  {
   "cell_type": "code",
   "execution_count": 3,
   "id": "777aed30",
   "metadata": {},
   "outputs": [],
   "source": [
    "from sklearn.model_selection import train_test_split\n",
    "from sklearn.linear_model import LogisticRegression\n",
    "from sklearn.metrics import accuracy_score\n",
    "from sklearn.preprocessing import StandardScaler\n",
    "from sklearn.metrics import classification_report\n",
    "from sklearn.metrics import confusion_matrix, roc_curve, auc,ConfusionMatrixDisplay"
   ]
  },
  {
   "cell_type": "markdown",
   "id": "0cab4c45",
   "metadata": {},
   "source": [
    "Load the data from previous notebook"
   ]
  },
  {
   "cell_type": "code",
   "execution_count": 4,
   "id": "05843ce9",
   "metadata": {},
   "outputs": [],
   "source": [
    "df=pd.read_csv('..\\Capstone-2-Data-wranglling\\preprocessed.csv',index_col='id')\n",
    "X_train=pd.read_csv('..\\Capstone-2-Data-wranglling\\X_train.csv',index_col='id')\n",
    "y_train=pd.read_csv('..\\Capstone-2-Data-wranglling\\y_train.csv',index_col='id')\n",
    "X_test=pd.read_csv('..\\Capstone-2-Data-wranglling\\X_test.csv',index_col='id')\n",
    "y_test=pd.read_csv('..\\Capstone-2-Data-wranglling\\y_test.csv',index_col='id')"
   ]
  },
  {
   "cell_type": "code",
   "execution_count": 5,
   "id": "0ba06483",
   "metadata": {},
   "outputs": [
    {
     "data": {
      "text/plain": [
       "(3576, 20)"
      ]
     },
     "execution_count": 5,
     "metadata": {},
     "output_type": "execute_result"
    }
   ],
   "source": [
    "X_train.shape"
   ]
  },
  {
   "cell_type": "code",
   "execution_count": 6,
   "id": "f7893d11",
   "metadata": {},
   "outputs": [
    {
     "data": {
      "text/plain": [
       "(3576, 1)"
      ]
     },
     "execution_count": 6,
     "metadata": {},
     "output_type": "execute_result"
    }
   ],
   "source": [
    "y_train.shape"
   ]
  },
  {
   "cell_type": "code",
   "execution_count": 7,
   "id": "8436b7a2",
   "metadata": {},
   "outputs": [
    {
     "data": {
      "text/plain": [
       "stroke\n",
       "0         3402\n",
       "1          174\n",
       "dtype: int64"
      ]
     },
     "execution_count": 7,
     "metadata": {},
     "output_type": "execute_result"
    }
   ],
   "source": [
    "y_train.value_counts()"
   ]
  },
  {
   "cell_type": "markdown",
   "id": "2e1799d2",
   "metadata": {},
   "source": [
    "Oversampling SMOTE and ADASYN, and Undersampling method was appplied for the imbalanced classification data."
   ]
  },
  {
   "cell_type": "code",
   "execution_count": 8,
   "id": "4ed29087",
   "metadata": {},
   "outputs": [],
   "source": [
    "sm=SMOTE()\n",
    "X_train_sm,y_train_sm=sm.fit_resample(X_train,y_train)"
   ]
  },
  {
   "cell_type": "code",
   "execution_count": 26,
   "id": "df0eb9aa",
   "metadata": {},
   "outputs": [],
   "source": [
    "from imblearn.under_sampling import RandomUnderSampler\n",
    "RUS=RandomUnderSampler()\n",
    "X_train_us,y_train_us=RUS.fit_resample(X_train,y_train)"
   ]
  },
  {
   "cell_type": "code",
   "execution_count": 10,
   "id": "e2545fcf",
   "metadata": {},
   "outputs": [],
   "source": [
    "from imblearn.over_sampling import ADASYN\n",
    "AD=ADASYN()\n",
    "X_train_ad,y_train_ad=AD.fit_resample(X_train,y_train)"
   ]
  },
  {
   "cell_type": "code",
   "execution_count": 11,
   "id": "1a41e0f2",
   "metadata": {},
   "outputs": [
    {
     "data": {
      "text/plain": [
       "(6804, 20)"
      ]
     },
     "execution_count": 11,
     "metadata": {},
     "output_type": "execute_result"
    }
   ],
   "source": [
    "X_train_sm.shape"
   ]
  },
  {
   "cell_type": "code",
   "execution_count": 12,
   "id": "4ac995ed",
   "metadata": {},
   "outputs": [
    {
     "data": {
      "text/plain": [
       "(6804, 1)"
      ]
     },
     "execution_count": 12,
     "metadata": {},
     "output_type": "execute_result"
    }
   ],
   "source": [
    "y_train_sm.shape"
   ]
  },
  {
   "cell_type": "code",
   "execution_count": 13,
   "id": "cc030e81",
   "metadata": {},
   "outputs": [
    {
     "data": {
      "text/plain": [
       "(348, 20)"
      ]
     },
     "execution_count": 13,
     "metadata": {},
     "output_type": "execute_result"
    }
   ],
   "source": [
    "X_train_us.shape"
   ]
  },
  {
   "cell_type": "code",
   "execution_count": 14,
   "id": "3db097da",
   "metadata": {},
   "outputs": [
    {
     "data": {
      "text/plain": [
       "stroke\n",
       "0         174\n",
       "1         174\n",
       "dtype: int64"
      ]
     },
     "execution_count": 14,
     "metadata": {},
     "output_type": "execute_result"
    }
   ],
   "source": [
    "y_train_us.value_counts()"
   ]
  },
  {
   "cell_type": "code",
   "execution_count": 15,
   "id": "8c428258",
   "metadata": {},
   "outputs": [
    {
     "data": {
      "text/plain": [
       "stroke\n",
       "0         3402\n",
       "1         3334\n",
       "dtype: int64"
      ]
     },
     "execution_count": 15,
     "metadata": {},
     "output_type": "execute_result"
    }
   ],
   "source": [
    "y_train_ad.value_counts()"
   ]
  },
  {
   "cell_type": "markdown",
   "id": "c4d94dfd",
   "metadata": {},
   "source": [
    "LogisticRegression Model used to compare the result with the imbalanced dataset from the previous notebook."
   ]
  },
  {
   "cell_type": "code",
   "execution_count": 16,
   "id": "0f7db9cc",
   "metadata": {},
   "outputs": [],
   "source": [
    "LR=LogisticRegression()\n",
    "LR.fit(X_train_sm,y_train_sm)\n",
    "ypred=LR.predict(X_test)"
   ]
  },
  {
   "cell_type": "code",
   "execution_count": 17,
   "id": "8da47c62",
   "metadata": {},
   "outputs": [
    {
     "name": "stdout",
     "output_type": "stream",
     "text": [
      "              precision    recall  f1-score   support\n",
      "\n",
      "           0       0.97      0.88      0.93      1458\n",
      "           1       0.19      0.53      0.28        75\n",
      "\n",
      "    accuracy                           0.87      1533\n",
      "   macro avg       0.58      0.71      0.60      1533\n",
      "weighted avg       0.94      0.87      0.89      1533\n",
      "\n"
     ]
    }
   ],
   "source": [
    "print(classification_report(y_test,ypred))"
   ]
  },
  {
   "cell_type": "code",
   "execution_count": 18,
   "id": "8af830bc",
   "metadata": {},
   "outputs": [
    {
     "name": "stdout",
     "output_type": "stream",
     "text": [
      "0.8662752772341813\n"
     ]
    }
   ],
   "source": [
    "print(accuracy_score(y_test,ypred))"
   ]
  },
  {
   "cell_type": "code",
   "execution_count": 19,
   "id": "7ee2c025",
   "metadata": {},
   "outputs": [
    {
     "data": {
      "text/plain": [
       "array([[1288,  170],\n",
       "       [  35,   40]], dtype=int64)"
      ]
     },
     "execution_count": 19,
     "metadata": {},
     "output_type": "execute_result"
    }
   ],
   "source": [
    "cf_mat=confusion_matrix(y_test,ypred)\n",
    "cf_mat"
   ]
  },
  {
   "cell_type": "markdown",
   "id": "01f92fd9",
   "metadata": {},
   "source": [
    "Modelling with Oversampled Data(SMOTE)"
   ]
  },
  {
   "cell_type": "code",
   "execution_count": 20,
   "id": "7acf4624",
   "metadata": {},
   "outputs": [],
   "source": [
    "from sklearn.ensemble import RandomForestClassifier"
   ]
  },
  {
   "cell_type": "code",
   "execution_count": 21,
   "id": "5bd66a45",
   "metadata": {},
   "outputs": [],
   "source": [
    "RF=RandomForestClassifier(random_state=0,oob_score=True)\n",
    "RF.fit(X_train_sm,y_train_sm)\n",
    "ypredRF=RF.predict(X_test)"
   ]
  },
  {
   "cell_type": "code",
   "execution_count": 22,
   "id": "d83eee2a",
   "metadata": {},
   "outputs": [
    {
     "name": "stdout",
     "output_type": "stream",
     "text": [
      "0.9609053497942387\n"
     ]
    }
   ],
   "source": [
    "print(RF.oob_score_)"
   ]
  },
  {
   "cell_type": "code",
   "execution_count": 23,
   "id": "5b80a71a",
   "metadata": {},
   "outputs": [
    {
     "name": "stdout",
     "output_type": "stream",
     "text": [
      "0.9125896934116112\n"
     ]
    }
   ],
   "source": [
    "print(accuracy_score(y_test,ypredRF))"
   ]
  },
  {
   "cell_type": "code",
   "execution_count": 24,
   "id": "d5184721",
   "metadata": {},
   "outputs": [
    {
     "name": "stdout",
     "output_type": "stream",
     "text": [
      "              precision    recall  f1-score   support\n",
      "\n",
      "           0       0.96      0.95      0.95      1458\n",
      "           1       0.16      0.19      0.17        75\n",
      "\n",
      "    accuracy                           0.91      1533\n",
      "   macro avg       0.56      0.57      0.56      1533\n",
      "weighted avg       0.92      0.91      0.92      1533\n",
      "\n"
     ]
    }
   ],
   "source": [
    "print(classification_report(y_test,ypredRF))"
   ]
  },
  {
   "cell_type": "code",
   "execution_count": 28,
   "id": "a168bb7b",
   "metadata": {},
   "outputs": [
    {
     "data": {
      "text/plain": [
       "array([[1389,   69],\n",
       "       [  62,   13]], dtype=int64)"
      ]
     },
     "execution_count": 28,
     "metadata": {},
     "output_type": "execute_result"
    }
   ],
   "source": [
    "cfrf=confusion_matrix(y_test,ypredRF)\n",
    "cfrf"
   ]
  },
  {
   "cell_type": "code",
   "execution_count": 29,
   "id": "6518322d",
   "metadata": {},
   "outputs": [],
   "source": [
    "from sklearn.model_selection import GridSearchCV"
   ]
  },
  {
   "cell_type": "code",
   "execution_count": 30,
   "id": "1f2924c8",
   "metadata": {},
   "outputs": [],
   "source": [
    "param_grid={\n",
    "    'n_estimators':np.arange(1,50),\n",
    "    'max_depth':[4,5,6,7,8],\n",
    "    'criterion':['gini','entropy'],\n",
    "    'max_features':[3,5,7],\n",
    "    'min_samples_split':[1,2,3]\n",
    "           }"
   ]
  },
  {
   "cell_type": "code",
   "execution_count": 31,
   "id": "1c5bb21d",
   "metadata": {},
   "outputs": [
    {
     "name": "stdout",
     "output_type": "stream",
     "text": [
      "Fitting 3 folds for each of 4410 candidates, totalling 13230 fits\n",
      "              precision    recall  f1-score   support\n",
      "\n",
      "           0       0.97      0.80      0.88      1458\n",
      "           1       0.11      0.49      0.18        75\n",
      "\n",
      "    accuracy                           0.79      1533\n",
      "   macro avg       0.54      0.65      0.53      1533\n",
      "weighted avg       0.93      0.79      0.84      1533\n",
      "\n"
     ]
    }
   ],
   "source": [
    "RF=RandomForestClassifier()\n",
    "rf_grid=GridSearchCV(estimator=RF,param_grid=param_grid,cv=3,n_jobs=-1,verbose=2)\n",
    "rf_grid.fit(X_train_sm,y_train_sm)\n",
    "y_pred_rf=rf_grid.predict(X_test)\n",
    "print(classification_report(y_test,y_pred_rf))"
   ]
  },
  {
   "cell_type": "code",
   "execution_count": 32,
   "id": "4275e929",
   "metadata": {},
   "outputs": [
    {
     "name": "stdout",
     "output_type": "stream",
     "text": [
      "0.8872721928277484\n",
      "{'criterion': 'gini', 'max_depth': 8, 'max_features': 3, 'min_samples_split': 2, 'n_estimators': 38}\n"
     ]
    }
   ],
   "source": [
    "print(rf_grid.best_score_)\n",
    "print(rf_grid.best_params_)"
   ]
  },
  {
   "cell_type": "code",
   "execution_count": 33,
   "id": "618cad03",
   "metadata": {},
   "outputs": [],
   "source": [
    "from sklearn.model_selection import ParameterGrid"
   ]
  },
  {
   "cell_type": "code",
   "execution_count": 34,
   "id": "dda6a6a8",
   "metadata": {},
   "outputs": [],
   "source": [
    "rf=RandomForestClassifier(oob_score=True)\n",
    "param_grid={\n",
    "    'n_estimators':np.arange(1,50),\n",
    "    'max_depth':[5,6,7,8],\n",
    "    'criterion':['gini','entropy'],\n",
    "    'max_features':[3,5,7],\n",
    "    #'min_samples_split':[2,3,4]\n",
    "           }"
   ]
  },
  {
   "cell_type": "code",
   "execution_count": 35,
   "id": "406347eb",
   "metadata": {},
   "outputs": [
    {
     "name": "stdout",
     "output_type": "stream",
     "text": [
      "OOB: 0.88566\n",
      "Grid: {'criterion': 'gini', 'max_depth': 8, 'max_features': 3, 'n_estimators': 40}\n"
     ]
    }
   ],
   "source": [
    "best_score=0\n",
    "for g in ParameterGrid(param_grid):\n",
    "    rf.set_params(**g)\n",
    "    rf.fit(X_train_sm,y_train_sm)\n",
    "    # save if best\n",
    "    if rf.oob_score_ > best_score:\n",
    "        best_score = rf.oob_score_\n",
    "        best_grid = g\n",
    "\n",
    "print (\"OOB: %0.5f\" % best_score) \n",
    "print (\"Grid:\", best_grid)"
   ]
  },
  {
   "cell_type": "code",
   "execution_count": 45,
   "id": "fd348930",
   "metadata": {
    "scrolled": true
   },
   "outputs": [
    {
     "name": "stdout",
     "output_type": "stream",
     "text": [
      "              precision    recall  f1-score   support\n",
      "\n",
      "           0       0.97      0.77      0.86      1458\n",
      "           1       0.11      0.56      0.19        75\n",
      "\n",
      "    accuracy                           0.76      1533\n",
      "   macro avg       0.54      0.67      0.52      1533\n",
      "weighted avg       0.93      0.76      0.83      1533\n",
      "\n"
     ]
    }
   ],
   "source": [
    "rf=RandomForestClassifier(criterion= 'gini', max_depth= 8, max_features= 3, n_estimators=40)\n",
    "rf.fit(X_train_sm,y_train_sm)\n",
    "y_pred_rf=rf.predict(X_test)\n",
    "print(classification_report(y_test,y_pred_rf))"
   ]
  },
  {
   "cell_type": "code",
   "execution_count": 46,
   "id": "6dcde727",
   "metadata": {},
   "outputs": [
    {
     "name": "stdout",
     "output_type": "stream",
     "text": [
      "[[1127  331]\n",
      " [  33   42]]\n"
     ]
    }
   ],
   "source": [
    "print(confusion_matrix(y_test, y_pred_rf))"
   ]
  },
  {
   "cell_type": "code",
   "execution_count": null,
   "id": "8863cc9c",
   "metadata": {},
   "outputs": [],
   "source": [
    "#from bayes_opt import BayesianOptimization\n"
   ]
  },
  {
   "cell_type": "code",
   "execution_count": 194,
   "id": "9c819b33",
   "metadata": {},
   "outputs": [
    {
     "name": "stdout",
     "output_type": "stream",
     "text": [
      "Collecting xgboost\n",
      "  Downloading xgboost-1.5.2-py3-none-win_amd64.whl (106.6 MB)\n",
      "Requirement already satisfied: numpy in c:\\users\\minja\\anaconda\\lib\\site-packages (from xgboost) (1.20.3)\n",
      "Requirement already satisfied: scipy in c:\\users\\minja\\anaconda\\lib\\site-packages (from xgboost) (1.7.1)\n",
      "Installing collected packages: xgboost\n",
      "Successfully installed xgboost-1.5.2\n",
      "Note: you may need to restart the kernel to use updated packages.\n"
     ]
    }
   ],
   "source": [
    "pip install xgboost"
   ]
  },
  {
   "cell_type": "code",
   "execution_count": 47,
   "id": "dd66082f",
   "metadata": {},
   "outputs": [],
   "source": [
    "from xgboost import XGBClassifier"
   ]
  },
  {
   "cell_type": "code",
   "execution_count": 48,
   "id": "f5444377",
   "metadata": {},
   "outputs": [],
   "source": [
    "xgb=XGBClassifier(learning_rate=0.1,objective='binary:logistic',random_state=0,eval_metric='error')\n",
    "xgb.fit(X_train_sm,y_train_sm)\n",
    "ypred_xgb=xgb.predict(X_test)\n"
   ]
  },
  {
   "cell_type": "code",
   "execution_count": 49,
   "id": "22082d64",
   "metadata": {},
   "outputs": [
    {
     "name": "stdout",
     "output_type": "stream",
     "text": [
      "[[1339  119]\n",
      " [  53   22]]\n"
     ]
    }
   ],
   "source": [
    "print(confusion_matrix(y_test,ypred_xgb))"
   ]
  },
  {
   "cell_type": "code",
   "execution_count": 50,
   "id": "b2fa1cc6",
   "metadata": {},
   "outputs": [
    {
     "name": "stdout",
     "output_type": "stream",
     "text": [
      "              precision    recall  f1-score   support\n",
      "\n",
      "           0       0.96      0.92      0.94      1458\n",
      "           1       0.16      0.29      0.20        75\n",
      "\n",
      "    accuracy                           0.89      1533\n",
      "   macro avg       0.56      0.61      0.57      1533\n",
      "weighted avg       0.92      0.89      0.90      1533\n",
      "\n"
     ]
    }
   ],
   "source": [
    "print(classification_report(y_test,ypred_xgb))"
   ]
  },
  {
   "cell_type": "code",
   "execution_count": 51,
   "id": "b6cafe48",
   "metadata": {},
   "outputs": [],
   "source": [
    "from sklearn.model_selection import RandomizedSearchCV"
   ]
  },
  {
   "cell_type": "code",
   "execution_count": 56,
   "id": "e4772e1e",
   "metadata": {},
   "outputs": [
    {
     "name": "stdout",
     "output_type": "stream",
     "text": [
      "Fitting 5 folds for each of 5 candidates, totalling 25 fits\n",
      "{'subsample': 0.6, 'n_estimators': 1000, 'max_depth': 10, 'learning_rate': 0.1, 'colsample_bytree': 0.7999999999999999}\n",
      "[[1401   57]\n",
      " [  63   12]]\n"
     ]
    }
   ],
   "source": [
    "xgb=XGBClassifier(objective='binary:logistic',random_state=0,eval_metric='auc',)\n",
    "params={ 'max_depth': [3, 5, 6, 10],\n",
    "           'learning_rate': [0.1, 0.2, 0.3, 0.4],\n",
    "           'subsample': np.arange(0.6, 0.8, 1.0),\n",
    "           'colsample_bytree': np.arange(0.4, 1.0, 0.1),\n",
    "           'n_estimators': [100, 500, 1000]}\n",
    "random_search=RandomizedSearchCV(xgb,param_distributions=params,n_iter=5,n_jobs=4,verbose=2)\n",
    "random_search.fit(X_train_sm,y_train_sm)\n",
    "rs_ypred=random_search.predict(X_test)\n",
    "print(random_search.best_params_)\n",
    "print(confusion_matrix(y_test,rs_ypred))"
   ]
  },
  {
   "cell_type": "code",
   "execution_count": 54,
   "id": "afb92285",
   "metadata": {},
   "outputs": [
    {
     "name": "stdout",
     "output_type": "stream",
     "text": [
      "[[1394   64]\n",
      " [  67    8]]\n"
     ]
    }
   ],
   "source": [
    "#xgb=XGBClassifier(objective='binary:logistic',random_state=0,eval_metric='auc',subsample= 0.6, n_estimators= 500, max_depth= 10, learning_rate= 0.3, colsample_bytree= 0.7999999999999999)\n",
    "#xgb.fit(X_train_sm,y_train_sm)\n",
    "#ypred_xgb=xgb.predict(X_test)\n",
    "#print(confusion_matrix(y_test,ypred_xgb))"
   ]
  },
  {
   "cell_type": "code",
   "execution_count": 62,
   "id": "273dd166",
   "metadata": {},
   "outputs": [],
   "source": [
    "from lightgbm import LGBMClassifier"
   ]
  },
  {
   "cell_type": "code",
   "execution_count": 233,
   "id": "ee769c85",
   "metadata": {},
   "outputs": [],
   "source": [
    "lgbm=LGBMClassifier()\n",
    "lgbm.fit(X_train_sm,y_train_sm)\n",
    "ypred_lgbm=lgbm.predict(X_test)"
   ]
  },
  {
   "cell_type": "code",
   "execution_count": 234,
   "id": "b9ffc559",
   "metadata": {},
   "outputs": [
    {
     "name": "stdout",
     "output_type": "stream",
     "text": [
      "[[1392   66]\n",
      " [  62   13]]\n"
     ]
    }
   ],
   "source": [
    "print(confusion_matrix(y_test,ypred_lgbm))"
   ]
  },
  {
   "cell_type": "code",
   "execution_count": 63,
   "id": "8e9d933f",
   "metadata": {},
   "outputs": [
    {
     "name": "stdout",
     "output_type": "stream",
     "text": [
      "Fitting 10 folds for each of 10 candidates, totalling 100 fits\n",
      "[LightGBM] [Warning] min_data_in_leaf is set=10, min_child_samples=20 will be ignored. Current value: min_data_in_leaf=10\n",
      "{'subsample': 0.8, 'random_state': 42, 'objective': 'binary', 'num_leaves': 200, 'min_split_gain': 0.01, 'min_data_in_leaf': 10, 'metric': 'auc', 'max_depth': 7, 'learning_rate': 0.05, 'colsample_bytree': 0.6, 'boosting_type': 'gbdt'}\n",
      "[[1312  146]\n",
      " [  49   26]]\n"
     ]
    }
   ],
   "source": [
    "lgbm=LGBMClassifier()\n",
    "params_lgbm = {\n",
    "    'learning_rate': [0.05,0.01,0.0001],\n",
    "    'num_leaves': [90,140,200],\n",
    "    'boosting_type' : ['gbdt'],\n",
    "    'objective' : ['binary'],\n",
    "    'max_depth' : [4,5,6,7],\n",
    "    'random_state' : [42], \n",
    "    'colsample_bytree' : [0.6,0.7,0.8,1.0],\n",
    "    'subsample' : [0.5,0.6,0.7,0.8,1.0],\n",
    "    'min_split_gain' : [0.01],\n",
    "    'min_data_in_leaf':[10],\n",
    "    'metric':['auc']\n",
    "    }\n",
    "clf=LGBMClassifier()\n",
    "LGBMRS=RandomizedSearchCV(clf,param_distributions=params_lgbm,verbose=2,cv=10,n_jobs=-1,n_iter=10)\n",
    "LGBMRS.fit(X_train_sm,y_train_sm)\n",
    "ypred_lgbm=LGBMRS.predict(X_test)\n",
    "print(LGBMRS.best_params_)\n",
    "print(confusion_matrix(y_test,ypred_lgbm))"
   ]
  },
  {
   "cell_type": "code",
   "execution_count": 244,
   "id": "ee19be23",
   "metadata": {
    "scrolled": true
   },
   "outputs": [
    {
     "name": "stdout",
     "output_type": "stream",
     "text": [
      "Fitting 10 folds for each of 10 candidates, totalling 100 fits\n",
      "{'subsample': 0.8, 'random_state': 42, 'objective': 'binary', 'num_leaves': 140, 'min_split_gain': 0.01, 'min_data_in_leaf': 10, 'metric': 'auc', 'max_depth': 7, 'learning_rate': 0.05, 'colsample_bytree': 0.8, 'boosting_type': 'gbdt'}\n"
     ]
    }
   ],
   "source": [
    "clf=LGBMClassifier()\n",
    "LGBMRS=RandomizedSearchCV(clf,param_distributions=params_lgbm,verbose=2,cv=10,n_jobs=-1,n_iter=10)\n",
    "LGBMRS.fit(X_train_sm,y_train_sm)\n",
    "ypred_lgbm=LGBMRS.predict(X_test)\n",
    "print(LGBMRS.best_params_)\n",
    "print(confusion_matrix(y_test,ypred_lgbm)"
   ]
  },
  {
   "cell_type": "code",
   "execution_count": 245,
   "id": "66b6d96c",
   "metadata": {},
   "outputs": [
    {
     "name": "stdout",
     "output_type": "stream",
     "text": [
      "[[1323  135]\n",
      " [  50   25]]\n"
     ]
    }
   ],
   "source": [
    "lgbm=LGBMClassifier(subsample= 0.8, random_state= 42, objective= 'binary', num_leaves= 140, min_split_gain= 0.01, min_data_in_leaf =10, metric= 'auc', max_depth= 7, learning_rate= 0.05, colsample_bytree= 0.8, boosting_type= 'gbdt')\n",
    "lgbm.fit(X_train_sm,y_train_sm)\n",
    "ypred_lgbm=lgbm.predict(X_test)\n",
    "print(confusion_matrix(y_test,ypred_lgbm))"
   ]
  },
  {
   "cell_type": "code",
   "execution_count": 246,
   "id": "b6846aa9",
   "metadata": {},
   "outputs": [
    {
     "name": "stdout",
     "output_type": "stream",
     "text": [
      "              precision    recall  f1-score   support\n",
      "\n",
      "           0       0.96      0.91      0.93      1458\n",
      "           1       0.16      0.33      0.21        75\n",
      "\n",
      "    accuracy                           0.88      1533\n",
      "   macro avg       0.56      0.62      0.57      1533\n",
      "weighted avg       0.92      0.88      0.90      1533\n",
      "\n"
     ]
    }
   ],
   "source": [
    "print(classification_report(y_test,ypred_lgbm))"
   ]
  },
  {
   "cell_type": "code",
   "execution_count": 65,
   "id": "da2ba607",
   "metadata": {},
   "outputs": [
    {
     "name": "stdout",
     "output_type": "stream",
     "text": [
      "Fitting 10 folds for each of 10 candidates, totalling 100 fits\n",
      "[LightGBM] [Warning] min_data_in_leaf is set=10, min_child_samples=20 will be ignored. Current value: min_data_in_leaf=10\n",
      "              precision    recall  f1-score   support\n",
      "\n",
      "           0       0.96      0.92      0.94      1458\n",
      "           1       0.16      0.29      0.21        75\n",
      "\n",
      "    accuracy                           0.89      1533\n",
      "   macro avg       0.56      0.61      0.57      1533\n",
      "weighted avg       0.92      0.89      0.90      1533\n",
      "\n"
     ]
    }
   ],
   "source": [
    "params = {\n",
    "    'learning_rate': [0.05,0.01,0.0001],\n",
    "    'num_leaves': [90,140,200],\n",
    "    'boosting_type' : ['gbdt'],\n",
    "    'objective' : ['binary'],\n",
    "    'max_depth' : [3,4,5,6,7,8],\n",
    "    'random_state' : [42], \n",
    "    'colsample_bytree' : [0.5,0.6,0.7,0.8,1.0],\n",
    "    'subsample' : [0.5,0.6,0.7,0.8,1.0],\n",
    "    'min_split_gain' : [0.01],\n",
    "    'min_data_in_leaf':[10],\n",
    "    'metric':['auc']\n",
    "    }\n",
    "clf = LGBMClassifier()\n",
    "RSCV = RandomizedSearchCV(clf,params,verbose=3,cv=10,n_jobs = -1,n_iter=10)\n",
    "RSCV.fit(X_train_sm,y_train_sm)\n",
    "RSCV_pred=RSCV.predict(X_test)\n",
    "print(classification_report(y_test,RSCV_pred))"
   ]
  },
  {
   "cell_type": "code",
   "execution_count": null,
   "id": "28c084c8",
   "metadata": {},
   "outputs": [],
   "source": []
  }
 ],
 "metadata": {
  "kernelspec": {
   "display_name": "Python 3 (ipykernel)",
   "language": "python",
   "name": "python3"
  },
  "language_info": {
   "codemirror_mode": {
    "name": "ipython",
    "version": 3
   },
   "file_extension": ".py",
   "mimetype": "text/x-python",
   "name": "python",
   "nbconvert_exporter": "python",
   "pygments_lexer": "ipython3",
   "version": "3.9.7"
  }
 },
 "nbformat": 4,
 "nbformat_minor": 5
}

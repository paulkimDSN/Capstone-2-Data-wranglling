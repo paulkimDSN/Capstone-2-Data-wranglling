{
 "cells": [
  {
   "cell_type": "markdown",
   "id": "426be34c",
   "metadata": {},
   "source": [
    "<font size=\"6\"> **Modelling**"
   ]
  },
  {
   "cell_type": "markdown",
   "id": "a517b414",
   "metadata": {},
   "source": [
    "In the previous notebook, the data was prepared to develop a model using different algorithms. The missing values of dataset was imputed, the target variable was deteremined, and the data set was splitted into train and test set. The numerical values were scaled using standardscaler method and categorical variables were encoded using get_dummies method. The data was prepared for modelling and logistic regression was used intially to perform the model development. However we have encountered with imbalanced classification data."
   ]
  },
  {
   "cell_type": "markdown",
   "id": "d7e97eec",
   "metadata": {},
   "source": [
    "In this notebook, the train/test dataset developed from the previous notebook will be used to develop models. Before we apply the algorithms to the data, the highly imbalanced data will be dealt before we apply the algorithms. Therefore, the data set will be resampled using three different resamplping technique and three different algorithms will be applied to each balanced datasets to produce models. "
   ]
  },
  {
   "cell_type": "markdown",
   "id": "1bb99305",
   "metadata": {},
   "source": [
    "Load the necessary data and tools."
   ]
  },
  {
   "cell_type": "code",
   "execution_count": 1,
   "id": "0ed41b6a",
   "metadata": {},
   "outputs": [],
   "source": [
    "from imblearn.over_sampling import SMOTE\n",
    "from imblearn.under_sampling import RandomUnderSampler\n",
    "from imblearn.over_sampling import ADASYN"
   ]
  },
  {
   "cell_type": "code",
   "execution_count": 2,
   "id": "2a52c09d",
   "metadata": {},
   "outputs": [],
   "source": [
    "import numpy as np\n",
    "import pandas as pd\n",
    "import matplotlib.pyplot as plt\n",
    "import seaborn as sns\n",
    "import warnings\n",
    "warnings.filterwarnings('ignore')"
   ]
  },
  {
   "cell_type": "code",
   "execution_count": 3,
   "id": "dd167e87",
   "metadata": {},
   "outputs": [],
   "source": [
    "from sklearn.model_selection import train_test_split\n",
    "from sklearn.linear_model import LogisticRegression\n",
    "from sklearn.metrics import accuracy_score\n",
    "from sklearn.metrics import precision_score, recall_score,roc_auc_score,f1_score\n",
    "from sklearn.preprocessing import StandardScaler\n",
    "from sklearn.metrics import classification_report\n",
    "from sklearn.metrics import confusion_matrix, roc_curve, auc,ConfusionMatrixDisplay"
   ]
  },
  {
   "cell_type": "code",
   "execution_count": 4,
   "id": "d9789c87",
   "metadata": {},
   "outputs": [],
   "source": [
    "df=pd.read_csv('..\\Capstone-2-Data-wranglling\\preprocessed.csv',index_col='id')\n",
    "X_train=pd.read_csv('..\\Capstone-2-Data-wranglling\\X_train.csv',index_col='id')\n",
    "y_train=pd.read_csv('..\\Capstone-2-Data-wranglling\\y_train.csv',index_col='id')\n",
    "X_test=pd.read_csv('..\\Capstone-2-Data-wranglling\\X_test.csv',index_col='id')\n",
    "y_test=pd.read_csv('..\\Capstone-2-Data-wranglling\\y_test.csv',index_col='id')"
   ]
  },
  {
   "cell_type": "code",
   "execution_count": 5,
   "id": "d4015154",
   "metadata": {},
   "outputs": [
    {
     "data": {
      "text/plain": [
       "(3576, 20)"
      ]
     },
     "execution_count": 5,
     "metadata": {},
     "output_type": "execute_result"
    }
   ],
   "source": [
    "X_train.shape"
   ]
  },
  {
   "cell_type": "code",
   "execution_count": 6,
   "id": "bf97aa17",
   "metadata": {},
   "outputs": [
    {
     "data": {
      "text/plain": [
       "(3576, 1)"
      ]
     },
     "execution_count": 6,
     "metadata": {},
     "output_type": "execute_result"
    }
   ],
   "source": [
    "y_train.shape"
   ]
  },
  {
   "cell_type": "code",
   "execution_count": 7,
   "id": "c2a6752b",
   "metadata": {},
   "outputs": [
    {
     "data": {
      "text/plain": [
       "stroke\n",
       "0         3402\n",
       "1          174\n",
       "dtype: int64"
      ]
     },
     "execution_count": 7,
     "metadata": {},
     "output_type": "execute_result"
    }
   ],
   "source": [
    "y_train.value_counts()"
   ]
  },
  {
   "cell_type": "markdown",
   "id": "e815f295",
   "metadata": {},
   "source": [
    "<font size=\"4\">**Dealing with Imbalanced Dataset**\n",
    "    "
   ]
  },
  {
   "cell_type": "markdown",
   "id": "94dd380c",
   "metadata": {},
   "source": [
    "Three different train and test samples were resampled with different resampling technique.Two Oversampling technique(SMOTE and ADASYN) and one Undersampling(RandomUndersampler) were used to produce new train and test samples."
   ]
  },
  {
   "cell_type": "code",
   "execution_count": 8,
   "id": "ca38a1af",
   "metadata": {},
   "outputs": [],
   "source": [
    "sm=SMOTE()\n",
    "X_train_sm,y_train_sm=sm.fit_resample(X_train,y_train)"
   ]
  },
  {
   "cell_type": "code",
   "execution_count": 9,
   "id": "36808dd3",
   "metadata": {},
   "outputs": [],
   "source": [
    "RUS=RandomUnderSampler()\n",
    "X_train_us,y_train_us=RUS.fit_resample(X_train,y_train)"
   ]
  },
  {
   "cell_type": "code",
   "execution_count": 10,
   "id": "a22ef04c",
   "metadata": {},
   "outputs": [],
   "source": [
    "AD=ADASYN()\n",
    "X_train_ad,y_train_ad=AD.fit_resample(X_train,y_train)"
   ]
  },
  {
   "cell_type": "markdown",
   "id": "cd2fa8d5",
   "metadata": {},
   "source": [
    "Shape and proportion of each train/test samples are checked to make confrim, resampling techniques are applied appropriately."
   ]
  },
  {
   "cell_type": "code",
   "execution_count": 11,
   "id": "b4594172",
   "metadata": {},
   "outputs": [
    {
     "data": {
      "text/plain": [
       "(6804, 20)"
      ]
     },
     "execution_count": 11,
     "metadata": {},
     "output_type": "execute_result"
    }
   ],
   "source": [
    "X_train_sm.shape"
   ]
  },
  {
   "cell_type": "code",
   "execution_count": 12,
   "id": "000ef59b",
   "metadata": {},
   "outputs": [
    {
     "data": {
      "text/plain": [
       "stroke\n",
       "0         3402\n",
       "1         3402\n",
       "dtype: int64"
      ]
     },
     "execution_count": 12,
     "metadata": {},
     "output_type": "execute_result"
    }
   ],
   "source": [
    "y_train_sm.value_counts()"
   ]
  },
  {
   "cell_type": "code",
   "execution_count": 13,
   "id": "a0ec5c74",
   "metadata": {},
   "outputs": [
    {
     "data": {
      "text/plain": [
       "(348, 20)"
      ]
     },
     "execution_count": 13,
     "metadata": {},
     "output_type": "execute_result"
    }
   ],
   "source": [
    "X_train_us.shape"
   ]
  },
  {
   "cell_type": "code",
   "execution_count": 14,
   "id": "f659d7f1",
   "metadata": {},
   "outputs": [
    {
     "data": {
      "text/plain": [
       "stroke\n",
       "0         174\n",
       "1         174\n",
       "dtype: int64"
      ]
     },
     "execution_count": 14,
     "metadata": {},
     "output_type": "execute_result"
    }
   ],
   "source": [
    "y_train_us.value_counts()"
   ]
  },
  {
   "cell_type": "code",
   "execution_count": 15,
   "id": "a18a37ef",
   "metadata": {},
   "outputs": [
    {
     "data": {
      "text/plain": [
       "stroke\n",
       "0         3402\n",
       "1         3334\n",
       "dtype: int64"
      ]
     },
     "execution_count": 15,
     "metadata": {},
     "output_type": "execute_result"
    }
   ],
   "source": [
    "y_train_ad.value_counts()"
   ]
  },
  {
   "cell_type": "markdown",
   "id": "90811031",
   "metadata": {},
   "source": [
    "Logistic Regression for resampled with SMOTE method was developed to see the difference from the previous notebook(Logistic Regression with before resampling)."
   ]
  },
  {
   "cell_type": "code",
   "execution_count": 16,
   "id": "933351b5",
   "metadata": {},
   "outputs": [],
   "source": [
    "LR=LogisticRegression()\n",
    "LR.fit(X_train_sm,y_train_sm)\n",
    "ypred=LR.predict(X_test)"
   ]
  },
  {
   "cell_type": "code",
   "execution_count": 17,
   "id": "ca071599",
   "metadata": {},
   "outputs": [
    {
     "name": "stdout",
     "output_type": "stream",
     "text": [
      "              precision    recall  f1-score   support\n",
      "\n",
      "           0       0.97      0.88      0.92      1458\n",
      "           1       0.19      0.53      0.28        75\n",
      "\n",
      "    accuracy                           0.86      1533\n",
      "   macro avg       0.58      0.71      0.60      1533\n",
      "weighted avg       0.93      0.86      0.89      1533\n",
      "\n"
     ]
    }
   ],
   "source": [
    "print(classification_report(y_test,ypred))"
   ]
  },
  {
   "cell_type": "code",
   "execution_count": 18,
   "id": "ef41030e",
   "metadata": {},
   "outputs": [
    {
     "name": "stdout",
     "output_type": "stream",
     "text": [
      "0.8636660143509458\n"
     ]
    }
   ],
   "source": [
    "print(accuracy_score(y_test,ypred))"
   ]
  },
  {
   "cell_type": "code",
   "execution_count": 19,
   "id": "5474df3a",
   "metadata": {
    "scrolled": true
   },
   "outputs": [
    {
     "data": {
      "text/plain": [
       "array([[1284,  174],\n",
       "       [  35,   40]], dtype=int64)"
      ]
     },
     "execution_count": 19,
     "metadata": {},
     "output_type": "execute_result"
    }
   ],
   "source": [
    "cf_mat=confusion_matrix(y_test,ypred)\n",
    "cf_mat"
   ]
  },
  {
   "cell_type": "markdown",
   "id": "10a0c4ba",
   "metadata": {},
   "source": [
    "As the calssification report showw, it has improved recall score dramatically from 0.03 to 0.52."
   ]
  },
  {
   "cell_type": "markdown",
   "id": "8b235bf3",
   "metadata": {},
   "source": [
    "<font size=\"4\">**Modelling with Oversmapled Dataset(SMOTE Method)**"
   ]
  },
  {
   "cell_type": "markdown",
   "id": "25647b44",
   "metadata": {},
   "source": [
    "Three different algorithms were used to develop a model with resampled (SMOTE technique) train/test sets."
   ]
  },
  {
   "cell_type": "markdown",
   "id": "46ee9644",
   "metadata": {},
   "source": [
    "First, RandomForestClassifier was used to develop a model."
   ]
  },
  {
   "cell_type": "code",
   "execution_count": 20,
   "id": "051b90f6",
   "metadata": {},
   "outputs": [],
   "source": [
    "from sklearn.ensemble import RandomForestClassifier"
   ]
  },
  {
   "cell_type": "code",
   "execution_count": 21,
   "id": "8bab2934",
   "metadata": {},
   "outputs": [],
   "source": [
    "RF=RandomForestClassifier(random_state=0,oob_score=True)\n",
    "RF.fit(X_train_sm,y_train_sm)\n",
    "ypredRF=RF.predict(X_test)"
   ]
  },
  {
   "cell_type": "code",
   "execution_count": 22,
   "id": "29064348",
   "metadata": {},
   "outputs": [
    {
     "name": "stdout",
     "output_type": "stream",
     "text": [
      "0.9594356261022927\n"
     ]
    }
   ],
   "source": [
    "print(RF.oob_score_)"
   ]
  },
  {
   "cell_type": "code",
   "execution_count": 23,
   "id": "1d522973",
   "metadata": {},
   "outputs": [],
   "source": [
    "acc_RF=accuracy_score(y_test,ypredRF)\n",
    "prec_RF=precision_score(y_test,ypredRF)\n",
    "rec_RF=recall_score(y_test,ypredRF)\n",
    "f1_RF=f1_score(y_test,ypredRF)"
   ]
  },
  {
   "cell_type": "code",
   "execution_count": 24,
   "id": "89b1811d",
   "metadata": {},
   "outputs": [
    {
     "name": "stdout",
     "output_type": "stream",
     "text": [
      "              precision    recall  f1-score   support\n",
      "\n",
      "           0       0.96      0.95      0.95      1458\n",
      "           1       0.13      0.16      0.15        75\n",
      "\n",
      "    accuracy                           0.91      1533\n",
      "   macro avg       0.54      0.55      0.55      1533\n",
      "weighted avg       0.92      0.91      0.91      1533\n",
      "\n"
     ]
    }
   ],
   "source": [
    "print(classification_report(y_test,ypredRF))"
   ]
  },
  {
   "cell_type": "code",
   "execution_count": 25,
   "id": "7db9842a",
   "metadata": {
    "scrolled": true
   },
   "outputs": [
    {
     "data": {
      "text/plain": [
       "array([[1380,   78],\n",
       "       [  63,   12]], dtype=int64)"
      ]
     },
     "execution_count": 25,
     "metadata": {},
     "output_type": "execute_result"
    }
   ],
   "source": [
    "cfrf=confusion_matrix(y_test,ypredRF)\n",
    "cfrf"
   ]
  },
  {
   "cell_type": "markdown",
   "id": "42e3151a",
   "metadata": {},
   "source": [
    "XGBoost Classifier was used secondly, to develop another model."
   ]
  },
  {
   "cell_type": "code",
   "execution_count": 26,
   "id": "bf0dcf27",
   "metadata": {},
   "outputs": [],
   "source": [
    "from xgboost import XGBClassifier"
   ]
  },
  {
   "cell_type": "code",
   "execution_count": 27,
   "id": "8db0931e",
   "metadata": {},
   "outputs": [],
   "source": [
    "xgb=XGBClassifier(learning_rate=0.1,objective='binary:logistic',random_state=0,eval_metric='error')\n",
    "xgb.fit(X_train_sm,y_train_sm)\n",
    "ypred_xgb=xgb.predict(X_test)\n"
   ]
  },
  {
   "cell_type": "code",
   "execution_count": 28,
   "id": "5cbd5fbe",
   "metadata": {},
   "outputs": [
    {
     "name": "stdout",
     "output_type": "stream",
     "text": [
      "[[1346  112]\n",
      " [  54   21]]\n"
     ]
    }
   ],
   "source": [
    "print(confusion_matrix(y_test,ypred_xgb))"
   ]
  },
  {
   "cell_type": "code",
   "execution_count": 29,
   "id": "42fbf98b",
   "metadata": {},
   "outputs": [
    {
     "name": "stdout",
     "output_type": "stream",
     "text": [
      "              precision    recall  f1-score   support\n",
      "\n",
      "           0       0.96      0.92      0.94      1458\n",
      "           1       0.16      0.28      0.20        75\n",
      "\n",
      "    accuracy                           0.89      1533\n",
      "   macro avg       0.56      0.60      0.57      1533\n",
      "weighted avg       0.92      0.89      0.91      1533\n",
      "\n"
     ]
    }
   ],
   "source": [
    "print(classification_report(y_test,ypred_xgb))"
   ]
  },
  {
   "cell_type": "code",
   "execution_count": 30,
   "id": "04821fe5",
   "metadata": {},
   "outputs": [],
   "source": [
    "acc_xgb_sm=accuracy_score(y_test,ypred_xgb)\n",
    "prec_xgb_sm=precision_score(y_test,ypred_xgb)\n",
    "rec_xgb_sm=recall_score(y_test,ypred_xgb)\n",
    "f1_xgb_sm=f1_score(y_test,ypred_xgb)"
   ]
  },
  {
   "cell_type": "markdown",
   "id": "ba0c238b",
   "metadata": {},
   "source": [
    "Lastly, LGBM Classifier was used to develop a model."
   ]
  },
  {
   "cell_type": "code",
   "execution_count": 31,
   "id": "b5acc7d2",
   "metadata": {},
   "outputs": [],
   "source": [
    "from lightgbm import LGBMClassifier"
   ]
  },
  {
   "cell_type": "code",
   "execution_count": 32,
   "id": "a8befcf2",
   "metadata": {},
   "outputs": [],
   "source": [
    "lgbm=LGBMClassifier()\n",
    "lgbm.fit(X_train_sm,y_train_sm)\n",
    "ypred_lgbm=lgbm.predict(X_test)"
   ]
  },
  {
   "cell_type": "code",
   "execution_count": 33,
   "id": "48ed1d52",
   "metadata": {
    "scrolled": true
   },
   "outputs": [
    {
     "name": "stdout",
     "output_type": "stream",
     "text": [
      "[[1393   65]\n",
      " [  61   14]]\n"
     ]
    }
   ],
   "source": [
    "print(confusion_matrix(y_test,ypred_lgbm))"
   ]
  },
  {
   "cell_type": "code",
   "execution_count": 34,
   "id": "7338540e",
   "metadata": {},
   "outputs": [
    {
     "name": "stdout",
     "output_type": "stream",
     "text": [
      "              precision    recall  f1-score   support\n",
      "\n",
      "           0       0.96      0.96      0.96      1458\n",
      "           1       0.18      0.19      0.18        75\n",
      "\n",
      "    accuracy                           0.92      1533\n",
      "   macro avg       0.57      0.57      0.57      1533\n",
      "weighted avg       0.92      0.92      0.92      1533\n",
      "\n"
     ]
    }
   ],
   "source": [
    "print(classification_report(y_test,ypred_lgbm))"
   ]
  },
  {
   "cell_type": "code",
   "execution_count": 35,
   "id": "294c3a80",
   "metadata": {},
   "outputs": [],
   "source": [
    "acc_lgbm_sm=accuracy_score(y_test,ypred_lgbm)\n",
    "prec_lgbm_sm=precision_score(y_test,ypred_lgbm)\n",
    "rec_lgbm_sm=recall_score(y_test,ypred_lgbm)\n",
    "f1_lgbm_sm=f1_score(y_test,ypred_lgbm)"
   ]
  },
  {
   "cell_type": "markdown",
   "id": "f9ff7ad7",
   "metadata": {},
   "source": [
    "<font size=\"4\">**Modelling With Oversampled Dataset (ADASYN Method)**"
   ]
  },
  {
   "cell_type": "markdown",
   "id": "075a2c21",
   "metadata": {},
   "source": [
    "Other models were developed with same algorithms but different resampling technique(ADASYN Method)"
   ]
  },
  {
   "cell_type": "markdown",
   "id": "ff9bac04",
   "metadata": {},
   "source": [
    "First, RandomForest Classifier with ADASYN oversampling techinque used train/test samples."
   ]
  },
  {
   "cell_type": "code",
   "execution_count": 36,
   "id": "9d70e7bf",
   "metadata": {},
   "outputs": [],
   "source": [
    "RF=RandomForestClassifier(random_state=0,oob_score=True)\n",
    "RF.fit(X_train_ad,y_train_ad)\n",
    "ypredRF_ad=RF.predict(X_test)"
   ]
  },
  {
   "cell_type": "code",
   "execution_count": 37,
   "id": "98ef6683",
   "metadata": {},
   "outputs": [
    {
     "name": "stdout",
     "output_type": "stream",
     "text": [
      "0.9612529691211401\n"
     ]
    }
   ],
   "source": [
    "print(RF.oob_score_)"
   ]
  },
  {
   "cell_type": "code",
   "execution_count": 38,
   "id": "85974dde",
   "metadata": {},
   "outputs": [
    {
     "name": "stdout",
     "output_type": "stream",
     "text": [
      "              precision    recall  f1-score   support\n",
      "\n",
      "           0       0.96      0.95      0.95      1458\n",
      "           1       0.14      0.17      0.15        75\n",
      "\n",
      "    accuracy                           0.91      1533\n",
      "   macro avg       0.55      0.56      0.55      1533\n",
      "weighted avg       0.92      0.91      0.91      1533\n",
      "\n"
     ]
    }
   ],
   "source": [
    "print(classification_report(y_test,ypredRF_ad))"
   ]
  },
  {
   "cell_type": "code",
   "execution_count": 39,
   "id": "acec8195",
   "metadata": {},
   "outputs": [
    {
     "data": {
      "text/plain": [
       "array([[1378,   80],\n",
       "       [  62,   13]], dtype=int64)"
      ]
     },
     "execution_count": 39,
     "metadata": {},
     "output_type": "execute_result"
    }
   ],
   "source": [
    "cfrf=confusion_matrix(y_test,ypredRF_ad)\n",
    "cfrf"
   ]
  },
  {
   "cell_type": "code",
   "execution_count": 40,
   "id": "5ecdad8c",
   "metadata": {},
   "outputs": [],
   "source": [
    "acc_RF_ad=accuracy_score(y_test,ypredRF_ad)\n",
    "prec_RF_ad=precision_score(y_test,ypredRF_ad)\n",
    "rec_RF_ad=recall_score(y_test,ypredRF_ad)\n",
    "f1_RF_ad=f1_score(y_test,ypredRF_ad)"
   ]
  },
  {
   "cell_type": "markdown",
   "id": "2f009159",
   "metadata": {},
   "source": [
    "XGBoost Classifier algorithm was used with ADASYN resampled train/test sets."
   ]
  },
  {
   "cell_type": "code",
   "execution_count": 41,
   "id": "de5f8ffa",
   "metadata": {},
   "outputs": [],
   "source": [
    "xgb=XGBClassifier(learning_rate=0.1,objective='binary:logistic',random_state=0,eval_metric='error')\n",
    "xgb.fit(X_train_ad,y_train_ad)\n",
    "ypred_xgb_ad=xgb.predict(X_test)\n"
   ]
  },
  {
   "cell_type": "code",
   "execution_count": 42,
   "id": "f104c597",
   "metadata": {},
   "outputs": [
    {
     "name": "stdout",
     "output_type": "stream",
     "text": [
      "[[1356  102]\n",
      " [  52   23]]\n"
     ]
    }
   ],
   "source": [
    "print(confusion_matrix(y_test,ypred_xgb_ad))"
   ]
  },
  {
   "cell_type": "code",
   "execution_count": 43,
   "id": "23318aa1",
   "metadata": {},
   "outputs": [
    {
     "name": "stdout",
     "output_type": "stream",
     "text": [
      "              precision    recall  f1-score   support\n",
      "\n",
      "           0       0.96      0.93      0.95      1458\n",
      "           1       0.18      0.31      0.23        75\n",
      "\n",
      "    accuracy                           0.90      1533\n",
      "   macro avg       0.57      0.62      0.59      1533\n",
      "weighted avg       0.92      0.90      0.91      1533\n",
      "\n"
     ]
    }
   ],
   "source": [
    "print(classification_report(y_test,ypred_xgb_ad))"
   ]
  },
  {
   "cell_type": "code",
   "execution_count": 44,
   "id": "6092b99f",
   "metadata": {},
   "outputs": [],
   "source": [
    "acc_xgb_ad=accuracy_score(y_test,ypred_xgb_ad)\n",
    "prec_xgb_ad=precision_score(y_test,ypred_xgb_ad)\n",
    "rec_xgb_ad=recall_score(y_test,ypred_xgb_ad)\n",
    "f1_xgb_ad=f1_score(y_test,ypred_xgb_ad)"
   ]
  },
  {
   "cell_type": "markdown",
   "id": "4ac8ff2b",
   "metadata": {},
   "source": [
    "Lastly, LGBM Classifier with ADASYN samples."
   ]
  },
  {
   "cell_type": "code",
   "execution_count": 45,
   "id": "fbc415a2",
   "metadata": {},
   "outputs": [],
   "source": [
    "lgbm=LGBMClassifier()\n",
    "lgbm.fit(X_train_ad,y_train_ad)\n",
    "ypred_lgbm_ad=lgbm.predict(X_test)"
   ]
  },
  {
   "cell_type": "code",
   "execution_count": 46,
   "id": "cd1fa4b3",
   "metadata": {},
   "outputs": [
    {
     "name": "stdout",
     "output_type": "stream",
     "text": [
      "              precision    recall  f1-score   support\n",
      "\n",
      "           0       0.96      0.95      0.96      1458\n",
      "           1       0.18      0.20      0.19        75\n",
      "\n",
      "    accuracy                           0.92      1533\n",
      "   macro avg       0.57      0.58      0.57      1533\n",
      "weighted avg       0.92      0.92      0.92      1533\n",
      "\n"
     ]
    }
   ],
   "source": [
    "print(classification_report(y_test,ypred_lgbm_ad))"
   ]
  },
  {
   "cell_type": "code",
   "execution_count": 47,
   "id": "edfcaf58",
   "metadata": {
    "scrolled": false
   },
   "outputs": [
    {
     "name": "stdout",
     "output_type": "stream",
     "text": [
      "[[1388   70]\n",
      " [  60   15]]\n"
     ]
    }
   ],
   "source": [
    "print(confusion_matrix(y_test,ypred_lgbm_ad))"
   ]
  },
  {
   "cell_type": "code",
   "execution_count": 48,
   "id": "22ae7350",
   "metadata": {},
   "outputs": [],
   "source": [
    "acc_lgbm_ad=accuracy_score(y_test,ypred_lgbm_ad)\n",
    "prec_lgbm_ad=precision_score(y_test,ypred_lgbm_ad)\n",
    "rec_lgbm_ad=recall_score(y_test,ypred_lgbm_ad)\n",
    "f1_lgbm_ad=f1_score(y_test,ypred_lgbm_ad)"
   ]
  },
  {
   "cell_type": "markdown",
   "id": "7d5d1d7f",
   "metadata": {},
   "source": [
    "<font size=\"4\">**Modelling with undersampled dataset(RandomUndersampler)**\n",
    "\n"
   ]
  },
  {
   "cell_type": "markdown",
   "id": "15713591",
   "metadata": {},
   "source": [
    "Lastly. same algorithms with another train/test sets used undersampling technique."
   ]
  },
  {
   "cell_type": "markdown",
   "id": "7bed832b",
   "metadata": {},
   "source": [
    "First, RandomForest Classifier."
   ]
  },
  {
   "cell_type": "code",
   "execution_count": 49,
   "id": "a6247e36",
   "metadata": {},
   "outputs": [],
   "source": [
    "RF=RandomForestClassifier(random_state=0,oob_score=True)\n",
    "RF.fit(X_train_us,y_train_us)\n",
    "ypred_RF_us=RF.predict(X_test)"
   ]
  },
  {
   "cell_type": "code",
   "execution_count": 50,
   "id": "dc466211",
   "metadata": {},
   "outputs": [
    {
     "name": "stdout",
     "output_type": "stream",
     "text": [
      "[[1033  425]\n",
      " [  22   53]]\n"
     ]
    }
   ],
   "source": [
    "print(confusion_matrix(y_test,ypred_RF_us))"
   ]
  },
  {
   "cell_type": "code",
   "execution_count": 51,
   "id": "54cce030",
   "metadata": {},
   "outputs": [
    {
     "name": "stdout",
     "output_type": "stream",
     "text": [
      "              precision    recall  f1-score   support\n",
      "\n",
      "           0       0.98      0.71      0.82      1458\n",
      "           1       0.11      0.71      0.19        75\n",
      "\n",
      "    accuracy                           0.71      1533\n",
      "   macro avg       0.55      0.71      0.51      1533\n",
      "weighted avg       0.94      0.71      0.79      1533\n",
      "\n"
     ]
    }
   ],
   "source": [
    "print(classification_report(y_test,ypred_RF_us))"
   ]
  },
  {
   "cell_type": "code",
   "execution_count": 52,
   "id": "caa6e00d",
   "metadata": {},
   "outputs": [
    {
     "name": "stdout",
     "output_type": "stream",
     "text": [
      "0.7528735632183908\n"
     ]
    }
   ],
   "source": [
    "print(RF.oob_score_)"
   ]
  },
  {
   "cell_type": "code",
   "execution_count": 53,
   "id": "3471eb89",
   "metadata": {},
   "outputs": [],
   "source": [
    "acc_RF_us=accuracy_score(y_test,ypred_RF_us)\n",
    "prec_RF_us=precision_score(y_test,ypred_RF_us)\n",
    "rec_RF_us=recall_score(y_test,ypred_RF_us)\n",
    "f1_RF_us=f1_score(y_test,ypred_RF_us)"
   ]
  },
  {
   "cell_type": "markdown",
   "id": "6d2566e0",
   "metadata": {},
   "source": [
    "Secondly, XGBoost Classifier."
   ]
  },
  {
   "cell_type": "code",
   "execution_count": 54,
   "id": "b00b70c6",
   "metadata": {},
   "outputs": [],
   "source": [
    "xgb=XGBClassifier(learning_rate=0.1,objective='binary:logistic',random_state=0,eval_metric='error')\n",
    "xgb.fit(X_train_us,y_train_us)\n",
    "ypred_xgb_us=xgb.predict(X_test)\n"
   ]
  },
  {
   "cell_type": "code",
   "execution_count": 55,
   "id": "a5d67835",
   "metadata": {},
   "outputs": [
    {
     "name": "stdout",
     "output_type": "stream",
     "text": [
      "              precision    recall  f1-score   support\n",
      "\n",
      "           0       0.98      0.70      0.82      1458\n",
      "           1       0.10      0.68      0.18        75\n",
      "\n",
      "    accuracy                           0.70      1533\n",
      "   macro avg       0.54      0.69      0.50      1533\n",
      "weighted avg       0.93      0.70      0.79      1533\n",
      "\n"
     ]
    }
   ],
   "source": [
    "print(classification_report(y_test,ypred_xgb_us))"
   ]
  },
  {
   "cell_type": "code",
   "execution_count": 56,
   "id": "4016570b",
   "metadata": {},
   "outputs": [
    {
     "name": "stdout",
     "output_type": "stream",
     "text": [
      "[[1022  436]\n",
      " [  24   51]]\n"
     ]
    }
   ],
   "source": [
    "print(confusion_matrix(y_test,ypred_xgb_us))"
   ]
  },
  {
   "cell_type": "code",
   "execution_count": 57,
   "id": "12c2df56",
   "metadata": {},
   "outputs": [],
   "source": [
    "acc_xgb_us=accuracy_score(y_test,ypred_xgb_us)\n",
    "prec_xgb_us=precision_score(y_test,ypred_xgb_us)\n",
    "rec_xgb_us=recall_score(y_test,ypred_xgb_us)\n",
    "f1_xgb_us=f1_score(y_test,ypred_xgb_us)"
   ]
  },
  {
   "cell_type": "markdown",
   "id": "59329f42",
   "metadata": {},
   "source": [
    "Lastly, LGBM Classifier with undersampled train/test sets."
   ]
  },
  {
   "cell_type": "code",
   "execution_count": 58,
   "id": "6a4706f9",
   "metadata": {},
   "outputs": [],
   "source": [
    "lgbm=LGBMClassifier()\n",
    "lgbm.fit(X_train_us,y_train_us)\n",
    "ypred_lgbm_us=lgbm.predict(X_test)"
   ]
  },
  {
   "cell_type": "code",
   "execution_count": 59,
   "id": "65287050",
   "metadata": {},
   "outputs": [
    {
     "name": "stdout",
     "output_type": "stream",
     "text": [
      "              precision    recall  f1-score   support\n",
      "\n",
      "           0       0.98      0.70      0.82      1458\n",
      "           1       0.12      0.77      0.21        75\n",
      "\n",
      "    accuracy                           0.71      1533\n",
      "   macro avg       0.55      0.74      0.51      1533\n",
      "weighted avg       0.94      0.71      0.79      1533\n",
      "\n"
     ]
    }
   ],
   "source": [
    "print(classification_report(y_test,ypred_lgbm_us))"
   ]
  },
  {
   "cell_type": "code",
   "execution_count": 60,
   "id": "f6693bb1",
   "metadata": {},
   "outputs": [
    {
     "name": "stdout",
     "output_type": "stream",
     "text": [
      "[[1027  431]\n",
      " [  17   58]]\n"
     ]
    }
   ],
   "source": [
    "print(confusion_matrix(y_test,ypred_lgbm_us))"
   ]
  },
  {
   "cell_type": "code",
   "execution_count": 61,
   "id": "d8402331",
   "metadata": {},
   "outputs": [],
   "source": [
    "acc_lgbm_us=accuracy_score(y_test,ypred_lgbm_us)\n",
    "prec_lgbm_us=precision_score(y_test,ypred_lgbm_us)\n",
    "rec_lgbm_us=recall_score(y_test,ypred_lgbm_us)\n",
    "f1_lgbm_us=f1_score(y_test,ypred_lgbm_us)"
   ]
  },
  {
   "cell_type": "markdown",
   "id": "926e4844",
   "metadata": {},
   "source": [
    "Next, a table was created with all the scores stored for each algorithm and resampling techinque in different variables for comparison"
   ]
  },
  {
   "cell_type": "code",
   "execution_count": 62,
   "id": "9a6080a1",
   "metadata": {},
   "outputs": [],
   "source": [
    "table=[]"
   ]
  },
  {
   "cell_type": "code",
   "execution_count": 63,
   "id": "ce762caf",
   "metadata": {},
   "outputs": [],
   "source": [
    "t1=[acc_RF,prec_RF,rec_RF,f1_RF]\n",
    "t2=[acc_xgb_sm,prec_xgb_sm,rec_xgb_sm,f1_xgb_sm]\n",
    "t3=[acc_lgbm_sm,prec_lgbm_sm,rec_lgbm_sm,f1_lgbm_sm]\n",
    "t4=[acc_RF_ad,prec_RF_ad,rec_RF_ad,f1_RF_ad]\n",
    "t5=[acc_xgb_ad,prec_xgb_ad,rec_xgb_ad,f1_xgb_ad]\n",
    "t6=[acc_lgbm_ad,prec_lgbm_ad,rec_lgbm_ad,f1_lgbm_ad]\n",
    "t7=[acc_RF_us,prec_RF_us,rec_RF_us,f1_RF_us]\n",
    "t8=[acc_xgb_us,prec_xgb_us,rec_xgb_us,f1_xgb_us]\n",
    "t9=[acc_lgbm_us,prec_lgbm_us,rec_lgbm_us,f1_lgbm_us]"
   ]
  },
  {
   "cell_type": "markdown",
   "id": "040af113",
   "metadata": {},
   "source": [
    "Dataframe is created and list of scores for each algorithms are appended to the table."
   ]
  },
  {
   "cell_type": "code",
   "execution_count": 64,
   "id": "6303e6ba",
   "metadata": {
    "scrolled": true
   },
   "outputs": [],
   "source": [
    "table.append(t1)\n",
    "df2 = pd.DataFrame(table,index=['Random Forest SMOTE'],columns=['Accuracy_score','Precision_score','Recall','F1Score'])"
   ]
  },
  {
   "cell_type": "code",
   "execution_count": 65,
   "id": "31f8607d",
   "metadata": {
    "scrolled": false
   },
   "outputs": [],
   "source": [
    "df2.loc[len(df2)]=t2\n",
    "df2.loc[len(df2)]=t3\n",
    "df2.loc[len(df2)]=t4\n",
    "df2.loc[len(df2)]=t5\n",
    "df2.loc[len(df2)]=t6\n",
    "df2.loc[len(df2)]=t7\n",
    "df2.loc[len(df2)]=t8\n",
    "df2.loc[len(df2)]=t9"
   ]
  },
  {
   "cell_type": "markdown",
   "id": "8dc29507",
   "metadata": {},
   "source": [
    "Table with accuracy, precision, recall and F1 score for each algorithm and resampling technique is created."
   ]
  },
  {
   "cell_type": "code",
   "execution_count": 66,
   "id": "2f2f8a43",
   "metadata": {
    "scrolled": false
   },
   "outputs": [
    {
     "data": {
      "text/html": [
       "<div>\n",
       "<style scoped>\n",
       "    .dataframe tbody tr th:only-of-type {\n",
       "        vertical-align: middle;\n",
       "    }\n",
       "\n",
       "    .dataframe tbody tr th {\n",
       "        vertical-align: top;\n",
       "    }\n",
       "\n",
       "    .dataframe thead th {\n",
       "        text-align: right;\n",
       "    }\n",
       "</style>\n",
       "<table border=\"1\" class=\"dataframe\">\n",
       "  <thead>\n",
       "    <tr style=\"text-align: right;\">\n",
       "      <th></th>\n",
       "      <th>Accuracy_score</th>\n",
       "      <th>Precision_score</th>\n",
       "      <th>Recall</th>\n",
       "      <th>F1Score</th>\n",
       "    </tr>\n",
       "  </thead>\n",
       "  <tbody>\n",
       "    <tr>\n",
       "      <th>LGBM SMOTE</th>\n",
       "      <td>0.917808</td>\n",
       "      <td>0.177215</td>\n",
       "      <td>0.186667</td>\n",
       "      <td>0.181818</td>\n",
       "    </tr>\n",
       "    <tr>\n",
       "      <th>LGBM ADASYN</th>\n",
       "      <td>0.915199</td>\n",
       "      <td>0.176471</td>\n",
       "      <td>0.200000</td>\n",
       "      <td>0.187500</td>\n",
       "    </tr>\n",
       "    <tr>\n",
       "      <th>Random Forest SMOTE</th>\n",
       "      <td>0.908023</td>\n",
       "      <td>0.133333</td>\n",
       "      <td>0.160000</td>\n",
       "      <td>0.145455</td>\n",
       "    </tr>\n",
       "    <tr>\n",
       "      <th>Random Forest ADASYN</th>\n",
       "      <td>0.907371</td>\n",
       "      <td>0.139785</td>\n",
       "      <td>0.173333</td>\n",
       "      <td>0.154762</td>\n",
       "    </tr>\n",
       "    <tr>\n",
       "      <th>XGBoost Adasyn</th>\n",
       "      <td>0.899543</td>\n",
       "      <td>0.184000</td>\n",
       "      <td>0.306667</td>\n",
       "      <td>0.230000</td>\n",
       "    </tr>\n",
       "    <tr>\n",
       "      <th>XGBoost SMOTE</th>\n",
       "      <td>0.891716</td>\n",
       "      <td>0.157895</td>\n",
       "      <td>0.280000</td>\n",
       "      <td>0.201923</td>\n",
       "    </tr>\n",
       "    <tr>\n",
       "      <th>Random Forest Undersample</th>\n",
       "      <td>0.708415</td>\n",
       "      <td>0.110879</td>\n",
       "      <td>0.706667</td>\n",
       "      <td>0.191682</td>\n",
       "    </tr>\n",
       "    <tr>\n",
       "      <th>LGBM Undersample</th>\n",
       "      <td>0.707763</td>\n",
       "      <td>0.118609</td>\n",
       "      <td>0.773333</td>\n",
       "      <td>0.205674</td>\n",
       "    </tr>\n",
       "    <tr>\n",
       "      <th>XGBoost Undersample</th>\n",
       "      <td>0.699935</td>\n",
       "      <td>0.104723</td>\n",
       "      <td>0.680000</td>\n",
       "      <td>0.181495</td>\n",
       "    </tr>\n",
       "  </tbody>\n",
       "</table>\n",
       "</div>"
      ],
      "text/plain": [
       "                           Accuracy_score  Precision_score    Recall   F1Score\n",
       "LGBM SMOTE                       0.917808         0.177215  0.186667  0.181818\n",
       "LGBM ADASYN                      0.915199         0.176471  0.200000  0.187500\n",
       "Random Forest SMOTE              0.908023         0.133333  0.160000  0.145455\n",
       "Random Forest ADASYN             0.907371         0.139785  0.173333  0.154762\n",
       "XGBoost Adasyn                   0.899543         0.184000  0.306667  0.230000\n",
       "XGBoost SMOTE                    0.891716         0.157895  0.280000  0.201923\n",
       "Random Forest Undersample        0.708415         0.110879  0.706667  0.191682\n",
       "LGBM Undersample                 0.707763         0.118609  0.773333  0.205674\n",
       "XGBoost Undersample              0.699935         0.104723  0.680000  0.181495"
      ]
     },
     "execution_count": 66,
     "metadata": {},
     "output_type": "execute_result"
    }
   ],
   "source": [
    "df2=df2.rename(index={1:'XGBoost SMOTE',2:'LGBM SMOTE',3:'Random Forest ADASYN',4:'XGBoost Adasyn',5:'LGBM ADASYN',6:'Random Forest Undersample',7:'XGBoost Undersample',8:'LGBM Undersample'})\n",
    "df2.sort_values(by='Accuracy_score',ascending=False)"
   ]
  },
  {
   "cell_type": "markdown",
   "id": "2923d24a",
   "metadata": {},
   "source": [
    "The table above was ordered with accuracy score of each model and LGBM had highest accuracy score. Overall, all the models trained with SMOTE resampling techinque used has high scores in general."
   ]
  },
  {
   "cell_type": "markdown",
   "id": "c90504bb",
   "metadata": {},
   "source": [
    "<font size=\"4\">**Model Hyperparameter Tuning (Oversampled Data with SMOTE)**"
   ]
  },
  {
   "cell_type": "markdown",
   "id": "b92363ce",
   "metadata": {},
   "source": [
    "RandomForest Classifier hyperparameter tuning using GridSearchCV"
   ]
  },
  {
   "cell_type": "code",
   "execution_count": 74,
   "id": "73d257de",
   "metadata": {},
   "outputs": [],
   "source": [
    "from sklearn.model_selection import GridSearchCV"
   ]
  },
  {
   "cell_type": "code",
   "execution_count": 73,
   "id": "2bf79af7",
   "metadata": {},
   "outputs": [],
   "source": [
    "param_grid={\n",
    "    'n_estimators':np.arange(1,50),\n",
    "    'max_depth':[4,5,6,7,8],\n",
    "    'criterion':['gini','entropy'],\n",
    "    'max_features':[3,5,7],\n",
    "    'min_samples_split':[1,2,3]\n",
    "           }"
   ]
  },
  {
   "cell_type": "code",
   "execution_count": 107,
   "id": "6cc73092",
   "metadata": {},
   "outputs": [
    {
     "name": "stdout",
     "output_type": "stream",
     "text": [
      "Fitting 3 folds for each of 1176 candidates, totalling 3528 fits\n",
      "              precision    recall  f1-score   support\n",
      "\n",
      "           0       0.98      0.66      0.79      1458\n",
      "           1       0.10      0.73      0.18        75\n",
      "\n",
      "    accuracy                           0.67      1533\n",
      "   macro avg       0.54      0.70      0.48      1533\n",
      "weighted avg       0.94      0.67      0.76      1533\n",
      "\n",
      "[[965 493]\n",
      " [ 20  55]]\n"
     ]
    }
   ],
   "source": [
    "RF=RandomForestClassifier()\n",
    "rf_grid=GridSearchCV(estimator=RF,param_grid=param_grid,cv=3,n_jobs=-1,verbose=2,scoring=\"recall\")\n",
    "rf_grid.fit(X_train_ad,y_train_ad)\n",
    "y_pred_rf=rf_grid.predict(X_test)\n",
    "print(classification_report(y_test,y_pred_rf))\n",
    "print(confusion_matrix(y_test,y_pred_rf))"
   ]
  },
  {
   "cell_type": "code",
   "execution_count": 127,
   "id": "7ee5aba3",
   "metadata": {},
   "outputs": [],
   "source": [
    "clf_rpt=classification_report(y_test,y_pred_rf,target_names=['negative','positive'])"
   ]
  },
  {
   "cell_type": "code",
   "execution_count": 116,
   "id": "05a212d5",
   "metadata": {},
   "outputs": [],
   "source": [
    "from sklearn.metrics import precision_score"
   ]
  },
  {
   "cell_type": "code",
   "execution_count": 121,
   "id": "ffd3e46e",
   "metadata": {},
   "outputs": [
    {
     "name": "stdout",
     "output_type": "stream",
     "text": [
      "0.9550081806741825\n",
      "{'criterion': 'entropy', 'max_depth': 5, 'max_features': 3, 'n_estimators': 41}\n"
     ]
    }
   ],
   "source": [
    "print(rf_grid.best_score_)\n",
    "print(rf_grid.best_params_)"
   ]
  },
  {
   "cell_type": "markdown",
   "id": "315fc241",
   "metadata": {},
   "source": [
    "RandomForest Classifier hyperparameter tuning using ParameterGrid(oob_score)"
   ]
  },
  {
   "cell_type": "code",
   "execution_count": 71,
   "id": "4116e63c",
   "metadata": {},
   "outputs": [],
   "source": [
    "from sklearn.model_selection import ParameterGrid"
   ]
  },
  {
   "cell_type": "code",
   "execution_count": 72,
   "id": "7df6373f",
   "metadata": {},
   "outputs": [],
   "source": [
    "rf=RandomForestClassifier(oob_score=True)\n",
    "param_grid={\n",
    "    'n_estimators':np.arange(1,50),\n",
    "    'max_depth':[5,6,7,8],\n",
    "    'criterion':['gini','entropy'],\n",
    "    'max_features':[3,5,7],\n",
    "    #'min_samples_split':[2,3,4]\n",
    "           }"
   ]
  },
  {
   "cell_type": "code",
   "execution_count": 73,
   "id": "72190bbe",
   "metadata": {},
   "outputs": [
    {
     "name": "stdout",
     "output_type": "stream",
     "text": [
      "OOB: 0.88580\n",
      "Grid: {'criterion': 'entropy', 'max_depth': 8, 'max_features': 3, 'n_estimators': 38}\n"
     ]
    }
   ],
   "source": [
    "best_score=0\n",
    "for g in ParameterGrid(param_grid):\n",
    "    rf.set_params(**g)\n",
    "    rf.fit(X_train_sm,y_train_sm)\n",
    "    # save if best\n",
    "    if rf.oob_score_ > best_score:\n",
    "        best_score = rf.oob_score_\n",
    "        best_grid = g\n",
    "\n",
    "print (\"OOB: %0.5f\" % best_score) \n",
    "print (\"Grid:\", best_grid)"
   ]
  },
  {
   "cell_type": "code",
   "execution_count": 81,
   "id": "fa8861ed",
   "metadata": {
    "scrolled": true
   },
   "outputs": [
    {
     "name": "stdout",
     "output_type": "stream",
     "text": [
      "              precision    recall  f1-score   support\n",
      "\n",
      "           0       0.97      0.76      0.86      1458\n",
      "           1       0.11      0.56      0.18        75\n",
      "\n",
      "    accuracy                           0.75      1533\n",
      "   macro avg       0.54      0.66      0.52      1533\n",
      "weighted avg       0.93      0.75      0.82      1533\n",
      "\n",
      "0.76\n"
     ]
    }
   ],
   "source": [
    "rf=RandomForestClassifier(criterion= 'entropy', max_depth= 8, max_features= 3, n_estimators=34)\n",
    "rf.fit(X_train_sm,y_train_sm)\n",
    "y_pred_rf=rf.predict(X_test)\n",
    "print(classification_report(y_test,y_pred_rf))\n",
    "y_scores_rf=rf.predict_proba(X_test)[:,1]\n",
    "f_rf,t_rf,_=roc_curve(y_test,y_scores_rf)\n",
    "roc_auc_rf=auc(f_rf,t_rf)\n",
    "print(round(roc_auc_rf,2))"
   ]
  },
  {
   "cell_type": "code",
   "execution_count": 82,
   "id": "ff7af109",
   "metadata": {},
   "outputs": [
    {
     "data": {
      "image/png": "[encoded data removed]",
      "text/plain": [
       "<Figure size 432x288 with 1 Axes>"
      ]
     },
     "metadata": {
      "needs_background": "light"
     },
     "output_type": "display_data"
    }
   ],
   "source": [
    "plt.plot([0, 1], [0, 1], 'k--')\n",
    "plt.plot(f_rf, t_rf)\n",
    "plt.xlabel('False Positive Rate')\n",
    "plt.ylabel('True Positive Rate')\n",
    "plt.title('ROC Curve')\n",
    "plt.show()"
   ]
  },
  {
   "cell_type": "markdown",
   "id": "3912b226",
   "metadata": {},
   "source": [
    "Two method was used for hyperparameter tuning of RandomForestClassifier. First is gridsearchCV and the second method was using parameter grid by best oob score."
   ]
  },
  {
   "cell_type": "markdown",
   "id": "adef1ff4",
   "metadata": {},
   "source": [
    "Hyperparameter tuning of XGBoost Classifier using RandomizedSearchCV"
   ]
  },
  {
   "cell_type": "code",
   "execution_count": 67,
   "id": "c9e67da5",
   "metadata": {},
   "outputs": [],
   "source": [
    "from sklearn.model_selection import RandomizedSearchCV"
   ]
  },
  {
   "cell_type": "code",
   "execution_count": 72,
   "id": "56d8c0c9",
   "metadata": {},
   "outputs": [
    {
     "name": "stdout",
     "output_type": "stream",
     "text": [
      "Fitting 5 folds for each of 5 candidates, totalling 25 fits\n",
      "{'subsample': 0.6, 'n_estimators': 1000, 'max_depth': 10, 'learning_rate': 0.2, 'colsample_bytree': 0.6}\n",
      "0.9623572600846506\n",
      "[[1400   58]\n",
      " [  63   12]]\n",
      "              precision    recall  f1-score   support\n",
      "\n",
      "           0       0.96      0.96      0.96      1458\n",
      "           1       0.17      0.16      0.17        75\n",
      "\n",
      "    accuracy                           0.92      1533\n",
      "   macro avg       0.56      0.56      0.56      1533\n",
      "weighted avg       0.92      0.92      0.92      1533\n",
      "\n",
      "0.56\n"
     ]
    }
   ],
   "source": [
    "xgb=XGBClassifier(objective='binary:logistic',random_state=0,eval_metric='auc',)\n",
    "params={ 'max_depth': [3, 5, 6, 10],\n",
    "           'learning_rate': [0.1, 0.2, 0.3, 0.4],\n",
    "           'subsample': np.arange(0.6, 0.8, 1.0),\n",
    "           'colsample_bytree': np.arange(0.4, 1.0, 0.1),\n",
    "           'n_estimators': [100, 500, 1000,10000]}\n",
    "random_search=RandomizedSearchCV(xgb,param_distributions=params,n_iter=5,n_jobs=4,verbose=2,scoring='recall')\n",
    "random_search.fit(X_train_sm,y_train_sm)\n",
    "rs_ypred=random_search.predict(X_test)\n",
    "print(random_search.best_params_)\n",
    "print(random_search.best_score_)\n",
    "print(confusion_matrix(y_test,rs_ypred))\n",
    "print(classification_report(y_test,rs_ypred))\n",
    "y_scores_xgb=random_search.predict_proba(X_test)[:,1]\n",
    "f_xgb,t_xgb,_=roc_curve(y_test,rs_ypred)\n",
    "roc_auc_xgb=auc(f_xgb,t_xgb)\n",
    "print(round(roc_auc_xgb,2))"
   ]
  },
  {
   "cell_type": "code",
   "execution_count": 89,
   "id": "32a12ef3",
   "metadata": {},
   "outputs": [
    {
     "data": {
      "image/png": "[encoded data removed]",
      "text/plain": [
       "<Figure size 432x288 with 1 Axes>"
      ]
     },
     "metadata": {
      "needs_background": "light"
     },
     "output_type": "display_data"
    }
   ],
   "source": [
    "plt.plot([0, 1], [0, 1], 'k--')\n",
    "plt.plot(f_xgb, t_xgb)\n",
    "plt.xlabel('False Positive Rate')\n",
    "plt.ylabel('True Positive Rate')\n",
    "plt.title('ROC Curve')\n",
    "plt.show()"
   ]
  },
  {
   "cell_type": "markdown",
   "id": "db3204ed",
   "metadata": {},
   "source": [
    "Hyperparameter tuning of LGBM Classifier using RandomizedSearchCV"
   ]
  },
  {
   "cell_type": "code",
   "execution_count": 112,
   "id": "f0ae7d5a",
   "metadata": {},
   "outputs": [
    {
     "name": "stdout",
     "output_type": "stream",
     "text": [
      "Fitting 10 folds for each of 10 candidates, totalling 100 fits\n",
      "[LightGBM] [Warning] min_data_in_leaf is set=10, min_child_samples=20 will be ignored. Current value: min_data_in_leaf=10\n",
      "{'subsample': 0.6, 'random_state': 42, 'objective': 'binary', 'num_leaves': 140, 'min_split_gain': 0.01, 'min_data_in_leaf': 10, 'metric': 'auc', 'max_depth': 6, 'learning_rate': 0.01, 'colsample_bytree': 0.6, 'boosting_type': 'gbdt'}\n",
      "0.9454154753555952\n",
      "[[1151  307]\n",
      " [  30   45]]\n",
      "              precision    recall  f1-score   support\n",
      "\n",
      "           0       0.97      0.79      0.87      1458\n",
      "           1       0.13      0.60      0.21        75\n",
      "\n",
      "    accuracy                           0.78      1533\n",
      "   macro avg       0.55      0.69      0.54      1533\n",
      "weighted avg       0.93      0.78      0.84      1533\n",
      "\n",
      "0.69\n"
     ]
    }
   ],
   "source": [
    "lgbm=LGBMClassifier()\n",
    "params_lgbm = {\n",
    "    'learning_rate': [0.05,0.01,0.0001],\n",
    "    'num_leaves': [90,140,200],\n",
    "    'boosting_type' : ['gbdt'],\n",
    "    'objective' : ['binary'],\n",
    "    'max_depth' : [4,5,6,7],\n",
    "    'random_state' : [42], \n",
    "    'colsample_bytree' : [0.6,0.7,0.8,1.0],\n",
    "    'subsample' : [0.5,0.6,0.7,0.8,1.0],\n",
    "    'min_split_gain' : [0.01],\n",
    "    'min_data_in_leaf':[10],\n",
    "    'metric':['auc']\n",
    "    }\n",
    "clf=LGBMClassifier()\n",
    "LGBMRS=RandomizedSearchCV(clf,param_distributions=params_lgbm,verbose=2,cv=10,n_jobs=-1,n_iter=10,scoring='recall')\n",
    "LGBMRS.fit(X_train_ad,y_train_ad)\n",
    "ypred_lgbm=LGBMRS.predict(X_test)\n",
    "print(LGBMRS.best_params_)\n",
    "print(LGBMRS.best_score_)\n",
    "print(confusion_matrix(y_test,ypred_lgbm))\n",
    "print(classification_report(y_test,ypred_lgbm))\n",
    "y_scores_lgbm=LGBMRS.predict_proba(X_test)[:,1]\n",
    "f_lgbm,t_lgbm,_=roc_curve(y_test,ypred_lgbm)\n",
    "roc_auc_lgbm=auc(f_lgbm,t_lgbm)\n",
    "print(round(roc_auc_lgbm,2))"
   ]
  },
  {
   "cell_type": "code",
   "execution_count": 110,
   "id": "e299e788",
   "metadata": {
    "scrolled": true
   },
   "outputs": [
    {
     "data": {
      "image/png": "[encoded data removed]",
      "text/plain": [
       "<Figure size 432x288 with 1 Axes>"
      ]
     },
     "metadata": {
      "needs_background": "light"
     },
     "output_type": "display_data"
    }
   ],
   "source": [
    "plt.plot([0, 1], [0, 1], 'k--')\n",
    "plt.plot(f_lgbm, t_lgbm)\n",
    "plt.xlabel('False Positive Rate')\n",
    "plt.ylabel('True Positive Rate')\n",
    "plt.title('ROC Curve')\n",
    "plt.show()"
   ]
  },
  {
   "cell_type": "code",
   "execution_count": 146,
   "id": "f22f3c55",
   "metadata": {},
   "outputs": [
    {
     "data": {
      "text/html": [
       "<div>\n",
       "<style scoped>\n",
       "    .dataframe tbody tr th:only-of-type {\n",
       "        vertical-align: middle;\n",
       "    }\n",
       "\n",
       "    .dataframe tbody tr th {\n",
       "        vertical-align: top;\n",
       "    }\n",
       "\n",
       "    .dataframe thead th {\n",
       "        text-align: right;\n",
       "    }\n",
       "</style>\n",
       "<table border=\"1\" class=\"dataframe\">\n",
       "  <thead>\n",
       "    <tr style=\"text-align: right;\">\n",
       "      <th></th>\n",
       "      <th>precision, class:negative</th>\n",
       "      <th>precision, class:positive</th>\n",
       "      <th>recall, class:negative</th>\n",
       "      <th>recall, class:positive</th>\n",
       "      <th>f1, class:negative</th>\n",
       "      <th>f1, class:positive</th>\n",
       "      <th>ROC_AUC</th>\n",
       "      <th>total negative</th>\n",
       "      <th>total positive</th>\n",
       "    </tr>\n",
       "  </thead>\n",
       "  <tbody>\n",
       "    <tr>\n",
       "      <th>Random Forest</th>\n",
       "      <td>0.98</td>\n",
       "      <td>0.10</td>\n",
       "      <td>0.66</td>\n",
       "      <td>0.73</td>\n",
       "      <td>0.79</td>\n",
       "      <td>0.18</td>\n",
       "      <td>0.76</td>\n",
       "      <td>1458</td>\n",
       "      <td>75</td>\n",
       "    </tr>\n",
       "    <tr>\n",
       "      <th>XGBoost</th>\n",
       "      <td>0.96</td>\n",
       "      <td>0.19</td>\n",
       "      <td>0.96</td>\n",
       "      <td>0.19</td>\n",
       "      <td>0.96</td>\n",
       "      <td>0.19</td>\n",
       "      <td>0.57</td>\n",
       "      <td>1458</td>\n",
       "      <td>75</td>\n",
       "    </tr>\n",
       "    <tr>\n",
       "      <th>LGBM</th>\n",
       "      <td>0.97</td>\n",
       "      <td>0.13</td>\n",
       "      <td>0.87</td>\n",
       "      <td>0.60</td>\n",
       "      <td>0.87</td>\n",
       "      <td>0.21</td>\n",
       "      <td>0.69</td>\n",
       "      <td>1458</td>\n",
       "      <td>75</td>\n",
       "    </tr>\n",
       "  </tbody>\n",
       "</table>\n",
       "</div>"
      ],
      "text/plain": [
       "               precision, class:negative  precision, class:positive  \\\n",
       "Random Forest                       0.98                       0.10   \n",
       "XGBoost                             0.96                       0.19   \n",
       "LGBM                                0.97                       0.13   \n",
       "\n",
       "               recall, class:negative  recall, class:positive  \\\n",
       "Random Forest                    0.66                    0.73   \n",
       "XGBoost                          0.96                    0.19   \n",
       "LGBM                             0.87                    0.60   \n",
       "\n",
       "               f1, class:negative  f1, class:positive  ROC_AUC  \\\n",
       "Random Forest                0.79                0.18     0.76   \n",
       "XGBoost                      0.96                0.19     0.57   \n",
       "LGBM                         0.87                0.21     0.69   \n",
       "\n",
       "               total negative  total positive  \n",
       "Random Forest            1458              75  \n",
       "XGBoost                  1458              75  \n",
       "LGBM                     1458              75  "
      ]
     },
     "execution_count": 146,
     "metadata": {},
     "output_type": "execute_result"
    }
   ],
   "source": [
    "data={'precision, class:negative':[0.98,0.96,0.97],'precision, class:positive':[0.10,0.19,0.13],'recall, class:negative':[0.66,0.96,0.87],\n",
    "     'recall, class:positive':[0.73,0.16,0.60],'f1, class:negative':[0.79,0.96,0.87],'f1, class:positive':[0.18,0.19,0.21],'ROC_AUC':[0.76,0.57,0.69],'total negative':[1458,1458,1458],'total positive':[75,75,75]}\n",
    "table_final=pd.DataFrame.from_dict(data)\n",
    "table_final=table_final.rename(index={0:'Random Forest',1:'XGBoost',2:'LGBM'})\n",
    "table_final"
   ]
  },
  {
   "cell_type": "markdown",
   "id": "d21d8f7a",
   "metadata": {},
   "source": [
    "### Feature Importance"
   ]
  },
  {
   "cell_type": "markdown",
   "id": "d0c3a42b",
   "metadata": {},
   "source": [
    "Since Random Forest Classifier performed the best out of the three models, importance of each feature was calculated with the RandomForestClassifier model."
   ]
  },
  {
   "cell_type": "code",
   "execution_count": 83,
   "id": "8f6cbca5",
   "metadata": {},
   "outputs": [
    {
     "data": {
      "text/plain": [
       "Index(['age', 'hypertension', 'heart_disease', 'avg_glucose_level', 'bmi',\n",
       "       'gender_Female', 'gender_Male', 'ever_married_No', 'ever_married_Yes',\n",
       "       'work_type_Govt_job', 'work_type_Never_worked', 'work_type_Private',\n",
       "       'work_type_Self-employed', 'work_type_children', 'Residence_type_Rural',\n",
       "       'Residence_type_Urban', 'smoking_status_Unknown',\n",
       "       'smoking_status_formerly smoked', 'smoking_status_never smoked',\n",
       "       'smoking_status_smokes'],\n",
       "      dtype='object')"
      ]
     },
     "execution_count": 83,
     "metadata": {},
     "output_type": "execute_result"
    }
   ],
   "source": [
    "X_train_sm.columns"
   ]
  },
  {
   "cell_type": "code",
   "execution_count": 81,
   "id": "91f06cf9",
   "metadata": {},
   "outputs": [
    {
     "data": {
      "text/plain": [
       "array([0.43006828, 0.00312992, 0.00063255, 0.07222661, 0.04891421,\n",
       "       0.00818573, 0.00894652, 0.19485899, 0.01811299, 0.00985232,\n",
       "       0.        , 0.01401881, 0.00354155, 0.09902526, 0.00507552,\n",
       "       0.00328295, 0.02972464, 0.00166641, 0.03956406, 0.00917267])"
      ]
     },
     "execution_count": 81,
     "metadata": {},
     "output_type": "execute_result"
    }
   ],
   "source": [
    "importances=rf_grid.best_estimator_.feature_importances_\n",
    "importances"
   ]
  },
  {
   "cell_type": "code",
   "execution_count": 119,
   "id": "eb039147",
   "metadata": {},
   "outputs": [],
   "source": [
    "std = np.std([tree.feature_importances_ for tree in rf_grid.best_estimator_], axis=0)"
   ]
  },
  {
   "cell_type": "code",
   "execution_count": 120,
   "id": "b0fcedee",
   "metadata": {},
   "outputs": [],
   "source": [
    "std=pd.Series(std11,index=X_train_sm.columns)\n",
    "std.sort_values(ascending=False)\n",
    "std11=std11.head(9)"
   ]
  },
  {
   "cell_type": "code",
   "execution_count": 121,
   "id": "ac9d21c5",
   "metadata": {},
   "outputs": [],
   "source": [
    "forest_importances1=forest_importances.sort_values(ascending=False).head(9)"
   ]
  },
  {
   "cell_type": "code",
   "execution_count": 122,
   "id": "d4427bab",
   "metadata": {
    "scrolled": true
   },
   "outputs": [
    {
     "data": {
      "image/png": "[encoded data removed]",
      "text/plain": [
       "<Figure size 432x288 with 1 Axes>"
      ]
     },
     "metadata": {
      "needs_background": "light"
     },
     "output_type": "display_data"
    }
   ],
   "source": [
    "forest_importances = pd.Series(importances, index=X_train_sm.columns)\n",
    "\n",
    "fig, ax = plt.subplots()\n",
    "forest_importances1.plot.bar(yerr=std111, ax=ax)\n",
    "ax.set_title(\"Feature importances using MDI\")\n",
    "ax.set_ylabel(\"Mean decrease in impurity\")\n",
    "fig.tight_layout()"
   ]
  },
  {
   "cell_type": "markdown",
   "id": "30ed1dc5",
   "metadata": {},
   "source": [
    "Top 9 features were plotted on the graph above and as a result, Age was the most imporatant feature that affects the cause of stroke. Martial Status, work type, glucose level and bmi are followed by the orders."
   ]
  },
  {
   "cell_type": "markdown",
   "id": "c61d73fd",
   "metadata": {},
   "source": [
    "<font size=\"4\"> Conclusion"
   ]
  },
  {
   "cell_type": "markdown",
   "id": "f397f9f2",
   "metadata": {},
   "source": [
    "Stroke prediction models were developed using different classification models including:\n",
    "- RandomForestClassification\n",
    "- XGBoost Classifier\n",
    "- LGBM Classifier\n",
    "\n",
    "Also different train/test samples were used to develop the models. Resampling techinques using SMOTE and ADASYN method from over sampling and Random Undersampling from undersampling technique to deal with imbalanced classification. \n",
    "To evaluate the model performance, accuracy, precision, recall and F1 scores were calculated. Models with high accruracy scores were used for tuning to identify the hyperparameter of each models. \n",
    "For model tuning, GridSearchCV, ParameterGrid(oob_score),RandomizedSearchCV were used to determine the hyperparameter.\n",
    "The optimized hyperparameters were used to calculate the ROC-AUC score and the RandomForestClassifier had the highest score with 0.76."
   ]
  },
  {
   "cell_type": "markdown",
   "id": "dcc918eb",
   "metadata": {},
   "source": [
    "The RandomForest Classifier algorithm model would be appropriate since it performs the best out of 3 models. Also, for this case, it is very important to optimize the minimal False Negative and maximize the True Positive. The goal of this model is to predict the stroke cases and having a large number of false negative would completely fail the purpose of the model. Therefore even if the model has high false positive, it is better to have lower false negative because there should not be a single person who thinks they do not have stroke when they actually do. This is the reason why recall score was prioritized when hyperparameter tunings were conducted for each models."
   ]
  }
 ],
 "metadata": {
  "kernelspec": {
   "display_name": "Python 3 (ipykernel)",
   "language": "python",
   "name": "python3"
  },
  "language_info": {
   "codemirror_mode": {
    "name": "ipython",
    "version": 3
   },
   "file_extension": ".py",
   "mimetype": "text/x-python",
   "name": "python",
   "nbconvert_exporter": "python",
   "pygments_lexer": "ipython3",
   "version": "3.9.7"
  }
 },
 "nbformat": 4,
 "nbformat_minor": 5
}

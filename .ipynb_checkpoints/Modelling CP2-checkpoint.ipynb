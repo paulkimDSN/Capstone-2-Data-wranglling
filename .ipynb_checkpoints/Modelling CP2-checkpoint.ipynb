{
 "cells": [
  {
   "cell_type": "markdown",
   "id": "f03799a1",
   "metadata": {},
   "source": [
    "<font size=\"6\"> Modelling"
   ]
  },
  {
   "cell_type": "markdown",
   "id": "821bb9d4",
   "metadata": {},
   "source": [
    "In the previous notebook, the data was prepared to develop a model using different algorithms. The missing values of dataset was imputed, the target variable was deteremined, and the data set was splitted into train and test set. The numerical values were scaled using standardscaler method and categorical variables were encoded using get_dummies method. The data was prepared for modelling and logistic regression was used intially to perform the model development. However we have encountered with imbalanced classification data."
   ]
  },
  {
   "cell_type": "markdown",
   "id": "18f8047d",
   "metadata": {},
   "source": [
    "In this notebook, the train/test dataset developed from the previous notebook will be used to develop models. Before we apply the algorithms to the data, the highly imbalanced data will be dealt before we apply the algorithms. Therefore, the data set will be resampled using three different resamplping technique and three different algorithms will be applied to each balanced datasets to produce models. "
   ]
  },
  {
   "cell_type": "markdown",
   "id": "43321ab4",
   "metadata": {},
   "source": [
    "Load the necessary data and tools."
   ]
  },
  {
   "cell_type": "code",
   "execution_count": 256,
   "id": "0ed41b6a",
   "metadata": {},
   "outputs": [],
   "source": [
    "from imblearn.over_sampling import SMOTE\n",
    "from imblearn.under_sampling import RandomUnderSampler\n",
    "from imblearn.over_sampling import ADASYN"
   ]
  },
  {
   "cell_type": "code",
   "execution_count": 257,
   "id": "2a52c09d",
   "metadata": {},
   "outputs": [],
   "source": [
    "import numpy as np\n",
    "import pandas as pd\n",
    "import matplotlib.pyplot as plt\n",
    "import seaborn as sns\n",
    "import warnings\n",
    "warnings.filterwarnings('ignore')"
   ]
  },
  {
   "cell_type": "code",
   "execution_count": 258,
   "id": "dd167e87",
   "metadata": {},
   "outputs": [],
   "source": [
    "from sklearn.model_selection import train_test_split\n",
    "from sklearn.linear_model import LogisticRegression\n",
    "from sklearn.metrics import accuracy_score\n",
    "from sklearn.metrics import precision_score, recall_score,roc_auc_score,f1_score\n",
    "from sklearn.preprocessing import StandardScaler\n",
    "from sklearn.metrics import classification_report\n",
    "from sklearn.metrics import confusion_matrix, roc_curve, auc,ConfusionMatrixDisplay"
   ]
  },
  {
   "cell_type": "code",
   "execution_count": 259,
   "id": "d9789c87",
   "metadata": {},
   "outputs": [],
   "source": [
    "df=pd.read_csv('..\\Capstone-2-Data-wranglling\\preprocessed.csv',index_col='id')\n",
    "X_train=pd.read_csv('..\\Capstone-2-Data-wranglling\\X_train.csv',index_col='id')\n",
    "y_train=pd.read_csv('..\\Capstone-2-Data-wranglling\\y_train.csv',index_col='id')\n",
    "X_test=pd.read_csv('..\\Capstone-2-Data-wranglling\\X_test.csv',index_col='id')\n",
    "y_test=pd.read_csv('..\\Capstone-2-Data-wranglling\\y_test.csv',index_col='id')"
   ]
  },
  {
   "cell_type": "code",
   "execution_count": 260,
   "id": "d4015154",
   "metadata": {},
   "outputs": [
    {
     "data": {
      "text/plain": [
       "(3576, 20)"
      ]
     },
     "execution_count": 260,
     "metadata": {},
     "output_type": "execute_result"
    }
   ],
   "source": [
    "X_train.shape"
   ]
  },
  {
   "cell_type": "code",
   "execution_count": 261,
   "id": "bf97aa17",
   "metadata": {},
   "outputs": [
    {
     "data": {
      "text/plain": [
       "(3576, 1)"
      ]
     },
     "execution_count": 261,
     "metadata": {},
     "output_type": "execute_result"
    }
   ],
   "source": [
    "y_train.shape"
   ]
  },
  {
   "cell_type": "code",
   "execution_count": 262,
   "id": "c2a6752b",
   "metadata": {},
   "outputs": [
    {
     "data": {
      "text/plain": [
       "stroke\n",
       "0         3402\n",
       "1          174\n",
       "dtype: int64"
      ]
     },
     "execution_count": 262,
     "metadata": {},
     "output_type": "execute_result"
    }
   ],
   "source": [
    "y_train.value_counts()"
   ]
  },
  {
   "cell_type": "markdown",
   "id": "5d23b4de",
   "metadata": {},
   "source": [
    "<font size=\"4\">Dealing with Imbalanced Dataset"
   ]
  },
  {
   "cell_type": "markdown",
   "id": "890c4067",
   "metadata": {},
   "source": [
    "Three different train and test samples were resampled with different resampling technique.Two Oversampling technique(SMOTE and ADASYN) and one Undersampling(RandomUndersampler) were used to produce new train and test samples."
   ]
  },
  {
   "cell_type": "code",
   "execution_count": 263,
   "id": "ca38a1af",
   "metadata": {},
   "outputs": [],
   "source": [
    "sm=SMOTE()\n",
    "X_train_sm,y_train_sm=sm.fit_resample(X_train,y_train)"
   ]
  },
  {
   "cell_type": "code",
   "execution_count": 264,
   "id": "36808dd3",
   "metadata": {},
   "outputs": [],
   "source": [
    "RUS=RandomUnderSampler()\n",
    "X_train_us,y_train_us=RUS.fit_resample(X_train,y_train)"
   ]
  },
  {
   "cell_type": "code",
   "execution_count": 265,
   "id": "a22ef04c",
   "metadata": {},
   "outputs": [],
   "source": [
    "AD=ADASYN()\n",
    "X_train_ad,y_train_ad=AD.fit_resample(X_train,y_train)"
   ]
  },
  {
   "cell_type": "markdown",
   "id": "f46ee08f",
   "metadata": {},
   "source": [
    "Shape and proportion of each train/test samples are checked to make confrim, resampling techniques are applied appropriately."
   ]
  },
  {
   "cell_type": "code",
   "execution_count": 266,
   "id": "b4594172",
   "metadata": {},
   "outputs": [
    {
     "data": {
      "text/plain": [
       "(6804, 20)"
      ]
     },
     "execution_count": 266,
     "metadata": {},
     "output_type": "execute_result"
    }
   ],
   "source": [
    "X_train_sm.shape"
   ]
  },
  {
   "cell_type": "code",
   "execution_count": 267,
   "id": "000ef59b",
   "metadata": {},
   "outputs": [
    {
     "data": {
      "text/plain": [
       "stroke\n",
       "0         3402\n",
       "1         3402\n",
       "dtype: int64"
      ]
     },
     "execution_count": 267,
     "metadata": {},
     "output_type": "execute_result"
    }
   ],
   "source": [
    "y_train_sm.value_counts()"
   ]
  },
  {
   "cell_type": "code",
   "execution_count": 268,
   "id": "a0ec5c74",
   "metadata": {},
   "outputs": [
    {
     "data": {
      "text/plain": [
       "(348, 20)"
      ]
     },
     "execution_count": 268,
     "metadata": {},
     "output_type": "execute_result"
    }
   ],
   "source": [
    "X_train_us.shape"
   ]
  },
  {
   "cell_type": "code",
   "execution_count": 269,
   "id": "f659d7f1",
   "metadata": {},
   "outputs": [
    {
     "data": {
      "text/plain": [
       "stroke\n",
       "0         174\n",
       "1         174\n",
       "dtype: int64"
      ]
     },
     "execution_count": 269,
     "metadata": {},
     "output_type": "execute_result"
    }
   ],
   "source": [
    "y_train_us.value_counts()"
   ]
  },
  {
   "cell_type": "code",
   "execution_count": 270,
   "id": "a18a37ef",
   "metadata": {},
   "outputs": [
    {
     "data": {
      "text/plain": [
       "stroke\n",
       "0         3402\n",
       "1         3334\n",
       "dtype: int64"
      ]
     },
     "execution_count": 270,
     "metadata": {},
     "output_type": "execute_result"
    }
   ],
   "source": [
    "y_train_ad.value_counts()"
   ]
  },
  {
   "cell_type": "markdown",
   "id": "90811031",
   "metadata": {},
   "source": [
    "Logistic Regression for resampled with SMOTE method was developed to see the difference from the previous notebook(Logistic Regression with before resampling)."
   ]
  },
  {
   "cell_type": "code",
   "execution_count": 271,
   "id": "933351b5",
   "metadata": {},
   "outputs": [],
   "source": [
    "LR=LogisticRegression()\n",
    "LR.fit(X_train_sm,y_train_sm)\n",
    "ypred=LR.predict(X_test)"
   ]
  },
  {
   "cell_type": "code",
   "execution_count": 272,
   "id": "ca071599",
   "metadata": {},
   "outputs": [
    {
     "name": "stdout",
     "output_type": "stream",
     "text": [
      "              precision    recall  f1-score   support\n",
      "\n",
      "           0       0.97      0.88      0.93      1458\n",
      "           1       0.19      0.52      0.28        75\n",
      "\n",
      "    accuracy                           0.87      1533\n",
      "   macro avg       0.58      0.70      0.60      1533\n",
      "weighted avg       0.93      0.87      0.89      1533\n",
      "\n"
     ]
    }
   ],
   "source": [
    "print(classification_report(y_test,ypred))"
   ]
  },
  {
   "cell_type": "code",
   "execution_count": 273,
   "id": "ef41030e",
   "metadata": {},
   "outputs": [
    {
     "name": "stdout",
     "output_type": "stream",
     "text": [
      "0.8662752772341813\n"
     ]
    }
   ],
   "source": [
    "print(accuracy_score(y_test,ypred))"
   ]
  },
  {
   "cell_type": "code",
   "execution_count": 274,
   "id": "5474df3a",
   "metadata": {
    "scrolled": true
   },
   "outputs": [
    {
     "data": {
      "text/plain": [
       "array([[1289,  169],\n",
       "       [  36,   39]], dtype=int64)"
      ]
     },
     "execution_count": 274,
     "metadata": {},
     "output_type": "execute_result"
    }
   ],
   "source": [
    "cf_mat=confusion_matrix(y_test,ypred)\n",
    "cf_mat"
   ]
  },
  {
   "cell_type": "markdown",
   "id": "d31690dd",
   "metadata": {},
   "source": [
    "As the calssification report showw, it has improved recall score dramatically from 0.03 to 0.52."
   ]
  },
  {
   "cell_type": "markdown",
   "id": "8b235bf3",
   "metadata": {},
   "source": [
    "<font size=\"4\">Modelling with Oversmapled Dataset(SMOTE Method)"
   ]
  },
  {
   "cell_type": "markdown",
   "id": "7693731e",
   "metadata": {},
   "source": [
    "Three different algorithms were used to develop a model with resampled (SMOTE technique) train/test sets."
   ]
  },
  {
   "cell_type": "markdown",
   "id": "3e8622ea",
   "metadata": {},
   "source": [
    "First, RandomForestClassifier was used to develop a model."
   ]
  },
  {
   "cell_type": "code",
   "execution_count": 275,
   "id": "753efc00",
   "metadata": {},
   "outputs": [],
   "source": [
    "from sklearn.ensemble import RandomForestClassifier"
   ]
  },
  {
   "cell_type": "code",
   "execution_count": 276,
   "id": "8bab2934",
   "metadata": {},
   "outputs": [],
   "source": [
    "RF=RandomForestClassifier(random_state=0,oob_score=True)\n",
    "RF.fit(X_train_sm,y_train_sm)\n",
    "ypredRF=RF.predict(X_test)"
   ]
  },
  {
   "cell_type": "code",
   "execution_count": 277,
   "id": "29064348",
   "metadata": {},
   "outputs": [
    {
     "name": "stdout",
     "output_type": "stream",
     "text": [
      "0.96222810111699\n"
     ]
    }
   ],
   "source": [
    "print(RF.oob_score_)"
   ]
  },
  {
   "cell_type": "code",
   "execution_count": 278,
   "id": "1d522973",
   "metadata": {},
   "outputs": [],
   "source": [
    "acc_RF=accuracy_score(y_test,ypredRF)\n",
    "prec_RF=precision_score(y_test,ypredRF)\n",
    "rec_RF=recall_score(y_test,ypredRF)\n",
    "f1_RF=f1_score(y_test,ypredRF)"
   ]
  },
  {
   "cell_type": "code",
   "execution_count": 279,
   "id": "89b1811d",
   "metadata": {},
   "outputs": [
    {
     "name": "stdout",
     "output_type": "stream",
     "text": [
      "              precision    recall  f1-score   support\n",
      "\n",
      "           0       0.96      0.95      0.95      1458\n",
      "           1       0.17      0.19      0.18        75\n",
      "\n",
      "    accuracy                           0.91      1533\n",
      "   macro avg       0.56      0.57      0.57      1533\n",
      "weighted avg       0.92      0.91      0.92      1533\n",
      "\n"
     ]
    }
   ],
   "source": [
    "print(classification_report(y_test,ypredRF))"
   ]
  },
  {
   "cell_type": "code",
   "execution_count": 280,
   "id": "7db9842a",
   "metadata": {
    "scrolled": true
   },
   "outputs": [
    {
     "data": {
      "text/plain": [
       "array([[1388,   70],\n",
       "       [  61,   14]], dtype=int64)"
      ]
     },
     "execution_count": 280,
     "metadata": {},
     "output_type": "execute_result"
    }
   ],
   "source": [
    "cfrf=confusion_matrix(y_test,ypredRF)\n",
    "cfrf"
   ]
  },
  {
   "cell_type": "markdown",
   "id": "be36e886",
   "metadata": {},
   "source": [
    "XGBoost Classifier was used secondly, to develop another model."
   ]
  },
  {
   "cell_type": "code",
   "execution_count": 281,
   "id": "bf0dcf27",
   "metadata": {},
   "outputs": [],
   "source": [
    "from xgboost import XGBClassifier"
   ]
  },
  {
   "cell_type": "code",
   "execution_count": 282,
   "id": "8db0931e",
   "metadata": {},
   "outputs": [],
   "source": [
    "xgb=XGBClassifier(learning_rate=0.1,objective='binary:logistic',random_state=0,eval_metric='error')\n",
    "xgb.fit(X_train_sm,y_train_sm)\n",
    "ypred_xgb=xgb.predict(X_test)\n"
   ]
  },
  {
   "cell_type": "code",
   "execution_count": 283,
   "id": "5cbd5fbe",
   "metadata": {},
   "outputs": [
    {
     "name": "stdout",
     "output_type": "stream",
     "text": [
      "[[1348  110]\n",
      " [  56   19]]\n"
     ]
    }
   ],
   "source": [
    "print(confusion_matrix(y_test,ypred_xgb))"
   ]
  },
  {
   "cell_type": "code",
   "execution_count": 284,
   "id": "42fbf98b",
   "metadata": {},
   "outputs": [
    {
     "name": "stdout",
     "output_type": "stream",
     "text": [
      "              precision    recall  f1-score   support\n",
      "\n",
      "           0       0.96      0.92      0.94      1458\n",
      "           1       0.15      0.25      0.19        75\n",
      "\n",
      "    accuracy                           0.89      1533\n",
      "   macro avg       0.55      0.59      0.56      1533\n",
      "weighted avg       0.92      0.89      0.91      1533\n",
      "\n"
     ]
    }
   ],
   "source": [
    "print(classification_report(y_test,ypred_xgb))"
   ]
  },
  {
   "cell_type": "code",
   "execution_count": 285,
   "id": "1520594f",
   "metadata": {},
   "outputs": [],
   "source": [
    "acc_xgb_sm=accuracy_score(y_test,ypred_xgb)\n",
    "prec_xgb_sm=precision_score(y_test,ypred_xgb)\n",
    "rec_xgb_sm=recall_score(y_test,ypred_xgb)\n",
    "f1_xgb_sm=f1_score(y_test,ypred_xgb)"
   ]
  },
  {
   "cell_type": "markdown",
   "id": "5db1335e",
   "metadata": {},
   "source": [
    "Lastly, LGBM Classifier was used to develop a model."
   ]
  },
  {
   "cell_type": "code",
   "execution_count": 286,
   "id": "b5acc7d2",
   "metadata": {},
   "outputs": [],
   "source": [
    "from lightgbm import LGBMClassifier"
   ]
  },
  {
   "cell_type": "code",
   "execution_count": 287,
   "id": "a8befcf2",
   "metadata": {},
   "outputs": [],
   "source": [
    "lgbm=LGBMClassifier()\n",
    "lgbm.fit(X_train_sm,y_train_sm)\n",
    "ypred_lgbm=lgbm.predict(X_test)"
   ]
  },
  {
   "cell_type": "code",
   "execution_count": 288,
   "id": "48ed1d52",
   "metadata": {
    "scrolled": true
   },
   "outputs": [
    {
     "name": "stdout",
     "output_type": "stream",
     "text": [
      "[[1389   69]\n",
      " [  64   11]]\n"
     ]
    }
   ],
   "source": [
    "print(confusion_matrix(y_test,ypred_lgbm))"
   ]
  },
  {
   "cell_type": "code",
   "execution_count": 289,
   "id": "ac687a3d",
   "metadata": {},
   "outputs": [
    {
     "name": "stdout",
     "output_type": "stream",
     "text": [
      "              precision    recall  f1-score   support\n",
      "\n",
      "           0       0.96      0.95      0.95      1458\n",
      "           1       0.14      0.15      0.14        75\n",
      "\n",
      "    accuracy                           0.91      1533\n",
      "   macro avg       0.55      0.55      0.55      1533\n",
      "weighted avg       0.92      0.91      0.91      1533\n",
      "\n"
     ]
    }
   ],
   "source": [
    "print(classification_report(y_test,ypred_lgbm))"
   ]
  },
  {
   "cell_type": "code",
   "execution_count": 290,
   "id": "6acf84ad",
   "metadata": {},
   "outputs": [],
   "source": [
    "acc_lgbm_sm=accuracy_score(y_test,ypred_lgbm)\n",
    "prec_lgbm_sm=precision_score(y_test,ypred_lgbm)\n",
    "rec_lgbm_sm=recall_score(y_test,ypred_lgbm)\n",
    "f1_lgbm_sm=f1_score(y_test,ypred_lgbm)"
   ]
  },
  {
   "cell_type": "markdown",
   "id": "f9ff7ad7",
   "metadata": {},
   "source": [
    "<font size=\"4\">Modelling With Oversampled Dataset (ADASYN Method)"
   ]
  },
  {
   "cell_type": "markdown",
   "id": "23fa2510",
   "metadata": {},
   "source": [
    "Other models were developed with same algorithms but different resampling technique(ADASYN Method)"
   ]
  },
  {
   "cell_type": "markdown",
   "id": "0b479ddf",
   "metadata": {},
   "source": [
    "First, RandomForest Classifier with ADASYN oversampling techinque used train/test samples."
   ]
  },
  {
   "cell_type": "code",
   "execution_count": 291,
   "id": "9d70e7bf",
   "metadata": {},
   "outputs": [],
   "source": [
    "RF=RandomForestClassifier(random_state=0,oob_score=True)\n",
    "RF.fit(X_train_ad,y_train_ad)\n",
    "ypredRF_ad=RF.predict(X_test)"
   ]
  },
  {
   "cell_type": "code",
   "execution_count": 292,
   "id": "98ef6683",
   "metadata": {},
   "outputs": [
    {
     "name": "stdout",
     "output_type": "stream",
     "text": [
      "0.9616983372921615\n"
     ]
    }
   ],
   "source": [
    "print(RF.oob_score_)"
   ]
  },
  {
   "cell_type": "code",
   "execution_count": 294,
   "id": "85974dde",
   "metadata": {},
   "outputs": [
    {
     "name": "stdout",
     "output_type": "stream",
     "text": [
      "              precision    recall  f1-score   support\n",
      "\n",
      "           0       0.96      0.95      0.95      1458\n",
      "           1       0.16      0.19      0.17        75\n",
      "\n",
      "    accuracy                           0.91      1533\n",
      "   macro avg       0.56      0.57      0.56      1533\n",
      "weighted avg       0.92      0.91      0.92      1533\n",
      "\n"
     ]
    }
   ],
   "source": [
    "print(classification_report(y_test,ypredRF_ad))"
   ]
  },
  {
   "cell_type": "code",
   "execution_count": 296,
   "id": "acec8195",
   "metadata": {},
   "outputs": [
    {
     "data": {
      "text/plain": [
       "array([[1386,   72],\n",
       "       [  61,   14]], dtype=int64)"
      ]
     },
     "execution_count": 296,
     "metadata": {},
     "output_type": "execute_result"
    }
   ],
   "source": [
    "cfrf=confusion_matrix(y_test,ypredRF_ad)\n",
    "cfrf"
   ]
  },
  {
   "cell_type": "code",
   "execution_count": 297,
   "id": "5ecdad8c",
   "metadata": {},
   "outputs": [],
   "source": [
    "acc_RF_ad=accuracy_score(y_test,ypredRF_ad)\n",
    "prec_RF_ad=precision_score(y_test,ypredRF_ad)\n",
    "rec_RF_ad=recall_score(y_test,ypredRF_ad)\n",
    "f1_RF_ad=f1_score(y_test,ypredRF_ad)"
   ]
  },
  {
   "cell_type": "markdown",
   "id": "98496346",
   "metadata": {},
   "source": [
    "XGBoost Classifier algorithm was used with ADASYN resampled train/test sets."
   ]
  },
  {
   "cell_type": "code",
   "execution_count": 298,
   "id": "de5f8ffa",
   "metadata": {},
   "outputs": [],
   "source": [
    "xgb=XGBClassifier(learning_rate=0.1,objective='binary:logistic',random_state=0,eval_metric='error')\n",
    "xgb.fit(X_train_ad,y_train_ad)\n",
    "ypred_xgb_ad=xgb.predict(X_test)\n"
   ]
  },
  {
   "cell_type": "code",
   "execution_count": 299,
   "id": "f104c597",
   "metadata": {},
   "outputs": [
    {
     "name": "stdout",
     "output_type": "stream",
     "text": [
      "[[1348  110]\n",
      " [  56   19]]\n"
     ]
    }
   ],
   "source": [
    "print(confusion_matrix(y_test,ypred_xgb_ad))"
   ]
  },
  {
   "cell_type": "code",
   "execution_count": 300,
   "id": "23318aa1",
   "metadata": {},
   "outputs": [
    {
     "name": "stdout",
     "output_type": "stream",
     "text": [
      "              precision    recall  f1-score   support\n",
      "\n",
      "           0       0.96      0.92      0.94      1458\n",
      "           1       0.15      0.25      0.19        75\n",
      "\n",
      "    accuracy                           0.89      1533\n",
      "   macro avg       0.55      0.59      0.56      1533\n",
      "weighted avg       0.92      0.89      0.91      1533\n",
      "\n"
     ]
    }
   ],
   "source": [
    "print(classification_report(y_test,ypred_xgb_ad))"
   ]
  },
  {
   "cell_type": "code",
   "execution_count": 301,
   "id": "d3b5a4ec",
   "metadata": {},
   "outputs": [],
   "source": [
    "acc_xgb_ad=accuracy_score(y_test,ypred_xgb_ad)\n",
    "prec_xgb_ad=precision_score(y_test,ypred_xgb_ad)\n",
    "rec_xgb_ad=recall_score(y_test,ypred_xgb_ad)\n",
    "f1_xgb_ad=f1_score(y_test,ypred_xgb_ad)"
   ]
  },
  {
   "cell_type": "markdown",
   "id": "ba2d8e56",
   "metadata": {},
   "source": [
    "Lastly, LGBM Classifier with ADASYN samples."
   ]
  },
  {
   "cell_type": "code",
   "execution_count": 302,
   "id": "fbc415a2",
   "metadata": {},
   "outputs": [],
   "source": [
    "lgbm=LGBMClassifier()\n",
    "lgbm.fit(X_train_ad,y_train_ad)\n",
    "ypred_lgbm_ad=lgbm.predict(X_test)"
   ]
  },
  {
   "cell_type": "code",
   "execution_count": 303,
   "id": "e1df3281",
   "metadata": {},
   "outputs": [
    {
     "name": "stdout",
     "output_type": "stream",
     "text": [
      "              precision    recall  f1-score   support\n",
      "\n",
      "           0       0.96      0.95      0.95      1458\n",
      "           1       0.17      0.20      0.19        75\n",
      "\n",
      "    accuracy                           0.91      1533\n",
      "   macro avg       0.57      0.58      0.57      1533\n",
      "weighted avg       0.92      0.91      0.92      1533\n",
      "\n"
     ]
    }
   ],
   "source": [
    "print(classification_report(y_test,ypred_lgbm_ad))"
   ]
  },
  {
   "cell_type": "code",
   "execution_count": 304,
   "id": "edfcaf58",
   "metadata": {
    "scrolled": false
   },
   "outputs": [
    {
     "name": "stdout",
     "output_type": "stream",
     "text": [
      "[[1386   72]\n",
      " [  60   15]]\n"
     ]
    }
   ],
   "source": [
    "print(confusion_matrix(y_test,ypred_lgbm_ad))"
   ]
  },
  {
   "cell_type": "code",
   "execution_count": 305,
   "id": "c457794b",
   "metadata": {},
   "outputs": [],
   "source": [
    "acc_lgbm_ad=accuracy_score(y_test,ypred_lgbm_ad)\n",
    "prec_lgbm_ad=precision_score(y_test,ypred_lgbm_ad)\n",
    "rec_lgbm_ad=recall_score(y_test,ypred_lgbm_ad)\n",
    "f1_lgbm_ad=f1_score(y_test,ypred_lgbm_ad)"
   ]
  },
  {
   "cell_type": "markdown",
   "id": "7d5d1d7f",
   "metadata": {},
   "source": [
    "<font size=\"4\">Modelling with undersampled dataset(RandomUndersampler)\n",
    "\n"
   ]
  },
  {
   "cell_type": "markdown",
   "id": "062d9346",
   "metadata": {},
   "source": [
    "Lastly. same algorithms with another train/test sets used undersampling technique."
   ]
  },
  {
   "cell_type": "markdown",
   "id": "0c68d841",
   "metadata": {},
   "source": [
    "First, RandomForest Classifier."
   ]
  },
  {
   "cell_type": "code",
   "execution_count": 306,
   "id": "a6247e36",
   "metadata": {},
   "outputs": [],
   "source": [
    "RF=RandomForestClassifier(random_state=0,oob_score=True)\n",
    "RF.fit(X_train_us,y_train_us)\n",
    "ypred_RF_us=RF.predict(X_test)"
   ]
  },
  {
   "cell_type": "code",
   "execution_count": 307,
   "id": "dc466211",
   "metadata": {},
   "outputs": [
    {
     "name": "stdout",
     "output_type": "stream",
     "text": [
      "[[991 467]\n",
      " [ 16  59]]\n"
     ]
    }
   ],
   "source": [
    "print(confusion_matrix(y_test,ypred_RF_us))"
   ]
  },
  {
   "cell_type": "code",
   "execution_count": 308,
   "id": "54cce030",
   "metadata": {},
   "outputs": [
    {
     "name": "stdout",
     "output_type": "stream",
     "text": [
      "              precision    recall  f1-score   support\n",
      "\n",
      "           0       0.98      0.68      0.80      1458\n",
      "           1       0.11      0.79      0.20        75\n",
      "\n",
      "    accuracy                           0.68      1533\n",
      "   macro avg       0.55      0.73      0.50      1533\n",
      "weighted avg       0.94      0.68      0.77      1533\n",
      "\n"
     ]
    }
   ],
   "source": [
    "print(classification_report(y_test,ypred_RF_us))"
   ]
  },
  {
   "cell_type": "code",
   "execution_count": 309,
   "id": "caa6e00d",
   "metadata": {},
   "outputs": [
    {
     "name": "stdout",
     "output_type": "stream",
     "text": [
      "0.764367816091954\n"
     ]
    }
   ],
   "source": [
    "print(RF.oob_score_)"
   ]
  },
  {
   "cell_type": "code",
   "execution_count": 310,
   "id": "1c684c91",
   "metadata": {},
   "outputs": [],
   "source": [
    "acc_RF_us=accuracy_score(y_test,ypred_RF_us)\n",
    "prec_RF_us=precision_score(y_test,ypred_RF_us)\n",
    "rec_RF_us=recall_score(y_test,ypred_RF_us)\n",
    "f1_RF_us=f1_score(y_test,ypred_RF_us)"
   ]
  },
  {
   "cell_type": "markdown",
   "id": "410d4d5b",
   "metadata": {},
   "source": [
    "Secondly, XGBoost Classifier."
   ]
  },
  {
   "cell_type": "code",
   "execution_count": 311,
   "id": "b00b70c6",
   "metadata": {},
   "outputs": [],
   "source": [
    "xgb=XGBClassifier(learning_rate=0.1,objective='binary:logistic',random_state=0,eval_metric='error')\n",
    "xgb.fit(X_train_us,y_train_us)\n",
    "ypred_xgb_us=xgb.predict(X_test)\n"
   ]
  },
  {
   "cell_type": "code",
   "execution_count": 312,
   "id": "99272159",
   "metadata": {},
   "outputs": [
    {
     "name": "stdout",
     "output_type": "stream",
     "text": [
      "              precision    recall  f1-score   support\n",
      "\n",
      "           0       0.98      0.67      0.80      1458\n",
      "           1       0.11      0.77      0.19        75\n",
      "\n",
      "    accuracy                           0.68      1533\n",
      "   macro avg       0.55      0.72      0.49      1533\n",
      "weighted avg       0.94      0.68      0.77      1533\n",
      "\n"
     ]
    }
   ],
   "source": [
    "print(classification_report(y_test,ypred_xgb_us))"
   ]
  },
  {
   "cell_type": "code",
   "execution_count": 313,
   "id": "4016570b",
   "metadata": {},
   "outputs": [
    {
     "name": "stdout",
     "output_type": "stream",
     "text": [
      "[[979 479]\n",
      " [ 17  58]]\n"
     ]
    }
   ],
   "source": [
    "print(confusion_matrix(y_test,ypred_xgb_us))"
   ]
  },
  {
   "cell_type": "code",
   "execution_count": 314,
   "id": "d7cea488",
   "metadata": {},
   "outputs": [],
   "source": [
    "acc_xgb_us=accuracy_score(y_test,ypred_xgb_us)\n",
    "prec_xgb_us=precision_score(y_test,ypred_xgb_us)\n",
    "rec_xgb_us=recall_score(y_test,ypred_xgb_us)\n",
    "f1_xgb_us=f1_score(y_test,ypred_xgb_us)"
   ]
  },
  {
   "cell_type": "markdown",
   "id": "bada218a",
   "metadata": {},
   "source": [
    "Lastly, LGBM Classifier with undersampled train/test sets."
   ]
  },
  {
   "cell_type": "code",
   "execution_count": 315,
   "id": "6a4706f9",
   "metadata": {},
   "outputs": [],
   "source": [
    "lgbm=LGBMClassifier()\n",
    "lgbm.fit(X_train_us,y_train_us)\n",
    "ypred_lgbm_us=lgbm.predict(X_test)"
   ]
  },
  {
   "cell_type": "code",
   "execution_count": 318,
   "id": "eac7506b",
   "metadata": {},
   "outputs": [
    {
     "name": "stdout",
     "output_type": "stream",
     "text": [
      "              precision    recall  f1-score   support\n",
      "\n",
      "           0       0.98      0.67      0.79      1458\n",
      "           1       0.10      0.72      0.18        75\n",
      "\n",
      "    accuracy                           0.67      1533\n",
      "   macro avg       0.54      0.69      0.48      1533\n",
      "weighted avg       0.94      0.67      0.76      1533\n",
      "\n"
     ]
    }
   ],
   "source": [
    "print(classification_report(y_test,ypred_lgbm_us))"
   ]
  },
  {
   "cell_type": "code",
   "execution_count": 319,
   "id": "f6693bb1",
   "metadata": {},
   "outputs": [
    {
     "name": "stdout",
     "output_type": "stream",
     "text": [
      "[[973 485]\n",
      " [ 21  54]]\n"
     ]
    }
   ],
   "source": [
    "print(confusion_matrix(y_test,ypred_lgbm_us))"
   ]
  },
  {
   "cell_type": "code",
   "execution_count": 320,
   "id": "a01adbb6",
   "metadata": {},
   "outputs": [],
   "source": [
    "acc_lgbm_us=accuracy_score(y_test,ypred_lgbm_us)\n",
    "prec_lgbm_us=precision_score(y_test,ypred_lgbm_us)\n",
    "rec_lgbm_us=recall_score(y_test,ypred_lgbm_us)\n",
    "f1_lgbm_us=f1_score(y_test,ypred_lgbm_us)"
   ]
  },
  {
   "cell_type": "markdown",
   "id": "b342ce3c",
   "metadata": {},
   "source": [
    "Next, a table was created with all the scores stored for each algorithm and resampling techinque in different variables for comparison"
   ]
  },
  {
   "cell_type": "code",
   "execution_count": 321,
   "id": "389c3244",
   "metadata": {},
   "outputs": [],
   "source": [
    "table=[]"
   ]
  },
  {
   "cell_type": "code",
   "execution_count": 322,
   "id": "733789ac",
   "metadata": {},
   "outputs": [],
   "source": [
    "t1=[acc_RF,prec_RF,rec_RF,f1_RF]\n",
    "t2=[acc_xgb_sm,prec_xgb_sm,rec_xgb_sm,f1_xgb_sm]\n",
    "t3=[acc_lgbm_sm,prec_lgbm_sm,rec_lgbm_sm,f1_lgbm_sm]\n",
    "t4=[acc_RF_ad,prec_RF_ad,rec_RF_ad,f1_RF_ad]\n",
    "t5=[acc_xgb_ad,prec_xgb_ad,rec_xgb_ad,f1_xgb_ad]\n",
    "t6=[acc_lgbm_ad,prec_lgbm_ad,rec_lgbm_ad,f1_lgbm_ad]\n",
    "t7=[acc_RF_us,prec_RF_us,rec_RF_us,f1_RF_us]\n",
    "t8=[acc_xgb_us,prec_xgb_us,rec_xgb_us,f1_xgb_us]\n",
    "t9=[acc_lgbm_us,prec_lgbm_us,rec_lgbm_us,f1_lgbm_us]"
   ]
  },
  {
   "cell_type": "markdown",
   "id": "f8f4e182",
   "metadata": {},
   "source": [
    "Dataframe is created and list of scores for each algorithms are appended to the table."
   ]
  },
  {
   "cell_type": "code",
   "execution_count": 323,
   "id": "f53ff87e",
   "metadata": {
    "scrolled": true
   },
   "outputs": [],
   "source": [
    "table.append(t1)\n",
    "df2 = pd.DataFrame(table,index=['Random Forest SMOTE'],columns=['Accuracy_score','Precision_score','Recall','F1Score'])"
   ]
  },
  {
   "cell_type": "code",
   "execution_count": 324,
   "id": "3851403b",
   "metadata": {
    "scrolled": false
   },
   "outputs": [],
   "source": [
    "df2.loc[len(df2)]=t2\n",
    "df2.loc[len(df2)]=t3\n",
    "df2.loc[len(df2)]=t4\n",
    "df2.loc[len(df2)]=t5\n",
    "df2.loc[len(df2)]=t6\n",
    "df2.loc[len(df2)]=t7\n",
    "df2.loc[len(df2)]=t8\n",
    "df2.loc[len(df2)]=t9"
   ]
  },
  {
   "cell_type": "markdown",
   "id": "1dc83f18",
   "metadata": {},
   "source": [
    "Table with accuracy, precision, recall and F1 score for each algorithm and resampling technique is created."
   ]
  },
  {
   "cell_type": "code",
   "execution_count": 325,
   "id": "4d35ec2b",
   "metadata": {
    "scrolled": false
   },
   "outputs": [
    {
     "data": {
      "text/html": [
       "<div>\n",
       "<style scoped>\n",
       "    .dataframe tbody tr th:only-of-type {\n",
       "        vertical-align: middle;\n",
       "    }\n",
       "\n",
       "    .dataframe tbody tr th {\n",
       "        vertical-align: top;\n",
       "    }\n",
       "\n",
       "    .dataframe thead th {\n",
       "        text-align: right;\n",
       "    }\n",
       "</style>\n",
       "<table border=\"1\" class=\"dataframe\">\n",
       "  <thead>\n",
       "    <tr style=\"text-align: right;\">\n",
       "      <th></th>\n",
       "      <th>Accuracy_score</th>\n",
       "      <th>Precision_score</th>\n",
       "      <th>Recall</th>\n",
       "      <th>F1Score</th>\n",
       "    </tr>\n",
       "  </thead>\n",
       "  <tbody>\n",
       "    <tr>\n",
       "      <th>Random Forest SMOTE</th>\n",
       "      <td>0.914547</td>\n",
       "      <td>0.166667</td>\n",
       "      <td>0.186667</td>\n",
       "      <td>0.176101</td>\n",
       "    </tr>\n",
       "    <tr>\n",
       "      <th>LGBM ADASYN</th>\n",
       "      <td>0.913894</td>\n",
       "      <td>0.172414</td>\n",
       "      <td>0.200000</td>\n",
       "      <td>0.185185</td>\n",
       "    </tr>\n",
       "    <tr>\n",
       "      <th>LGBM SMOTE</th>\n",
       "      <td>0.913242</td>\n",
       "      <td>0.137500</td>\n",
       "      <td>0.146667</td>\n",
       "      <td>0.141935</td>\n",
       "    </tr>\n",
       "    <tr>\n",
       "      <th>Random Forest ADASYN</th>\n",
       "      <td>0.913242</td>\n",
       "      <td>0.162791</td>\n",
       "      <td>0.186667</td>\n",
       "      <td>0.173913</td>\n",
       "    </tr>\n",
       "    <tr>\n",
       "      <th>XGBoost SMOTE</th>\n",
       "      <td>0.891716</td>\n",
       "      <td>0.147287</td>\n",
       "      <td>0.253333</td>\n",
       "      <td>0.186275</td>\n",
       "    </tr>\n",
       "    <tr>\n",
       "      <th>XGBoost Adasyn</th>\n",
       "      <td>0.891716</td>\n",
       "      <td>0.147287</td>\n",
       "      <td>0.253333</td>\n",
       "      <td>0.186275</td>\n",
       "    </tr>\n",
       "    <tr>\n",
       "      <th>Random Forest Undersample</th>\n",
       "      <td>0.684932</td>\n",
       "      <td>0.112167</td>\n",
       "      <td>0.786667</td>\n",
       "      <td>0.196339</td>\n",
       "    </tr>\n",
       "    <tr>\n",
       "      <th>XGBoost Undersample</th>\n",
       "      <td>0.676451</td>\n",
       "      <td>0.108007</td>\n",
       "      <td>0.773333</td>\n",
       "      <td>0.189542</td>\n",
       "    </tr>\n",
       "    <tr>\n",
       "      <th>LGBM Undersample</th>\n",
       "      <td>0.669928</td>\n",
       "      <td>0.100186</td>\n",
       "      <td>0.720000</td>\n",
       "      <td>0.175896</td>\n",
       "    </tr>\n",
       "  </tbody>\n",
       "</table>\n",
       "</div>"
      ],
      "text/plain": [
       "                           Accuracy_score  Precision_score    Recall   F1Score\n",
       "Random Forest SMOTE              0.914547         0.166667  0.186667  0.176101\n",
       "LGBM ADASYN                      0.913894         0.172414  0.200000  0.185185\n",
       "LGBM SMOTE                       0.913242         0.137500  0.146667  0.141935\n",
       "Random Forest ADASYN             0.913242         0.162791  0.186667  0.173913\n",
       "XGBoost SMOTE                    0.891716         0.147287  0.253333  0.186275\n",
       "XGBoost Adasyn                   0.891716         0.147287  0.253333  0.186275\n",
       "Random Forest Undersample        0.684932         0.112167  0.786667  0.196339\n",
       "XGBoost Undersample              0.676451         0.108007  0.773333  0.189542\n",
       "LGBM Undersample                 0.669928         0.100186  0.720000  0.175896"
      ]
     },
     "execution_count": 325,
     "metadata": {},
     "output_type": "execute_result"
    }
   ],
   "source": [
    "df2=df2.rename(index={1:'XGBoost SMOTE',2:'LGBM SMOTE',3:'Random Forest ADASYN',4:'XGBoost Adasyn',5:'LGBM ADASYN',6:'Random Forest Undersample',7:'XGBoost Undersample',8:'LGBM Undersample'})\n",
    "df2.sort_values(by='Accuracy_score',ascending=False)"
   ]
  },
  {
   "cell_type": "markdown",
   "id": "8754ffc6",
   "metadata": {},
   "source": [
    "The table above was ordered with accuracy score of each model and LGBM had highest accuracy score. Overall, all the models trained with SMOTE resampling techinque used has high scores in general."
   ]
  },
  {
   "cell_type": "markdown",
   "id": "c90504bb",
   "metadata": {},
   "source": [
    "<font size=\"4\">Model Hyperparameter Tuning (Oversampled Data with SMOTE)"
   ]
  },
  {
   "cell_type": "markdown",
   "id": "c3534a83",
   "metadata": {},
   "source": [
    "RandomForest Classifier hyperparameter tuning using GridSearchCV"
   ]
  },
  {
   "cell_type": "code",
   "execution_count": 326,
   "id": "73d257de",
   "metadata": {},
   "outputs": [],
   "source": [
    "from sklearn.model_selection import GridSearchCV"
   ]
  },
  {
   "cell_type": "code",
   "execution_count": 327,
   "id": "2bf79af7",
   "metadata": {},
   "outputs": [],
   "source": [
    "param_grid={\n",
    "    'n_estimators':np.arange(1,50),\n",
    "    'max_depth':[4,5,6,7,8],\n",
    "    'criterion':['gini','entropy'],\n",
    "    'max_features':[3,5,7],\n",
    "    'min_samples_split':[1,2,3]\n",
    "           }"
   ]
  },
  {
   "cell_type": "code",
   "execution_count": 57,
   "id": "6cc73092",
   "metadata": {},
   "outputs": [
    {
     "name": "stdout",
     "output_type": "stream",
     "text": [
      "Fitting 3 folds for each of 4410 candidates, totalling 13230 fits\n",
      "              precision    recall  f1-score   support\n",
      "\n",
      "           0       0.97      0.79      0.87      1458\n",
      "           1       0.11      0.48      0.18        75\n",
      "\n",
      "    accuracy                           0.78      1533\n",
      "   macro avg       0.54      0.64      0.52      1533\n",
      "weighted avg       0.93      0.78      0.84      1533\n",
      "\n"
     ]
    }
   ],
   "source": [
    "RF=RandomForestClassifier()\n",
    "rf_grid=GridSearchCV(estimator=RF,param_grid=param_grid,cv=3,n_jobs=-1,verbose=2)\n",
    "rf_grid.fit(X_train_sm,y_train_sm)\n",
    "y_pred_rf=rf_grid.predict(X_test)\n",
    "print(classification_report(y_test,y_pred_rf))"
   ]
  },
  {
   "cell_type": "code",
   "execution_count": 58,
   "id": "ffd3e46e",
   "metadata": {},
   "outputs": [
    {
     "name": "stdout",
     "output_type": "stream",
     "text": [
      "0.8869782480893592\n",
      "{'criterion': 'gini', 'max_depth': 8, 'max_features': 3, 'min_samples_split': 3, 'n_estimators': 27}\n"
     ]
    }
   ],
   "source": [
    "print(rf_grid.best_score_)\n",
    "print(rf_grid.best_params_)"
   ]
  },
  {
   "cell_type": "markdown",
   "id": "c69c63bf",
   "metadata": {},
   "source": [
    "RandomForest Classifier hyperparameter tuning using ParameterGrid(oob_score)"
   ]
  },
  {
   "cell_type": "code",
   "execution_count": 59,
   "id": "4116e63c",
   "metadata": {},
   "outputs": [],
   "source": [
    "from sklearn.model_selection import ParameterGrid"
   ]
  },
  {
   "cell_type": "code",
   "execution_count": 60,
   "id": "7df6373f",
   "metadata": {},
   "outputs": [],
   "source": [
    "rf=RandomForestClassifier(oob_score=True)\n",
    "param_grid={\n",
    "    'n_estimators':np.arange(1,50),\n",
    "    'max_depth':[5,6,7,8],\n",
    "    'criterion':['gini','entropy'],\n",
    "    'max_features':[3,5,7],\n",
    "    #'min_samples_split':[2,3,4]\n",
    "           }"
   ]
  },
  {
   "cell_type": "code",
   "execution_count": 61,
   "id": "72190bbe",
   "metadata": {},
   "outputs": [
    {
     "name": "stdout",
     "output_type": "stream",
     "text": [
      "OOB: 0.88742\n",
      "Grid: {'criterion': 'gini', 'max_depth': 8, 'max_features': 7, 'n_estimators': 48}\n"
     ]
    }
   ],
   "source": [
    "best_score=0\n",
    "for g in ParameterGrid(param_grid):\n",
    "    rf.set_params(**g)\n",
    "    rf.fit(X_train_sm,y_train_sm)\n",
    "    # save if best\n",
    "    if rf.oob_score_ > best_score:\n",
    "        best_score = rf.oob_score_\n",
    "        best_grid = g\n",
    "\n",
    "print (\"OOB: %0.5f\" % best_score) \n",
    "print (\"Grid:\", best_grid)"
   ]
  },
  {
   "cell_type": "code",
   "execution_count": 337,
   "id": "fa8861ed",
   "metadata": {
    "scrolled": true
   },
   "outputs": [
    {
     "name": "stdout",
     "output_type": "stream",
     "text": [
      "              precision    recall  f1-score   support\n",
      "\n",
      "           0       0.97      0.79      0.87      1458\n",
      "           1       0.11      0.49      0.18        75\n",
      "\n",
      "    accuracy                           0.78      1533\n",
      "   macro avg       0.54      0.64      0.53      1533\n",
      "weighted avg       0.93      0.78      0.84      1533\n",
      "\n",
      "0.78\n"
     ]
    }
   ],
   "source": [
    "rf=RandomForestClassifier(criterion= 'gini', max_depth= 8, max_features= 3, n_estimators=40)\n",
    "rf.fit(X_train_sm,y_train_sm)\n",
    "y_pred_rf=rf.predict(X_test)\n",
    "print(classification_report(y_test,y_pred_rf))\n",
    "y_scores_rf=rf.predict_proba(X_test)[:,1]\n",
    "f_rf,t_rf,_=roc_curve(y_test,y_scores_rf)\n",
    "roc_auc_rf=auc(f_rf,t_rf)\n",
    "print(round(roc_auc_rf,2))"
   ]
  },
  {
   "cell_type": "code",
   "execution_count": 338,
   "id": "7b985db4",
   "metadata": {},
   "outputs": [
    {
     "data": {
      "image/png": "[encoded data removed]",
      "text/plain": [
       "<Figure size 432x288 with 1 Axes>"
      ]
     },
     "metadata": {
      "needs_background": "light"
     },
     "output_type": "display_data"
    }
   ],
   "source": [
    "plt.plot([0, 1], [0, 1], 'k--')\n",
    "plt.plot(f_rf, t_rf)\n",
    "plt.xlabel('False Positive Rate')\n",
    "plt.ylabel('True Positive Rate')\n",
    "plt.title('ROC Curve')\n",
    "plt.show()"
   ]
  },
  {
   "cell_type": "markdown",
   "id": "3912b226",
   "metadata": {},
   "source": [
    "Two method was used for hyperparameter tuning of RandomForestClassifier. First is gridsearchCV and the second method was using parameter grid by best oob score."
   ]
  },
  {
   "cell_type": "markdown",
   "id": "a2329b75",
   "metadata": {},
   "source": [
    "Hyperparameter tuning of XGBoost Classifier using RandomizedSearchCV"
   ]
  },
  {
   "cell_type": "code",
   "execution_count": 328,
   "id": "c9e67da5",
   "metadata": {},
   "outputs": [],
   "source": [
    "from sklearn.model_selection import RandomizedSearchCV"
   ]
  },
  {
   "cell_type": "code",
   "execution_count": 341,
   "id": "56d8c0c9",
   "metadata": {},
   "outputs": [
    {
     "name": "stdout",
     "output_type": "stream",
     "text": [
      "Fitting 5 folds for each of 5 candidates, totalling 25 fits\n",
      "{'subsample': 0.6, 'n_estimators': 100, 'max_depth': 10, 'learning_rate': 0.3, 'colsample_bytree': 0.7999999999999999}\n",
      "0.9560577213986257\n",
      "[[1392   66]\n",
      " [  63   12]]\n",
      "              precision    recall  f1-score   support\n",
      "\n",
      "           0       0.96      0.95      0.96      1458\n",
      "           1       0.15      0.16      0.16        75\n",
      "\n",
      "    accuracy                           0.92      1533\n",
      "   macro avg       0.56      0.56      0.56      1533\n",
      "weighted avg       0.92      0.92      0.92      1533\n",
      "\n",
      "0.56\n"
     ]
    }
   ],
   "source": [
    "xgb=XGBClassifier(objective='binary:logistic',random_state=0,eval_metric='auc',)\n",
    "params={ 'max_depth': [3, 5, 6, 10],\n",
    "           'learning_rate': [0.1, 0.2, 0.3, 0.4],\n",
    "           'subsample': np.arange(0.6, 0.8, 1.0),\n",
    "           'colsample_bytree': np.arange(0.4, 1.0, 0.1),\n",
    "           'n_estimators': [100, 500, 1000]}\n",
    "random_search=RandomizedSearchCV(xgb,param_distributions=params,n_iter=5,n_jobs=4,verbose=2)\n",
    "random_search.fit(X_train_sm,y_train_sm)\n",
    "rs_ypred=random_search.predict(X_test)\n",
    "print(random_search.best_params_)\n",
    "print(random_search.best_score_)\n",
    "print(confusion_matrix(y_test,rs_ypred))\n",
    "print(classification_report(y_test,rs_ypred))\n",
    "y_scores_xgb=random_search.predict_proba(X_test)[:,1]\n",
    "f_xgb,t_xgb,_=roc_curve(y_test,rs_ypred)\n",
    "roc_auc_xgb=auc(f_xgb,t_xgb)\n",
    "print(round(roc_auc_xgb,2))"
   ]
  },
  {
   "cell_type": "code",
   "execution_count": 342,
   "id": "353c0998",
   "metadata": {},
   "outputs": [
    {
     "data": {
      "image/png": "[encoded data removed]",
      "text/plain": [
       "<Figure size 432x288 with 1 Axes>"
      ]
     },
     "metadata": {
      "needs_background": "light"
     },
     "output_type": "display_data"
    }
   ],
   "source": [
    "plt.plot([0, 1], [0, 1], 'k--')\n",
    "plt.plot(f_xgb, t_xgb)\n",
    "plt.xlabel('False Positive Rate')\n",
    "plt.ylabel('True Positive Rate')\n",
    "plt.title('ROC Curve')\n",
    "plt.show()"
   ]
  },
  {
   "cell_type": "markdown",
   "id": "ce0f0590",
   "metadata": {},
   "source": [
    "Hyperparameter tuning of LGBM Classifier using RandomizedSearchCV"
   ]
  },
  {
   "cell_type": "code",
   "execution_count": 344,
   "id": "f0ae7d5a",
   "metadata": {},
   "outputs": [
    {
     "name": "stdout",
     "output_type": "stream",
     "text": [
      "Fitting 10 folds for each of 10 candidates, totalling 100 fits\n",
      "[LightGBM] [Warning] min_data_in_leaf is set=10, min_child_samples=20 will be ignored. Current value: min_data_in_leaf=10\n",
      "{'subsample': 0.5, 'random_state': 42, 'objective': 'binary', 'num_leaves': 90, 'min_split_gain': 0.01, 'min_data_in_leaf': 10, 'metric': 'auc', 'max_depth': 7, 'learning_rate': 0.05, 'colsample_bytree': 0.7, 'boosting_type': 'gbdt'}\n",
      "0.936371469292563\n",
      "[[1320  138]\n",
      " [  50   25]]\n",
      "              precision    recall  f1-score   support\n",
      "\n",
      "           0       0.96      0.91      0.93      1458\n",
      "           1       0.15      0.33      0.21        75\n",
      "\n",
      "    accuracy                           0.88      1533\n",
      "   macro avg       0.56      0.62      0.57      1533\n",
      "weighted avg       0.92      0.88      0.90      1533\n",
      "\n",
      "0.62\n"
     ]
    }
   ],
   "source": [
    "lgbm=LGBMClassifier()\n",
    "params_lgbm = {\n",
    "    'learning_rate': [0.05,0.01,0.0001],\n",
    "    'num_leaves': [90,140,200],\n",
    "    'boosting_type' : ['gbdt'],\n",
    "    'objective' : ['binary'],\n",
    "    'max_depth' : [4,5,6,7],\n",
    "    'random_state' : [42], \n",
    "    'colsample_bytree' : [0.6,0.7,0.8,1.0],\n",
    "    'subsample' : [0.5,0.6,0.7,0.8,1.0],\n",
    "    'min_split_gain' : [0.01],\n",
    "    'min_data_in_leaf':[10],\n",
    "    'metric':['auc']\n",
    "    }\n",
    "clf=LGBMClassifier()\n",
    "LGBMRS=RandomizedSearchCV(clf,param_distributions=params_lgbm,verbose=2,cv=10,n_jobs=-1,n_iter=10)\n",
    "LGBMRS.fit(X_train_sm,y_train_sm)\n",
    "ypred_lgbm=LGBMRS.predict(X_test)\n",
    "print(LGBMRS.best_params_)\n",
    "print(LGBMRS.best_score_)\n",
    "print(confusion_matrix(y_test,ypred_lgbm))\n",
    "print(classification_report(y_test,ypred_lgbm))\n",
    "y_scores_lgbm=LGBMRS.predict_proba(X_test)[:,1]\n",
    "f_lgbm,t_lgbm,_=roc_curve(y_test,ypred_lgbm)\n",
    "roc_auc_lgbm=auc(f_lgbm,t_lgbm)\n",
    "print(round(roc_auc_lgbm,2))"
   ]
  },
  {
   "cell_type": "code",
   "execution_count": 345,
   "id": "3afd06cb",
   "metadata": {},
   "outputs": [
    {
     "data": {
      "image/png": "[encoded data removed]",
      "text/plain": [
       "<Figure size 432x288 with 1 Axes>"
      ]
     },
     "metadata": {
      "needs_background": "light"
     },
     "output_type": "display_data"
    }
   ],
   "source": [
    "plt.plot([0, 1], [0, 1], 'k--')\n",
    "plt.plot(f_lgbm, t_lgbm)\n",
    "plt.xlabel('False Positive Rate')\n",
    "plt.ylabel('True Positive Rate')\n",
    "plt.title('ROC Curve')\n",
    "plt.show()"
   ]
  },
  {
   "cell_type": "markdown",
   "id": "3e9604f1",
   "metadata": {},
   "source": [
    "<font size=\"4\"> Conclusion"
   ]
  },
  {
   "cell_type": "markdown",
   "id": "f82546b9",
   "metadata": {},
   "source": [
    "Stroke prediction models were developed using different classification models inclduing:\n",
    "- RandomForestClassification\n",
    "- XGBoost Classifier\n",
    "- LGBM Classifier\n",
    "\n",
    "Also different train/test samples were used to develop the models. Resampling techinques using SMOTE and ADASYN method from over sampling and Random Undersampling from undersampling technique to deal with imbalanced classification. \n",
    "To evaluate the model performance, accuracy, precision, recall and F1 scores were produced. Models with high accruracy scores were used for tuning to identify the hyperparameter of each models. \n",
    "For model tuning, GridSearchCV, ParameterGrid(oob_score),RandomizedSearchCV were used to determine the hyperparameter.\n",
    "The oprimized hyperparameters were used to calculate the ROC-AUC score and the RandomForestClassifier had the highest score with 0.78."
   ]
  }
 ],
 "metadata": {
  "kernelspec": {
   "display_name": "Python 3 (ipykernel)",
   "language": "python",
   "name": "python3"
  },
  "language_info": {
   "codemirror_mode": {
    "name": "ipython",
    "version": 3
   },
   "file_extension": ".py",
   "mimetype": "text/x-python",
   "name": "python",
   "nbconvert_exporter": "python",
   "pygments_lexer": "ipython3",
   "version": "3.9.7"
  }
 },
 "nbformat": 4,
 "nbformat_minor": 5
}

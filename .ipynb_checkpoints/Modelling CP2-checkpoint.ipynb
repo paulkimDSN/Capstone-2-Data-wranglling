{
 "cells": [
  {
   "cell_type": "markdown",
   "id": "426be34c",
   "metadata": {},
   "source": [
    "<font size=\"6\"> **Modelling**"
   ]
  },
  {
   "cell_type": "markdown",
   "id": "a517b414",
   "metadata": {},
   "source": [
    "In the previous notebook, the data was prepared to develop a model using different algorithms. The missing values of dataset was imputed, the target variable was deteremined, and the data set was splitted into train and test set. The numerical values were scaled using standardscaler method and categorical variables were encoded using get_dummies method. The data was prepared for modelling and logistic regression was used intially to perform the model development. However we have encountered with imbalanced classification data."
   ]
  },
  {
   "cell_type": "markdown",
   "id": "d7e97eec",
   "metadata": {},
   "source": [
    "In this notebook, the train/test dataset developed from the previous notebook will be used to develop models. Before we apply the algorithms to the data, the highly imbalanced data will be dealt before we apply the algorithms. Therefore, the data set will be resampled using three different resamplping technique and three different algorithms will be applied to each balanced datasets to produce models. "
   ]
  },
  {
   "cell_type": "markdown",
   "id": "1bb99305",
   "metadata": {},
   "source": [
    "Load the necessary data and tools."
   ]
  },
  {
   "cell_type": "code",
   "execution_count": 1,
   "id": "0ed41b6a",
   "metadata": {},
   "outputs": [],
   "source": [
    "from imblearn.over_sampling import SMOTE\n",
    "from imblearn.under_sampling import RandomUnderSampler\n",
    "from imblearn.over_sampling import ADASYN"
   ]
  },
  {
   "cell_type": "code",
   "execution_count": 2,
   "id": "2a52c09d",
   "metadata": {},
   "outputs": [],
   "source": [
    "import numpy as np\n",
    "import pandas as pd\n",
    "import matplotlib.pyplot as plt\n",
    "import seaborn as sns\n",
    "import warnings\n",
    "warnings.filterwarnings('ignore')"
   ]
  },
  {
   "cell_type": "code",
   "execution_count": 3,
   "id": "dd167e87",
   "metadata": {},
   "outputs": [],
   "source": [
    "from sklearn.model_selection import train_test_split\n",
    "from sklearn.linear_model import LogisticRegression\n",
    "from sklearn.metrics import accuracy_score\n",
    "from sklearn.metrics import precision_score, recall_score,roc_auc_score,f1_score\n",
    "from sklearn.preprocessing import StandardScaler\n",
    "from sklearn.metrics import classification_report\n",
    "from sklearn.metrics import confusion_matrix, roc_curve, auc,ConfusionMatrixDisplay"
   ]
  },
  {
   "cell_type": "code",
   "execution_count": 4,
   "id": "d9789c87",
   "metadata": {},
   "outputs": [],
   "source": [
    "df=pd.read_csv('..\\Capstone-2-Data-wranglling\\preprocessed.csv',index_col='id')\n",
    "X_train=pd.read_csv('..\\Capstone-2-Data-wranglling\\X_train.csv',index_col='id')\n",
    "y_train=pd.read_csv('..\\Capstone-2-Data-wranglling\\y_train.csv',index_col='id')\n",
    "X_test=pd.read_csv('..\\Capstone-2-Data-wranglling\\X_test.csv',index_col='id')\n",
    "y_test=pd.read_csv('..\\Capstone-2-Data-wranglling\\y_test.csv',index_col='id')"
   ]
  },
  {
   "cell_type": "code",
   "execution_count": 5,
   "id": "d4015154",
   "metadata": {},
   "outputs": [
    {
     "data": {
      "text/plain": [
       "(3576, 20)"
      ]
     },
     "execution_count": 5,
     "metadata": {},
     "output_type": "execute_result"
    }
   ],
   "source": [
    "X_train.shape"
   ]
  },
  {
   "cell_type": "code",
   "execution_count": 6,
   "id": "bf97aa17",
   "metadata": {},
   "outputs": [
    {
     "data": {
      "text/plain": [
       "(3576, 1)"
      ]
     },
     "execution_count": 6,
     "metadata": {},
     "output_type": "execute_result"
    }
   ],
   "source": [
    "y_train.shape"
   ]
  },
  {
   "cell_type": "code",
   "execution_count": 7,
   "id": "c2a6752b",
   "metadata": {},
   "outputs": [
    {
     "data": {
      "text/plain": [
       "stroke\n",
       "0         3402\n",
       "1          174\n",
       "dtype: int64"
      ]
     },
     "execution_count": 7,
     "metadata": {},
     "output_type": "execute_result"
    }
   ],
   "source": [
    "y_train.value_counts()"
   ]
  },
  {
   "cell_type": "markdown",
   "id": "e815f295",
   "metadata": {},
   "source": [
    "<font size=\"4\">**Dealing with Imbalanced Dataset**\n",
    "    "
   ]
  },
  {
   "cell_type": "markdown",
   "id": "94dd380c",
   "metadata": {},
   "source": [
    "Three different train and test samples were resampled with different resampling technique.Two Oversampling technique(SMOTE and ADASYN) and one Undersampling(RandomUndersampler) were used to produce new train and test samples."
   ]
  },
  {
   "cell_type": "code",
   "execution_count": 8,
   "id": "ca38a1af",
   "metadata": {},
   "outputs": [],
   "source": [
    "sm=SMOTE()\n",
    "X_train_sm,y_train_sm=sm.fit_resample(X_train,y_train)"
   ]
  },
  {
   "cell_type": "code",
   "execution_count": 9,
   "id": "36808dd3",
   "metadata": {},
   "outputs": [],
   "source": [
    "RUS=RandomUnderSampler()\n",
    "X_train_us,y_train_us=RUS.fit_resample(X_train,y_train)"
   ]
  },
  {
   "cell_type": "code",
   "execution_count": 10,
   "id": "a22ef04c",
   "metadata": {},
   "outputs": [],
   "source": [
    "AD=ADASYN()\n",
    "X_train_ad,y_train_ad=AD.fit_resample(X_train,y_train)"
   ]
  },
  {
   "cell_type": "markdown",
   "id": "cd2fa8d5",
   "metadata": {},
   "source": [
    "Shape and proportion of each train/test samples are checked to make confrim, resampling techniques are applied appropriately."
   ]
  },
  {
   "cell_type": "code",
   "execution_count": 11,
   "id": "b4594172",
   "metadata": {},
   "outputs": [
    {
     "data": {
      "text/plain": [
       "(6804, 20)"
      ]
     },
     "execution_count": 11,
     "metadata": {},
     "output_type": "execute_result"
    }
   ],
   "source": [
    "X_train_sm.shape"
   ]
  },
  {
   "cell_type": "code",
   "execution_count": 12,
   "id": "000ef59b",
   "metadata": {},
   "outputs": [
    {
     "data": {
      "text/plain": [
       "stroke\n",
       "0         3402\n",
       "1         3402\n",
       "dtype: int64"
      ]
     },
     "execution_count": 12,
     "metadata": {},
     "output_type": "execute_result"
    }
   ],
   "source": [
    "y_train_sm.value_counts()"
   ]
  },
  {
   "cell_type": "code",
   "execution_count": 13,
   "id": "a0ec5c74",
   "metadata": {},
   "outputs": [
    {
     "data": {
      "text/plain": [
       "(348, 20)"
      ]
     },
     "execution_count": 13,
     "metadata": {},
     "output_type": "execute_result"
    }
   ],
   "source": [
    "X_train_us.shape"
   ]
  },
  {
   "cell_type": "code",
   "execution_count": 14,
   "id": "f659d7f1",
   "metadata": {},
   "outputs": [
    {
     "data": {
      "text/plain": [
       "stroke\n",
       "0         174\n",
       "1         174\n",
       "dtype: int64"
      ]
     },
     "execution_count": 14,
     "metadata": {},
     "output_type": "execute_result"
    }
   ],
   "source": [
    "y_train_us.value_counts()"
   ]
  },
  {
   "cell_type": "code",
   "execution_count": 15,
   "id": "a18a37ef",
   "metadata": {},
   "outputs": [
    {
     "data": {
      "text/plain": [
       "stroke\n",
       "0         3402\n",
       "1         3334\n",
       "dtype: int64"
      ]
     },
     "execution_count": 15,
     "metadata": {},
     "output_type": "execute_result"
    }
   ],
   "source": [
    "y_train_ad.value_counts()"
   ]
  },
  {
   "cell_type": "markdown",
   "id": "90811031",
   "metadata": {},
   "source": [
    "Logistic Regression for resampled with SMOTE method was developed to see the difference from the previous notebook(Logistic Regression with before resampling)."
   ]
  },
  {
   "cell_type": "code",
   "execution_count": 16,
   "id": "933351b5",
   "metadata": {},
   "outputs": [],
   "source": [
    "LR=LogisticRegression()\n",
    "LR.fit(X_train_sm,y_train_sm)\n",
    "ypred=LR.predict(X_test)"
   ]
  },
  {
   "cell_type": "code",
   "execution_count": 17,
   "id": "ca071599",
   "metadata": {},
   "outputs": [
    {
     "name": "stdout",
     "output_type": "stream",
     "text": [
      "              precision    recall  f1-score   support\n",
      "\n",
      "           0       0.97      0.89      0.93      1458\n",
      "           1       0.19      0.52      0.28        75\n",
      "\n",
      "    accuracy                           0.87      1533\n",
      "   macro avg       0.58      0.70      0.60      1533\n",
      "weighted avg       0.93      0.87      0.90      1533\n",
      "\n"
     ]
    }
   ],
   "source": [
    "print(classification_report(y_test,ypred))"
   ]
  },
  {
   "cell_type": "code",
   "execution_count": 18,
   "id": "ef41030e",
   "metadata": {},
   "outputs": [
    {
     "name": "stdout",
     "output_type": "stream",
     "text": [
      "0.8695368558382257\n"
     ]
    }
   ],
   "source": [
    "print(accuracy_score(y_test,ypred))"
   ]
  },
  {
   "cell_type": "code",
   "execution_count": 19,
   "id": "5474df3a",
   "metadata": {
    "scrolled": true
   },
   "outputs": [
    {
     "data": {
      "text/plain": [
       "array([[1294,  164],\n",
       "       [  36,   39]], dtype=int64)"
      ]
     },
     "execution_count": 19,
     "metadata": {},
     "output_type": "execute_result"
    }
   ],
   "source": [
    "cf_mat=confusion_matrix(y_test,ypred)\n",
    "cf_mat"
   ]
  },
  {
   "cell_type": "markdown",
   "id": "10a0c4ba",
   "metadata": {},
   "source": [
    "As the calssification report showw, it has improved recall score dramatically from 0.03 to 0.52."
   ]
  },
  {
   "cell_type": "markdown",
   "id": "8b235bf3",
   "metadata": {},
   "source": [
    "<font size=\"4\">**Modelling with Oversmapled Dataset(SMOTE Method)**"
   ]
  },
  {
   "cell_type": "markdown",
   "id": "25647b44",
   "metadata": {},
   "source": [
    "Three different algorithms were used to develop a model with resampled (SMOTE technique) train/test sets."
   ]
  },
  {
   "cell_type": "markdown",
   "id": "46ee9644",
   "metadata": {},
   "source": [
    "First, RandomForestClassifier was used to develop a model."
   ]
  },
  {
   "cell_type": "code",
   "execution_count": 20,
   "id": "051b90f6",
   "metadata": {},
   "outputs": [],
   "source": [
    "from sklearn.ensemble import RandomForestClassifier"
   ]
  },
  {
   "cell_type": "code",
   "execution_count": 21,
   "id": "8bab2934",
   "metadata": {},
   "outputs": [],
   "source": [
    "RF=RandomForestClassifier(random_state=0,oob_score=True)\n",
    "RF.fit(X_train_sm,y_train_sm)\n",
    "ypredRF=RF.predict(X_test)"
   ]
  },
  {
   "cell_type": "code",
   "execution_count": 22,
   "id": "29064348",
   "metadata": {},
   "outputs": [
    {
     "name": "stdout",
     "output_type": "stream",
     "text": [
      "0.9611992945326279\n"
     ]
    }
   ],
   "source": [
    "print(RF.oob_score_)"
   ]
  },
  {
   "cell_type": "code",
   "execution_count": 23,
   "id": "1d522973",
   "metadata": {},
   "outputs": [],
   "source": [
    "acc_RF=accuracy_score(y_test,ypredRF)\n",
    "prec_RF=precision_score(y_test,ypredRF)\n",
    "rec_RF=recall_score(y_test,ypredRF)\n",
    "f1_RF=f1_score(y_test,ypredRF)"
   ]
  },
  {
   "cell_type": "code",
   "execution_count": 24,
   "id": "89b1811d",
   "metadata": {},
   "outputs": [
    {
     "name": "stdout",
     "output_type": "stream",
     "text": [
      "              precision    recall  f1-score   support\n",
      "\n",
      "           0       0.96      0.95      0.95      1458\n",
      "           1       0.14      0.15      0.14        75\n",
      "\n",
      "    accuracy                           0.91      1533\n",
      "   macro avg       0.55      0.55      0.55      1533\n",
      "weighted avg       0.92      0.91      0.91      1533\n",
      "\n"
     ]
    }
   ],
   "source": [
    "print(classification_report(y_test,ypredRF))"
   ]
  },
  {
   "cell_type": "code",
   "execution_count": 25,
   "id": "7db9842a",
   "metadata": {
    "scrolled": true
   },
   "outputs": [
    {
     "data": {
      "text/plain": [
       "array([[1390,   68],\n",
       "       [  64,   11]], dtype=int64)"
      ]
     },
     "execution_count": 25,
     "metadata": {},
     "output_type": "execute_result"
    }
   ],
   "source": [
    "cfrf=confusion_matrix(y_test,ypredRF)\n",
    "cfrf"
   ]
  },
  {
   "cell_type": "markdown",
   "id": "42e3151a",
   "metadata": {},
   "source": [
    "XGBoost Classifier was used secondly, to develop another model."
   ]
  },
  {
   "cell_type": "code",
   "execution_count": 26,
   "id": "bf0dcf27",
   "metadata": {},
   "outputs": [],
   "source": [
    "from xgboost import XGBClassifier"
   ]
  },
  {
   "cell_type": "code",
   "execution_count": 27,
   "id": "8db0931e",
   "metadata": {},
   "outputs": [],
   "source": [
    "xgb=XGBClassifier(learning_rate=0.1,objective='binary:logistic',random_state=0,eval_metric='error')\n",
    "xgb.fit(X_train_sm,y_train_sm)\n",
    "ypred_xgb=xgb.predict(X_test)\n"
   ]
  },
  {
   "cell_type": "code",
   "execution_count": 28,
   "id": "5cbd5fbe",
   "metadata": {},
   "outputs": [
    {
     "name": "stdout",
     "output_type": "stream",
     "text": [
      "[[1331  127]\n",
      " [  53   22]]\n"
     ]
    }
   ],
   "source": [
    "print(confusion_matrix(y_test,ypred_xgb))"
   ]
  },
  {
   "cell_type": "code",
   "execution_count": 29,
   "id": "42fbf98b",
   "metadata": {},
   "outputs": [
    {
     "name": "stdout",
     "output_type": "stream",
     "text": [
      "              precision    recall  f1-score   support\n",
      "\n",
      "           0       0.96      0.91      0.94      1458\n",
      "           1       0.15      0.29      0.20        75\n",
      "\n",
      "    accuracy                           0.88      1533\n",
      "   macro avg       0.55      0.60      0.57      1533\n",
      "weighted avg       0.92      0.88      0.90      1533\n",
      "\n"
     ]
    }
   ],
   "source": [
    "print(classification_report(y_test,ypred_xgb))"
   ]
  },
  {
   "cell_type": "code",
   "execution_count": 30,
   "id": "04821fe5",
   "metadata": {},
   "outputs": [],
   "source": [
    "acc_xgb_sm=accuracy_score(y_test,ypred_xgb)\n",
    "prec_xgb_sm=precision_score(y_test,ypred_xgb)\n",
    "rec_xgb_sm=recall_score(y_test,ypred_xgb)\n",
    "f1_xgb_sm=f1_score(y_test,ypred_xgb)"
   ]
  },
  {
   "cell_type": "markdown",
   "id": "ba0c238b",
   "metadata": {},
   "source": [
    "Lastly, LGBM Classifier was used to develop a model."
   ]
  },
  {
   "cell_type": "code",
   "execution_count": 31,
   "id": "b5acc7d2",
   "metadata": {},
   "outputs": [],
   "source": [
    "from lightgbm import LGBMClassifier"
   ]
  },
  {
   "cell_type": "code",
   "execution_count": 32,
   "id": "a8befcf2",
   "metadata": {},
   "outputs": [],
   "source": [
    "lgbm=LGBMClassifier()\n",
    "lgbm.fit(X_train_sm,y_train_sm)\n",
    "ypred_lgbm=lgbm.predict(X_test)"
   ]
  },
  {
   "cell_type": "code",
   "execution_count": 33,
   "id": "48ed1d52",
   "metadata": {
    "scrolled": true
   },
   "outputs": [
    {
     "name": "stdout",
     "output_type": "stream",
     "text": [
      "[[1387   71]\n",
      " [  57   18]]\n"
     ]
    }
   ],
   "source": [
    "print(confusion_matrix(y_test,ypred_lgbm))"
   ]
  },
  {
   "cell_type": "code",
   "execution_count": 34,
   "id": "7338540e",
   "metadata": {},
   "outputs": [
    {
     "name": "stdout",
     "output_type": "stream",
     "text": [
      "              precision    recall  f1-score   support\n",
      "\n",
      "           0       0.96      0.95      0.96      1458\n",
      "           1       0.20      0.24      0.22        75\n",
      "\n",
      "    accuracy                           0.92      1533\n",
      "   macro avg       0.58      0.60      0.59      1533\n",
      "weighted avg       0.92      0.92      0.92      1533\n",
      "\n"
     ]
    }
   ],
   "source": [
    "print(classification_report(y_test,ypred_lgbm))"
   ]
  },
  {
   "cell_type": "code",
   "execution_count": 35,
   "id": "294c3a80",
   "metadata": {},
   "outputs": [],
   "source": [
    "acc_lgbm_sm=accuracy_score(y_test,ypred_lgbm)\n",
    "prec_lgbm_sm=precision_score(y_test,ypred_lgbm)\n",
    "rec_lgbm_sm=recall_score(y_test,ypred_lgbm)\n",
    "f1_lgbm_sm=f1_score(y_test,ypred_lgbm)"
   ]
  },
  {
   "cell_type": "markdown",
   "id": "f9ff7ad7",
   "metadata": {},
   "source": [
    "<font size=\"4\">**Modelling With Oversampled Dataset (ADASYN Method)**"
   ]
  },
  {
   "cell_type": "markdown",
   "id": "075a2c21",
   "metadata": {},
   "source": [
    "Other models were developed with same algorithms but different resampling technique(ADASYN Method)"
   ]
  },
  {
   "cell_type": "markdown",
   "id": "ff9bac04",
   "metadata": {},
   "source": [
    "First, RandomForest Classifier with ADASYN oversampling techinque used train/test samples."
   ]
  },
  {
   "cell_type": "code",
   "execution_count": 36,
   "id": "9d70e7bf",
   "metadata": {},
   "outputs": [],
   "source": [
    "RF=RandomForestClassifier(random_state=0,oob_score=True)\n",
    "RF.fit(X_train_ad,y_train_ad)\n",
    "ypredRF_ad=RF.predict(X_test)"
   ]
  },
  {
   "cell_type": "code",
   "execution_count": 37,
   "id": "98ef6683",
   "metadata": {},
   "outputs": [
    {
     "name": "stdout",
     "output_type": "stream",
     "text": [
      "0.9590261282660333\n"
     ]
    }
   ],
   "source": [
    "print(RF.oob_score_)"
   ]
  },
  {
   "cell_type": "code",
   "execution_count": 38,
   "id": "85974dde",
   "metadata": {},
   "outputs": [
    {
     "name": "stdout",
     "output_type": "stream",
     "text": [
      "              precision    recall  f1-score   support\n",
      "\n",
      "           0       0.96      0.95      0.95      1458\n",
      "           1       0.14      0.16      0.15        75\n",
      "\n",
      "    accuracy                           0.91      1533\n",
      "   macro avg       0.55      0.56      0.55      1533\n",
      "weighted avg       0.92      0.91      0.91      1533\n",
      "\n"
     ]
    }
   ],
   "source": [
    "print(classification_report(y_test,ypredRF_ad))"
   ]
  },
  {
   "cell_type": "code",
   "execution_count": 39,
   "id": "acec8195",
   "metadata": {},
   "outputs": [
    {
     "data": {
      "text/plain": [
       "array([[1386,   72],\n",
       "       [  63,   12]], dtype=int64)"
      ]
     },
     "execution_count": 39,
     "metadata": {},
     "output_type": "execute_result"
    }
   ],
   "source": [
    "cfrf=confusion_matrix(y_test,ypredRF_ad)\n",
    "cfrf"
   ]
  },
  {
   "cell_type": "code",
   "execution_count": 40,
   "id": "5ecdad8c",
   "metadata": {},
   "outputs": [],
   "source": [
    "acc_RF_ad=accuracy_score(y_test,ypredRF_ad)\n",
    "prec_RF_ad=precision_score(y_test,ypredRF_ad)\n",
    "rec_RF_ad=recall_score(y_test,ypredRF_ad)\n",
    "f1_RF_ad=f1_score(y_test,ypredRF_ad)"
   ]
  },
  {
   "cell_type": "markdown",
   "id": "2f009159",
   "metadata": {},
   "source": [
    "XGBoost Classifier algorithm was used with ADASYN resampled train/test sets."
   ]
  },
  {
   "cell_type": "code",
   "execution_count": 41,
   "id": "de5f8ffa",
   "metadata": {},
   "outputs": [],
   "source": [
    "xgb=XGBClassifier(learning_rate=0.1,objective='binary:logistic',random_state=0,eval_metric='error')\n",
    "xgb.fit(X_train_ad,y_train_ad)\n",
    "ypred_xgb_ad=xgb.predict(X_test)\n"
   ]
  },
  {
   "cell_type": "code",
   "execution_count": 42,
   "id": "f104c597",
   "metadata": {},
   "outputs": [
    {
     "name": "stdout",
     "output_type": "stream",
     "text": [
      "[[1341  117]\n",
      " [  54   21]]\n"
     ]
    }
   ],
   "source": [
    "print(confusion_matrix(y_test,ypred_xgb_ad))"
   ]
  },
  {
   "cell_type": "code",
   "execution_count": 43,
   "id": "23318aa1",
   "metadata": {},
   "outputs": [
    {
     "name": "stdout",
     "output_type": "stream",
     "text": [
      "              precision    recall  f1-score   support\n",
      "\n",
      "           0       0.96      0.92      0.94      1458\n",
      "           1       0.15      0.28      0.20        75\n",
      "\n",
      "    accuracy                           0.89      1533\n",
      "   macro avg       0.56      0.60      0.57      1533\n",
      "weighted avg       0.92      0.89      0.90      1533\n",
      "\n"
     ]
    }
   ],
   "source": [
    "print(classification_report(y_test,ypred_xgb_ad))"
   ]
  },
  {
   "cell_type": "code",
   "execution_count": 44,
   "id": "6092b99f",
   "metadata": {},
   "outputs": [],
   "source": [
    "acc_xgb_ad=accuracy_score(y_test,ypred_xgb_ad)\n",
    "prec_xgb_ad=precision_score(y_test,ypred_xgb_ad)\n",
    "rec_xgb_ad=recall_score(y_test,ypred_xgb_ad)\n",
    "f1_xgb_ad=f1_score(y_test,ypred_xgb_ad)"
   ]
  },
  {
   "cell_type": "markdown",
   "id": "4ac8ff2b",
   "metadata": {},
   "source": [
    "Lastly, LGBM Classifier with ADASYN samples."
   ]
  },
  {
   "cell_type": "code",
   "execution_count": 45,
   "id": "fbc415a2",
   "metadata": {},
   "outputs": [],
   "source": [
    "lgbm=LGBMClassifier()\n",
    "lgbm.fit(X_train_ad,y_train_ad)\n",
    "ypred_lgbm_ad=lgbm.predict(X_test)"
   ]
  },
  {
   "cell_type": "code",
   "execution_count": 46,
   "id": "cd1fa4b3",
   "metadata": {},
   "outputs": [
    {
     "name": "stdout",
     "output_type": "stream",
     "text": [
      "              precision    recall  f1-score   support\n",
      "\n",
      "           0       0.96      0.96      0.96      1458\n",
      "           1       0.21      0.20      0.20        75\n",
      "\n",
      "    accuracy                           0.92      1533\n",
      "   macro avg       0.58      0.58      0.58      1533\n",
      "weighted avg       0.92      0.92      0.92      1533\n",
      "\n"
     ]
    }
   ],
   "source": [
    "print(classification_report(y_test,ypred_lgbm_ad))"
   ]
  },
  {
   "cell_type": "code",
   "execution_count": 47,
   "id": "edfcaf58",
   "metadata": {
    "scrolled": false
   },
   "outputs": [
    {
     "name": "stdout",
     "output_type": "stream",
     "text": [
      "[[1401   57]\n",
      " [  60   15]]\n"
     ]
    }
   ],
   "source": [
    "print(confusion_matrix(y_test,ypred_lgbm_ad))"
   ]
  },
  {
   "cell_type": "code",
   "execution_count": 48,
   "id": "22ae7350",
   "metadata": {},
   "outputs": [],
   "source": [
    "acc_lgbm_ad=accuracy_score(y_test,ypred_lgbm_ad)\n",
    "prec_lgbm_ad=precision_score(y_test,ypred_lgbm_ad)\n",
    "rec_lgbm_ad=recall_score(y_test,ypred_lgbm_ad)\n",
    "f1_lgbm_ad=f1_score(y_test,ypred_lgbm_ad)"
   ]
  },
  {
   "cell_type": "markdown",
   "id": "7d5d1d7f",
   "metadata": {},
   "source": [
    "<font size=\"4\">**Modelling with undersampled dataset(RandomUndersampler)**\n",
    "\n"
   ]
  },
  {
   "cell_type": "markdown",
   "id": "15713591",
   "metadata": {},
   "source": [
    "Lastly. same algorithms with another train/test sets used undersampling technique."
   ]
  },
  {
   "cell_type": "markdown",
   "id": "7bed832b",
   "metadata": {},
   "source": [
    "First, RandomForest Classifier."
   ]
  },
  {
   "cell_type": "code",
   "execution_count": 49,
   "id": "a6247e36",
   "metadata": {},
   "outputs": [],
   "source": [
    "RF=RandomForestClassifier(random_state=0,oob_score=True)\n",
    "RF.fit(X_train_us,y_train_us)\n",
    "ypred_RF_us=RF.predict(X_test)"
   ]
  },
  {
   "cell_type": "code",
   "execution_count": 50,
   "id": "dc466211",
   "metadata": {},
   "outputs": [
    {
     "name": "stdout",
     "output_type": "stream",
     "text": [
      "[[1014  444]\n",
      " [  12   63]]\n"
     ]
    }
   ],
   "source": [
    "print(confusion_matrix(y_test,ypred_RF_us))"
   ]
  },
  {
   "cell_type": "code",
   "execution_count": 51,
   "id": "54cce030",
   "metadata": {},
   "outputs": [
    {
     "name": "stdout",
     "output_type": "stream",
     "text": [
      "              precision    recall  f1-score   support\n",
      "\n",
      "           0       0.99      0.70      0.82      1458\n",
      "           1       0.12      0.84      0.22        75\n",
      "\n",
      "    accuracy                           0.70      1533\n",
      "   macro avg       0.56      0.77      0.52      1533\n",
      "weighted avg       0.95      0.70      0.79      1533\n",
      "\n"
     ]
    }
   ],
   "source": [
    "print(classification_report(y_test,ypred_RF_us))"
   ]
  },
  {
   "cell_type": "code",
   "execution_count": 52,
   "id": "caa6e00d",
   "metadata": {},
   "outputs": [
    {
     "name": "stdout",
     "output_type": "stream",
     "text": [
      "0.7557471264367817\n"
     ]
    }
   ],
   "source": [
    "print(RF.oob_score_)"
   ]
  },
  {
   "cell_type": "code",
   "execution_count": 53,
   "id": "3471eb89",
   "metadata": {},
   "outputs": [],
   "source": [
    "acc_RF_us=accuracy_score(y_test,ypred_RF_us)\n",
    "prec_RF_us=precision_score(y_test,ypred_RF_us)\n",
    "rec_RF_us=recall_score(y_test,ypred_RF_us)\n",
    "f1_RF_us=f1_score(y_test,ypred_RF_us)"
   ]
  },
  {
   "cell_type": "markdown",
   "id": "6d2566e0",
   "metadata": {},
   "source": [
    "Secondly, XGBoost Classifier."
   ]
  },
  {
   "cell_type": "code",
   "execution_count": 54,
   "id": "b00b70c6",
   "metadata": {},
   "outputs": [],
   "source": [
    "xgb=XGBClassifier(learning_rate=0.1,objective='binary:logistic',random_state=0,eval_metric='error')\n",
    "xgb.fit(X_train_us,y_train_us)\n",
    "ypred_xgb_us=xgb.predict(X_test)\n"
   ]
  },
  {
   "cell_type": "code",
   "execution_count": 55,
   "id": "a5d67835",
   "metadata": {},
   "outputs": [
    {
     "name": "stdout",
     "output_type": "stream",
     "text": [
      "              precision    recall  f1-score   support\n",
      "\n",
      "           0       0.98      0.69      0.81      1458\n",
      "           1       0.12      0.79      0.20        75\n",
      "\n",
      "    accuracy                           0.69      1533\n",
      "   macro avg       0.55      0.74      0.51      1533\n",
      "weighted avg       0.94      0.69      0.78      1533\n",
      "\n"
     ]
    }
   ],
   "source": [
    "print(classification_report(y_test,ypred_xgb_us))"
   ]
  },
  {
   "cell_type": "code",
   "execution_count": 56,
   "id": "4016570b",
   "metadata": {},
   "outputs": [
    {
     "name": "stdout",
     "output_type": "stream",
     "text": [
      "[[1006  452]\n",
      " [  16   59]]\n"
     ]
    }
   ],
   "source": [
    "print(confusion_matrix(y_test,ypred_xgb_us))"
   ]
  },
  {
   "cell_type": "code",
   "execution_count": 57,
   "id": "12c2df56",
   "metadata": {},
   "outputs": [],
   "source": [
    "acc_xgb_us=accuracy_score(y_test,ypred_xgb_us)\n",
    "prec_xgb_us=precision_score(y_test,ypred_xgb_us)\n",
    "rec_xgb_us=recall_score(y_test,ypred_xgb_us)\n",
    "f1_xgb_us=f1_score(y_test,ypred_xgb_us)"
   ]
  },
  {
   "cell_type": "markdown",
   "id": "59329f42",
   "metadata": {},
   "source": [
    "Lastly, LGBM Classifier with undersampled train/test sets."
   ]
  },
  {
   "cell_type": "code",
   "execution_count": 58,
   "id": "6a4706f9",
   "metadata": {},
   "outputs": [],
   "source": [
    "lgbm=LGBMClassifier()\n",
    "lgbm.fit(X_train_us,y_train_us)\n",
    "ypred_lgbm_us=lgbm.predict(X_test)"
   ]
  },
  {
   "cell_type": "code",
   "execution_count": 59,
   "id": "65287050",
   "metadata": {},
   "outputs": [
    {
     "name": "stdout",
     "output_type": "stream",
     "text": [
      "              precision    recall  f1-score   support\n",
      "\n",
      "           0       0.98      0.70      0.82      1458\n",
      "           1       0.11      0.72      0.19        75\n",
      "\n",
      "    accuracy                           0.70      1533\n",
      "   macro avg       0.54      0.71      0.50      1533\n",
      "weighted avg       0.94      0.70      0.79      1533\n",
      "\n"
     ]
    }
   ],
   "source": [
    "print(classification_report(y_test,ypred_lgbm_us))"
   ]
  },
  {
   "cell_type": "code",
   "execution_count": 60,
   "id": "f6693bb1",
   "metadata": {},
   "outputs": [
    {
     "name": "stdout",
     "output_type": "stream",
     "text": [
      "[[1019  439]\n",
      " [  21   54]]\n"
     ]
    }
   ],
   "source": [
    "print(confusion_matrix(y_test,ypred_lgbm_us))"
   ]
  },
  {
   "cell_type": "code",
   "execution_count": 61,
   "id": "d8402331",
   "metadata": {},
   "outputs": [],
   "source": [
    "acc_lgbm_us=accuracy_score(y_test,ypred_lgbm_us)\n",
    "prec_lgbm_us=precision_score(y_test,ypred_lgbm_us)\n",
    "rec_lgbm_us=recall_score(y_test,ypred_lgbm_us)\n",
    "f1_lgbm_us=f1_score(y_test,ypred_lgbm_us)"
   ]
  },
  {
   "cell_type": "markdown",
   "id": "926e4844",
   "metadata": {},
   "source": [
    "Next, a table was created with all the scores stored for each algorithm and resampling techinque in different variables for comparison"
   ]
  },
  {
   "cell_type": "code",
   "execution_count": 62,
   "id": "9a6080a1",
   "metadata": {},
   "outputs": [],
   "source": [
    "table=[]"
   ]
  },
  {
   "cell_type": "code",
   "execution_count": 63,
   "id": "ce762caf",
   "metadata": {},
   "outputs": [],
   "source": [
    "t1=[acc_RF,prec_RF,rec_RF,f1_RF]\n",
    "t2=[acc_xgb_sm,prec_xgb_sm,rec_xgb_sm,f1_xgb_sm]\n",
    "t3=[acc_lgbm_sm,prec_lgbm_sm,rec_lgbm_sm,f1_lgbm_sm]\n",
    "t4=[acc_RF_ad,prec_RF_ad,rec_RF_ad,f1_RF_ad]\n",
    "t5=[acc_xgb_ad,prec_xgb_ad,rec_xgb_ad,f1_xgb_ad]\n",
    "t6=[acc_lgbm_ad,prec_lgbm_ad,rec_lgbm_ad,f1_lgbm_ad]\n",
    "t7=[acc_RF_us,prec_RF_us,rec_RF_us,f1_RF_us]\n",
    "t8=[acc_xgb_us,prec_xgb_us,rec_xgb_us,f1_xgb_us]\n",
    "t9=[acc_lgbm_us,prec_lgbm_us,rec_lgbm_us,f1_lgbm_us]"
   ]
  },
  {
   "cell_type": "markdown",
   "id": "040af113",
   "metadata": {},
   "source": [
    "Dataframe is created and list of scores for each algorithms are appended to the table."
   ]
  },
  {
   "cell_type": "code",
   "execution_count": 64,
   "id": "6303e6ba",
   "metadata": {
    "scrolled": true
   },
   "outputs": [],
   "source": [
    "table.append(t1)\n",
    "df2 = pd.DataFrame(table,index=['Random Forest SMOTE'],columns=['Accuracy_score','Precision_score','Recall','F1Score'])"
   ]
  },
  {
   "cell_type": "code",
   "execution_count": 65,
   "id": "31f8607d",
   "metadata": {
    "scrolled": false
   },
   "outputs": [],
   "source": [
    "df2.loc[len(df2)]=t2\n",
    "df2.loc[len(df2)]=t3\n",
    "df2.loc[len(df2)]=t4\n",
    "df2.loc[len(df2)]=t5\n",
    "df2.loc[len(df2)]=t6\n",
    "df2.loc[len(df2)]=t7\n",
    "df2.loc[len(df2)]=t8\n",
    "df2.loc[len(df2)]=t9"
   ]
  },
  {
   "cell_type": "markdown",
   "id": "8dc29507",
   "metadata": {},
   "source": [
    "Table with accuracy, precision, recall and F1 score for each algorithm and resampling technique is created."
   ]
  },
  {
   "cell_type": "code",
   "execution_count": 66,
   "id": "2f2f8a43",
   "metadata": {
    "scrolled": false
   },
   "outputs": [
    {
     "data": {
      "text/html": [
       "<div>\n",
       "<style scoped>\n",
       "    .dataframe tbody tr th:only-of-type {\n",
       "        vertical-align: middle;\n",
       "    }\n",
       "\n",
       "    .dataframe tbody tr th {\n",
       "        vertical-align: top;\n",
       "    }\n",
       "\n",
       "    .dataframe thead th {\n",
       "        text-align: right;\n",
       "    }\n",
       "</style>\n",
       "<table border=\"1\" class=\"dataframe\">\n",
       "  <thead>\n",
       "    <tr style=\"text-align: right;\">\n",
       "      <th></th>\n",
       "      <th>Accuracy_score</th>\n",
       "      <th>Precision_score</th>\n",
       "      <th>Recall</th>\n",
       "      <th>F1Score</th>\n",
       "    </tr>\n",
       "  </thead>\n",
       "  <tbody>\n",
       "    <tr>\n",
       "      <th>LGBM ADASYN</th>\n",
       "      <td>0.923679</td>\n",
       "      <td>0.208333</td>\n",
       "      <td>0.200000</td>\n",
       "      <td>0.204082</td>\n",
       "    </tr>\n",
       "    <tr>\n",
       "      <th>LGBM SMOTE</th>\n",
       "      <td>0.916504</td>\n",
       "      <td>0.202247</td>\n",
       "      <td>0.240000</td>\n",
       "      <td>0.219512</td>\n",
       "    </tr>\n",
       "    <tr>\n",
       "      <th>Random Forest SMOTE</th>\n",
       "      <td>0.913894</td>\n",
       "      <td>0.139241</td>\n",
       "      <td>0.146667</td>\n",
       "      <td>0.142857</td>\n",
       "    </tr>\n",
       "    <tr>\n",
       "      <th>Random Forest ADASYN</th>\n",
       "      <td>0.911937</td>\n",
       "      <td>0.142857</td>\n",
       "      <td>0.160000</td>\n",
       "      <td>0.150943</td>\n",
       "    </tr>\n",
       "    <tr>\n",
       "      <th>XGBoost Adasyn</th>\n",
       "      <td>0.888454</td>\n",
       "      <td>0.152174</td>\n",
       "      <td>0.280000</td>\n",
       "      <td>0.197183</td>\n",
       "    </tr>\n",
       "    <tr>\n",
       "      <th>XGBoost SMOTE</th>\n",
       "      <td>0.882583</td>\n",
       "      <td>0.147651</td>\n",
       "      <td>0.293333</td>\n",
       "      <td>0.196429</td>\n",
       "    </tr>\n",
       "    <tr>\n",
       "      <th>Random Forest Undersample</th>\n",
       "      <td>0.702544</td>\n",
       "      <td>0.124260</td>\n",
       "      <td>0.840000</td>\n",
       "      <td>0.216495</td>\n",
       "    </tr>\n",
       "    <tr>\n",
       "      <th>LGBM Undersample</th>\n",
       "      <td>0.699935</td>\n",
       "      <td>0.109533</td>\n",
       "      <td>0.720000</td>\n",
       "      <td>0.190141</td>\n",
       "    </tr>\n",
       "    <tr>\n",
       "      <th>XGBoost Undersample</th>\n",
       "      <td>0.694716</td>\n",
       "      <td>0.115460</td>\n",
       "      <td>0.786667</td>\n",
       "      <td>0.201365</td>\n",
       "    </tr>\n",
       "  </tbody>\n",
       "</table>\n",
       "</div>"
      ],
      "text/plain": [
       "                           Accuracy_score  Precision_score    Recall   F1Score\n",
       "LGBM ADASYN                      0.923679         0.208333  0.200000  0.204082\n",
       "LGBM SMOTE                       0.916504         0.202247  0.240000  0.219512\n",
       "Random Forest SMOTE              0.913894         0.139241  0.146667  0.142857\n",
       "Random Forest ADASYN             0.911937         0.142857  0.160000  0.150943\n",
       "XGBoost Adasyn                   0.888454         0.152174  0.280000  0.197183\n",
       "XGBoost SMOTE                    0.882583         0.147651  0.293333  0.196429\n",
       "Random Forest Undersample        0.702544         0.124260  0.840000  0.216495\n",
       "LGBM Undersample                 0.699935         0.109533  0.720000  0.190141\n",
       "XGBoost Undersample              0.694716         0.115460  0.786667  0.201365"
      ]
     },
     "execution_count": 66,
     "metadata": {},
     "output_type": "execute_result"
    }
   ],
   "source": [
    "df2=df2.rename(index={1:'XGBoost SMOTE',2:'LGBM SMOTE',3:'Random Forest ADASYN',4:'XGBoost Adasyn',5:'LGBM ADASYN',6:'Random Forest Undersample',7:'XGBoost Undersample',8:'LGBM Undersample'})\n",
    "df2.sort_values(by='Accuracy_score',ascending=False)"
   ]
  },
  {
   "cell_type": "markdown",
   "id": "2923d24a",
   "metadata": {},
   "source": [
    "The table above was ordered with accuracy score of each model and LGBM had highest accuracy score. Overall, all the models trained with SMOTE resampling techinque used has high scores in general."
   ]
  },
  {
   "cell_type": "markdown",
   "id": "c90504bb",
   "metadata": {},
   "source": [
    "<font size=\"4\">**Model Hyperparameter Tuning (Oversampled Data with SMOTE)**"
   ]
  },
  {
   "cell_type": "markdown",
   "id": "b92363ce",
   "metadata": {},
   "source": [
    "RandomForest Classifier hyperparameter tuning using GridSearchCV"
   ]
  },
  {
   "cell_type": "code",
   "execution_count": 67,
   "id": "73d257de",
   "metadata": {},
   "outputs": [],
   "source": [
    "from sklearn.model_selection import GridSearchCV"
   ]
  },
  {
   "cell_type": "code",
   "execution_count": 68,
   "id": "2bf79af7",
   "metadata": {},
   "outputs": [],
   "source": [
    "param_grid={\n",
    "    'n_estimators':np.arange(1,50),\n",
    "    'max_depth':[4,5,6,7,8],\n",
    "    'criterion':['gini','entropy'],\n",
    "    'max_features':[3,5,7],\n",
    "    'min_samples_split':[1,2,3]\n",
    "           }"
   ]
  },
  {
   "cell_type": "code",
   "execution_count": 70,
   "id": "6cc73092",
   "metadata": {},
   "outputs": [
    {
     "name": "stdout",
     "output_type": "stream",
     "text": [
      "Fitting 3 folds for each of 4410 candidates, totalling 13230 fits\n",
      "              precision    recall  f1-score   support\n",
      "\n",
      "           0       0.98      0.68      0.80      1458\n",
      "           1       0.11      0.75      0.19        75\n",
      "\n",
      "    accuracy                           0.68      1533\n",
      "   macro avg       0.54      0.71      0.49      1533\n",
      "weighted avg       0.94      0.68      0.77      1533\n",
      "\n",
      "[[985 473]\n",
      " [ 19  56]]\n"
     ]
    }
   ],
   "source": [
    "RF=RandomForestClassifier(random_state=2)\n",
    "rf_grid=GridSearchCV(estimator=RF,param_grid=param_grid,cv=3,n_jobs=-1,verbose=2,scoring=\"recall\")\n",
    "rf_grid.fit(X_train_ad,y_train_ad)\n",
    "y_pred_rf=rf_grid.predict(X_test)\n",
    "print(classification_report(y_test,y_pred_rf))\n",
    "print(confusion_matrix(y_test,y_pred_rf))"
   ]
  },
  {
   "cell_type": "code",
   "execution_count": 82,
   "id": "325e45dd",
   "metadata": {},
   "outputs": [
    {
     "name": "stdout",
     "output_type": "stream",
     "text": [
      "0.8\n"
     ]
    }
   ],
   "source": [
    "y_scores_rf=rf_grid.predict_proba(X_test)[:,1]\n",
    "f_rf,t_rf,_=roc_curve(y_test,y_scores_rf)\n",
    "roc_auc_rf=auc(f_rf,t_rf)\n",
    "print(round(roc_auc_rf,2))"
   ]
  },
  {
   "cell_type": "code",
   "execution_count": 84,
   "id": "6c8cce2c",
   "metadata": {},
   "outputs": [
    {
     "data": {
      "image/png": "[encoded data removed]",
      "text/plain": [
       "<Figure size 432x288 with 1 Axes>"
      ]
     },
     "metadata": {
      "needs_background": "light"
     },
     "output_type": "display_data"
    }
   ],
   "source": [
    "plt.plot([0, 1], [0, 1], 'k--')\n",
    "plt.plot(f_rf, t_rf)\n",
    "plt.xlabel('False Positive Rate')\n",
    "plt.ylabel('True Positive Rate')\n",
    "plt.title('ROC Curve')\n",
    "plt.show()"
   ]
  },
  {
   "cell_type": "code",
   "execution_count": 71,
   "id": "7ee5aba3",
   "metadata": {},
   "outputs": [],
   "source": [
    "clf_rpt=classification_report(y_test,y_pred_rf,target_names=['negative','positive'])"
   ]
  },
  {
   "cell_type": "code",
   "execution_count": 72,
   "id": "05a212d5",
   "metadata": {},
   "outputs": [],
   "source": [
    "from sklearn.metrics import precision_score"
   ]
  },
  {
   "cell_type": "code",
   "execution_count": 73,
   "id": "ffd3e46e",
   "metadata": {},
   "outputs": [
    {
     "name": "stdout",
     "output_type": "stream",
     "text": [
      "0.9556068916244143\n",
      "{'criterion': 'entropy', 'max_depth': 5, 'max_features': 3, 'min_samples_split': 2, 'n_estimators': 49}\n"
     ]
    }
   ],
   "source": [
    "print(rf_grid.best_score_)\n",
    "print(rf_grid.best_params_)"
   ]
  },
  {
   "cell_type": "markdown",
   "id": "315fc241",
   "metadata": {},
   "source": [
    "RandomForest Classifier hyperparameter tuning using ParameterGrid(oob_score)"
   ]
  },
  {
   "cell_type": "code",
   "execution_count": 74,
   "id": "4116e63c",
   "metadata": {},
   "outputs": [],
   "source": [
    "from sklearn.model_selection import ParameterGrid"
   ]
  },
  {
   "cell_type": "code",
   "execution_count": 77,
   "id": "7df6373f",
   "metadata": {},
   "outputs": [],
   "source": [
    "rf=RandomForestClassifier(oob_score=True,random_state=3)\n",
    "param_grid={\n",
    "    'n_estimators':np.arange(1,50),\n",
    "    'max_depth':[5,6,7,8],\n",
    "    'criterion':['gini','entropy'],\n",
    "    'max_features':[3,5,7],\n",
    "    #'min_samples_split':[2,3,4]\n",
    "           }"
   ]
  },
  {
   "cell_type": "code",
   "execution_count": 78,
   "id": "72190bbe",
   "metadata": {},
   "outputs": [
    {
     "name": "stdout",
     "output_type": "stream",
     "text": [
      "OOB: 0.88242\n",
      "Grid: {'criterion': 'entropy', 'max_depth': 8, 'max_features': 3, 'n_estimators': 49}\n"
     ]
    }
   ],
   "source": [
    "best_score=0\n",
    "for g in ParameterGrid(param_grid):\n",
    "    rf.set_params(**g)\n",
    "    rf.fit(X_train_sm,y_train_sm)\n",
    "    # save if best\n",
    "    if rf.oob_score_ > best_score:\n",
    "        best_score = rf.oob_score_\n",
    "        best_grid = g\n",
    "\n",
    "print (\"OOB: %0.5f\" % best_score) \n",
    "print (\"Grid:\", best_grid)"
   ]
  },
  {
   "cell_type": "code",
   "execution_count": 83,
   "id": "fa8861ed",
   "metadata": {
    "scrolled": true
   },
   "outputs": [
    {
     "name": "stdout",
     "output_type": "stream",
     "text": [
      "              precision    recall  f1-score   support\n",
      "\n",
      "           0       0.97      0.79      0.87      1458\n",
      "           1       0.12      0.59      0.20        75\n",
      "\n",
      "    accuracy                           0.78      1533\n",
      "   macro avg       0.55      0.69      0.54      1533\n",
      "weighted avg       0.93      0.78      0.84      1533\n",
      "\n"
     ]
    }
   ],
   "source": [
    "rf=RandomForestClassifier(criterion= 'entropy', max_depth= 8, max_features= 3, n_estimators=49)\n",
    "rf.fit(X_train_sm,y_train_sm)\n",
    "y_pred_rf=rf.predict(X_test)\n",
    "print(classification_report(y_test,y_pred_rf))\n"
   ]
  },
  {
   "cell_type": "markdown",
   "id": "3912b226",
   "metadata": {},
   "source": [
    "Two method was used for hyperparameter tuning of RandomForestClassifier. First is gridsearchCV and the second method was using parameter grid by best oob score."
   ]
  },
  {
   "cell_type": "markdown",
   "id": "adef1ff4",
   "metadata": {},
   "source": [
    "Hyperparameter tuning of XGBoost Classifier using RandomizedSearchCV"
   ]
  },
  {
   "cell_type": "code",
   "execution_count": 85,
   "id": "c9e67da5",
   "metadata": {},
   "outputs": [],
   "source": [
    "from sklearn.model_selection import RandomizedSearchCV"
   ]
  },
  {
   "cell_type": "code",
   "execution_count": 88,
   "id": "56d8c0c9",
   "metadata": {},
   "outputs": [
    {
     "name": "stdout",
     "output_type": "stream",
     "text": [
      "Fitting 5 folds for each of 5 candidates, totalling 25 fits\n",
      "{'subsample': 0.6, 'n_estimators': 100, 'max_depth': 6, 'learning_rate': 0.1, 'colsample_bytree': 0.7}\n",
      "0.9694186749589704\n",
      "[[1344  114]\n",
      " [  52   23]]\n",
      "              precision    recall  f1-score   support\n",
      "\n",
      "           0       0.96      0.92      0.94      1458\n",
      "           1       0.17      0.31      0.22        75\n",
      "\n",
      "    accuracy                           0.89      1533\n",
      "   macro avg       0.57      0.61      0.58      1533\n",
      "weighted avg       0.92      0.89      0.91      1533\n",
      "\n",
      "0.61\n"
     ]
    }
   ],
   "source": [
    "xgb=XGBClassifier(objective='binary:logistic',random_state=0,eval_metric='auc')\n",
    "params={ 'max_depth': [3, 5, 6, 10],\n",
    "           'learning_rate': [0.1, 0.2, 0.3, 0.4],\n",
    "           'subsample': np.arange(0.6, 0.8, 1.0),\n",
    "           'colsample_bytree': np.arange(0.4, 1.0, 0.1),\n",
    "           'n_estimators': [100, 500, 1000,10000]}\n",
    "random_search=RandomizedSearchCV(xgb,param_distributions=params,n_iter=5,n_jobs=4,verbose=2,scoring='recall')\n",
    "random_search.fit(X_train_sm,y_train_sm)\n",
    "rs_ypred=random_search.predict(X_test)\n",
    "print(random_search.best_params_)\n",
    "print(random_search.best_score_)\n",
    "print(confusion_matrix(y_test,rs_ypred))\n",
    "print(classification_report(y_test,rs_ypred))\n",
    "y_scores_xgb=random_search.predict_proba(X_test)[:,1]\n",
    "f_xgb,t_xgb,_=roc_curve(y_test,rs_ypred)\n",
    "roc_auc_xgb=auc(f_xgb,t_xgb)\n",
    "print(round(roc_auc_xgb,2))"
   ]
  },
  {
   "cell_type": "code",
   "execution_count": 89,
   "id": "32a12ef3",
   "metadata": {},
   "outputs": [
    {
     "data": {
      "image/png": "[encoded data removed]",
      "text/plain": [
       "<Figure size 432x288 with 1 Axes>"
      ]
     },
     "metadata": {
      "needs_background": "light"
     },
     "output_type": "display_data"
    }
   ],
   "source": [
    "plt.plot([0, 1], [0, 1], 'k--')\n",
    "plt.plot(f_xgb, t_xgb)\n",
    "plt.xlabel('False Positive Rate')\n",
    "plt.ylabel('True Positive Rate')\n",
    "plt.title('ROC Curve')\n",
    "plt.show()"
   ]
  },
  {
   "cell_type": "markdown",
   "id": "db3204ed",
   "metadata": {},
   "source": [
    "Hyperparameter tuning of LGBM Classifier using RandomizedSearchCV"
   ]
  },
  {
   "cell_type": "code",
   "execution_count": 90,
   "id": "f0ae7d5a",
   "metadata": {},
   "outputs": [
    {
     "name": "stdout",
     "output_type": "stream",
     "text": [
      "Fitting 10 folds for each of 10 candidates, totalling 100 fits\n",
      "[LightGBM] [Warning] min_data_in_leaf is set=10, min_child_samples=20 will be ignored. Current value: min_data_in_leaf=10\n",
      "{'subsample': 0.8, 'random_state': 42, 'objective': 'binary', 'num_leaves': 140, 'min_split_gain': 0.01, 'min_data_in_leaf': 10, 'metric': 'auc', 'max_depth': 4, 'learning_rate': 0.01, 'colsample_bytree': 0.7, 'boosting_type': 'gbdt'}\n",
      "0.9478187768606929\n",
      "[[1025  433]\n",
      " [  21   54]]\n",
      "              precision    recall  f1-score   support\n",
      "\n",
      "           0       0.98      0.70      0.82      1458\n",
      "           1       0.11      0.72      0.19        75\n",
      "\n",
      "    accuracy                           0.70      1533\n",
      "   macro avg       0.55      0.71      0.51      1533\n",
      "weighted avg       0.94      0.70      0.79      1533\n",
      "\n",
      "0.71\n"
     ]
    }
   ],
   "source": [
    "params_lgbm = {\n",
    "    'learning_rate': [0.05,0.01,0.0001],\n",
    "    'num_leaves': [90,140,200],\n",
    "    'boosting_type' : ['gbdt'],\n",
    "    'objective' : ['binary'],\n",
    "    'max_depth' : [4,5,6,7],\n",
    "    'random_state' : [42], \n",
    "    'colsample_bytree' : [0.6,0.7,0.8,1.0],\n",
    "    'subsample' : [0.5,0.6,0.7,0.8,1.0],\n",
    "    'min_split_gain' : [0.01],\n",
    "    'min_data_in_leaf':[10],\n",
    "    'metric':['auc']\n",
    "    }\n",
    "clf=LGBMClassifier(random_state=6)\n",
    "LGBMRS=RandomizedSearchCV(clf,param_distributions=params_lgbm,verbose=2,cv=10,n_jobs=-1,n_iter=10,scoring='recall')\n",
    "LGBMRS.fit(X_train_ad,y_train_ad)\n",
    "ypred_lgbm=LGBMRS.predict(X_test)\n",
    "print(LGBMRS.best_params_)\n",
    "print(LGBMRS.best_score_)\n",
    "print(confusion_matrix(y_test,ypred_lgbm))\n",
    "print(classification_report(y_test,ypred_lgbm))\n",
    "y_scores_lgbm=LGBMRS.predict_proba(X_test)[:,1]\n",
    "f_lgbm,t_lgbm,_=roc_curve(y_test,ypred_lgbm)\n",
    "roc_auc_lgbm=auc(f_lgbm,t_lgbm)\n",
    "print(round(roc_auc_lgbm,2))"
   ]
  },
  {
   "cell_type": "code",
   "execution_count": 91,
   "id": "e299e788",
   "metadata": {
    "scrolled": true
   },
   "outputs": [
    {
     "data": {
      "image/png": "[encoded data removed]",
      "text/plain": [
       "<Figure size 432x288 with 1 Axes>"
      ]
     },
     "metadata": {
      "needs_background": "light"
     },
     "output_type": "display_data"
    }
   ],
   "source": [
    "plt.plot([0, 1], [0, 1], 'k--')\n",
    "plt.plot(f_lgbm, t_lgbm)\n",
    "plt.xlabel('False Positive Rate')\n",
    "plt.ylabel('True Positive Rate')\n",
    "plt.title('ROC Curve')\n",
    "plt.show()"
   ]
  },
  {
   "cell_type": "code",
   "execution_count": 92,
   "id": "f22f3c55",
   "metadata": {},
   "outputs": [
    {
     "data": {
      "text/html": [
       "<div>\n",
       "<style scoped>\n",
       "    .dataframe tbody tr th:only-of-type {\n",
       "        vertical-align: middle;\n",
       "    }\n",
       "\n",
       "    .dataframe tbody tr th {\n",
       "        vertical-align: top;\n",
       "    }\n",
       "\n",
       "    .dataframe thead th {\n",
       "        text-align: right;\n",
       "    }\n",
       "</style>\n",
       "<table border=\"1\" class=\"dataframe\">\n",
       "  <thead>\n",
       "    <tr style=\"text-align: right;\">\n",
       "      <th></th>\n",
       "      <th>precision, class:negative</th>\n",
       "      <th>precision, class:positive</th>\n",
       "      <th>recall, class:negative</th>\n",
       "      <th>recall, class:positive</th>\n",
       "      <th>f1, class:negative</th>\n",
       "      <th>f1, class:positive</th>\n",
       "      <th>ROC_AUC</th>\n",
       "      <th>total negative</th>\n",
       "      <th>total positive</th>\n",
       "    </tr>\n",
       "  </thead>\n",
       "  <tbody>\n",
       "    <tr>\n",
       "      <th>Random Forest</th>\n",
       "      <td>0.98</td>\n",
       "      <td>0.11</td>\n",
       "      <td>0.68</td>\n",
       "      <td>0.75</td>\n",
       "      <td>0.80</td>\n",
       "      <td>0.19</td>\n",
       "      <td>0.80</td>\n",
       "      <td>1458</td>\n",
       "      <td>75</td>\n",
       "    </tr>\n",
       "    <tr>\n",
       "      <th>XGBoost</th>\n",
       "      <td>0.96</td>\n",
       "      <td>0.17</td>\n",
       "      <td>0.92</td>\n",
       "      <td>0.31</td>\n",
       "      <td>0.94</td>\n",
       "      <td>0.22</td>\n",
       "      <td>0.61</td>\n",
       "      <td>1458</td>\n",
       "      <td>75</td>\n",
       "    </tr>\n",
       "    <tr>\n",
       "      <th>LGBM</th>\n",
       "      <td>0.98</td>\n",
       "      <td>0.11</td>\n",
       "      <td>0.70</td>\n",
       "      <td>0.72</td>\n",
       "      <td>0.82</td>\n",
       "      <td>0.19</td>\n",
       "      <td>0.71</td>\n",
       "      <td>1458</td>\n",
       "      <td>75</td>\n",
       "    </tr>\n",
       "  </tbody>\n",
       "</table>\n",
       "</div>"
      ],
      "text/plain": [
       "               precision, class:negative  precision, class:positive  \\\n",
       "Random Forest                       0.98                       0.11   \n",
       "XGBoost                             0.96                       0.17   \n",
       "LGBM                                0.98                       0.11   \n",
       "\n",
       "               recall, class:negative  recall, class:positive  \\\n",
       "Random Forest                    0.68                    0.75   \n",
       "XGBoost                          0.92                    0.31   \n",
       "LGBM                             0.70                    0.72   \n",
       "\n",
       "               f1, class:negative  f1, class:positive  ROC_AUC  \\\n",
       "Random Forest                0.80                0.19     0.80   \n",
       "XGBoost                      0.94                0.22     0.61   \n",
       "LGBM                         0.82                0.19     0.71   \n",
       "\n",
       "               total negative  total positive  \n",
       "Random Forest            1458              75  \n",
       "XGBoost                  1458              75  \n",
       "LGBM                     1458              75  "
      ]
     },
     "execution_count": 92,
     "metadata": {},
     "output_type": "execute_result"
    }
   ],
   "source": [
    "data={'precision, class:negative':[0.98,0.96,0.98],'precision, class:positive':[0.11,0.17,0.11],'recall, class:negative':[0.68,0.92,0.70],\n",
    "     'recall, class:positive':[0.75,0.31,0.72],'f1, class:negative':[0.80,0.94,0.82],'f1, class:positive':[0.19,0.22,0.19],'ROC_AUC':[0.80,0.61,0.71],'total negative':[1458,1458,1458],'total positive':[75,75,75]}\n",
    "table_final=pd.DataFrame.from_dict(data)\n",
    "table_final=table_final.rename(index={0:'Random Forest',1:'XGBoost',2:'LGBM'})\n",
    "table_final"
   ]
  },
  {
   "cell_type": "markdown",
   "id": "0eac18c5",
   "metadata": {},
   "source": [
    "### Feature Importance"
   ]
  },
  {
   "cell_type": "markdown",
   "id": "1e11e118",
   "metadata": {},
   "source": [
    "Since Random Forest Classifier performed the best out of the three models, importance of each feature was calculated with the RandomForestClassifier model."
   ]
  },
  {
   "cell_type": "code",
   "execution_count": 93,
   "id": "11216a15",
   "metadata": {},
   "outputs": [
    {
     "data": {
      "text/plain": [
       "Index(['age', 'hypertension', 'heart_disease', 'avg_glucose_level', 'bmi',\n",
       "       'gender_Female', 'gender_Male', 'ever_married_No', 'ever_married_Yes',\n",
       "       'work_type_Govt_job', 'work_type_Never_worked', 'work_type_Private',\n",
       "       'work_type_Self-employed', 'work_type_children', 'Residence_type_Rural',\n",
       "       'Residence_type_Urban', 'smoking_status_Unknown',\n",
       "       'smoking_status_formerly smoked', 'smoking_status_never smoked',\n",
       "       'smoking_status_smokes'],\n",
       "      dtype='object')"
      ]
     },
     "execution_count": 93,
     "metadata": {},
     "output_type": "execute_result"
    }
   ],
   "source": [
    "X_train_sm.columns"
   ]
  },
  {
   "cell_type": "code",
   "execution_count": 94,
   "id": "8787b606",
   "metadata": {},
   "outputs": [
    {
     "data": {
      "text/plain": [
       "array([0.41984155, 0.00535525, 0.00356354, 0.07491933, 0.06442393,\n",
       "       0.01116437, 0.02158263, 0.13020324, 0.05744091, 0.01097801,\n",
       "       0.00056907, 0.01032213, 0.00726746, 0.08768881, 0.01333362,\n",
       "       0.00885008, 0.03086626, 0.00487716, 0.02918449, 0.00756815])"
      ]
     },
     "execution_count": 94,
     "metadata": {},
     "output_type": "execute_result"
    }
   ],
   "source": [
    "importances=rf_grid.best_estimator_.feature_importances_\n",
    "importances"
   ]
  },
  {
   "cell_type": "code",
   "execution_count": 95,
   "id": "a031ec99",
   "metadata": {},
   "outputs": [],
   "source": [
    "std = np.std([tree.feature_importances_ for tree in rf_grid.best_estimator_], axis=0)"
   ]
  },
  {
   "cell_type": "code",
   "execution_count": 99,
   "id": "dc12d127",
   "metadata": {},
   "outputs": [],
   "source": [
    "std1=pd.Series(std,index=X_train_sm.columns)\n",
    "std1.sort_values(ascending=False)\n",
    "std1=std1.head(9)"
   ]
  },
  {
   "cell_type": "code",
   "execution_count": 106,
   "id": "195d2c25",
   "metadata": {},
   "outputs": [],
   "source": [
    "forest_importances = pd.Series(importances, index=X_train_sm.columns)"
   ]
  },
  {
   "cell_type": "code",
   "execution_count": 107,
   "id": "d52510b0",
   "metadata": {
    "scrolled": true
   },
   "outputs": [],
   "source": [
    "forest_importances1=forest_importances.sort_values(ascending=False).head(9)"
   ]
  },
  {
   "cell_type": "code",
   "execution_count": 110,
   "id": "2df42196",
   "metadata": {
    "scrolled": true
   },
   "outputs": [
    {
     "data": {
      "image/png": "[encoded data removed]",
      "text/plain": [
       "<Figure size 432x288 with 1 Axes>"
      ]
     },
     "metadata": {
      "needs_background": "light"
     },
     "output_type": "display_data"
    }
   ],
   "source": [
    "fig, ax = plt.subplots()\n",
    "forest_importances1.plot.bar(yerr=std1, ax=ax)\n",
    "ax.set_title(\"Feature importances using MDI\")\n",
    "ax.set_ylabel(\"Mean decrease in impurity\")\n",
    "fig.tight_layout()"
   ]
  },
  {
   "cell_type": "markdown",
   "id": "1d3a4b41",
   "metadata": {},
   "source": [
    "Top 9 features were plotted on the graph above and as a result, Age was the most imporatant feature that affects the stroke. Martial Status, work type, glucose level and bmi are followed by the orders."
   ]
  },
  {
   "cell_type": "markdown",
   "id": "c61d73fd",
   "metadata": {},
   "source": [
    "# Conclusion"
   ]
  },
  {
   "cell_type": "markdown",
   "id": "f397f9f2",
   "metadata": {},
   "source": [
    "Stroke prediction models were developed using different classification models including:\n",
    "- RandomForestClassification\n",
    "- XGBoost Classifier\n",
    "- LGBM Classifier\n",
    "\n",
    "In the previous notebook, the first baseline model with logistic regression was developed and faced imbalanced classification problem. \n",
    "To address the issue, resampling techniques from oversampling(SMOTE and ADASYN) and Undersampling(RandomUndersampling) were used.\n",
    "To evaluate the model performance, accuracy, precision, recall and F1 scores were calculated and models with high accruracy scores were selected for hyperparameter tuning.\n",
    "For hyperparameter tuning, GridSearchCV, ParameterGrid,RandomizedSearchCV were used to determine the hyperparameter."
   ]
  },
  {
   "cell_type": "markdown",
   "id": "dcc918eb",
   "metadata": {},
   "source": [
    "The RandomForest Classifier algorithm model would be appropriate since it performs the best out of 3 models in terms of recall score for positive class. For this project, recall score for positive class was optimized, since The goal of this model is to predict the stroke cases and having a large number of false negative would completely fail the purpose. Therefore even if the model has high false positive, it is better to have lower false negative because there should not be a single person who thinks they do not have stroke when they actually do. This is the reason why recall score was prioritized when hyperparameter tunings were conducted for each models."
   ]
  },
  {
   "cell_type": "markdown",
   "id": "127cfe4a",
   "metadata": {},
   "source": [
    "In conclusion, RandomForest Classifier model was selected with 0.75 of recall score for positive class and this was a dramatic improvement compare to our baseline model(Logistic Regression) that had a recall score for positive calss of 0.03."
   ]
  }
 ],
 "metadata": {
  "kernelspec": {
   "display_name": "Python 3 (ipykernel)",
   "language": "python",
   "name": "python3"
  },
  "language_info": {
   "codemirror_mode": {
    "name": "ipython",
    "version": 3
   },
   "file_extension": ".py",
   "mimetype": "text/x-python",
   "name": "python",
   "nbconvert_exporter": "python",
   "pygments_lexer": "ipython3",
   "version": "3.9.7"
  }
 },
 "nbformat": 4,
 "nbformat_minor": 5
}

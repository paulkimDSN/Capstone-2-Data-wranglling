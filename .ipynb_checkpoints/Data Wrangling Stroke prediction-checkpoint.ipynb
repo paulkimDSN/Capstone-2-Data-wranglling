{
 "cells": [
  {
   "cell_type": "markdown",
   "id": "730af1fd",
   "metadata": {},
   "source": [
    "## Introduction<a id='2.2_Introduction'></a>"
   ]
  },
  {
   "cell_type": "markdown",
   "id": "db4efbb3",
   "metadata": {},
   "source": [
    "The project is conducted to answer a question which feature has high impacts to causes of heart stroke. Since the stroke is one of the major causes of  death globally, it will be analyzed and answered what health features put a person in a risk of stroke the most. Also a machine learning model will be created to detect if a patient has high risk of stroke in the early stage. \n"
   ]
  },
  {
   "cell_type": "markdown",
   "id": "23fa05d6",
   "metadata": {},
   "source": [
    "Data wrangling section focuses on accessing data collected, organizing and cleaning the data to analyze it in the future to develop a model to confirm the hypothesis. In this notebook, health-care_stroke dataset will be loaded and analyzed to make sure if the data is clean enough to be used in the further stages of the project."
   ]
  },
  {
   "cell_type": "markdown",
   "id": "3bfa302b",
   "metadata": {},
   "source": [
    "## Import and Load data"
   ]
  },
  {
   "cell_type": "markdown",
   "id": "2d13457e",
   "metadata": {},
   "source": [
    "Import the healthcare-stroke dataset and load the first 20 rows to confirm that correct dataset was opened."
   ]
  },
  {
   "cell_type": "code",
   "execution_count": 1,
   "id": "f4325ed1",
   "metadata": {},
   "outputs": [],
   "source": [
    "import numpy as np\n",
    "import pandas as pd"
   ]
  },
  {
   "cell_type": "code",
   "execution_count": 2,
   "id": "9c2723d2",
   "metadata": {},
   "outputs": [],
   "source": [
    "#opening the data\n",
    "df=pd.read_csv('..\\Capstone-2-Data-wranglling\\healthcare-dataset-stroke-data.csv')"
   ]
  },
  {
   "cell_type": "code",
   "execution_count": null,
   "id": "f9881833",
   "metadata": {},
   "outputs": [],
   "source": [
    "df.head(20)"
   ]
  },
  {
   "cell_type": "markdown",
   "id": "5ba990ec",
   "metadata": {},
   "source": [
    "First, load the information about the dataset and see what columns are there and how big the dataset is."
   ]
  },
  {
   "cell_type": "code",
   "execution_count": null,
   "id": "7905c0ff",
   "metadata": {},
   "outputs": [],
   "source": [
    "# chceking the data type\n",
    "df.info()"
   ]
  },
  {
   "cell_type": "code",
   "execution_count": null,
   "id": "64fe8710",
   "metadata": {},
   "outputs": [],
   "source": [
    "df.shape[0]"
   ]
  },
  {
   "cell_type": "markdown",
   "id": "9e2dc9ae",
   "metadata": {},
   "source": [
    "The dataset has 12 columns, datatype inclduing categorical and numerical data. Also the dataset has 5110 rows. However 'bmi' columns has 4909 non_null rows therefore there must be some missing values."
   ]
  },
  {
   "cell_type": "code",
   "execution_count": null,
   "id": "0229c456",
   "metadata": {},
   "outputs": [],
   "source": [
    "#describe the numerical data\n",
    "df.describe().T"
   ]
  },
  {
   "cell_type": "markdown",
   "id": "eaf323fb",
   "metadata": {},
   "source": [
    "Numerical columns were double checked to see the range, and minimum and maximum values makes sense"
   ]
  },
  {
   "cell_type": "markdown",
   "id": "67b26097",
   "metadata": {},
   "source": [
    "Column names and values were presented to check if they have the apprpriate names and uniform values."
   ]
  },
  {
   "cell_type": "code",
   "execution_count": null,
   "id": "3f9c8abc",
   "metadata": {},
   "outputs": [],
   "source": [
    "# checking the variables to confirm that they are unique values and see if the variables' name matches the data it contains\n",
    "print(df.columns.unique())"
   ]
  },
  {
   "cell_type": "code",
   "execution_count": null,
   "id": "ec1b1567",
   "metadata": {},
   "outputs": [],
   "source": [
    "# checking the unique values of the data to make sure that the values are all unique and they do not have consistency error\n",
    "for col in df:\n",
    "    print(df[col].unique())"
   ]
  },
  {
   "cell_type": "markdown",
   "id": "72bab50f",
   "metadata": {},
   "source": [
    "## Missing Values"
   ]
  },
  {
   "cell_type": "code",
   "execution_count": null,
   "id": "1dd558bc",
   "metadata": {},
   "outputs": [],
   "source": [
    "# checking if there is any missing values in for each variable\n",
    "df.isna().sum()"
   ]
  },
  {
   "cell_type": "markdown",
   "id": "91c60acb",
   "metadata": {},
   "source": [
    "Dataframe was checked if it has any missing values and it showed that bmi has 201 missing values."
   ]
  },
  {
   "cell_type": "code",
   "execution_count": null,
   "id": "00c37e1f",
   "metadata": {},
   "outputs": [],
   "source": [
    "#calculate the percentage of missing value counts\n",
    "df.isnull().mean()*100\n",
    "# 3.93 percent of bmi columns are missing "
   ]
  },
  {
   "cell_type": "code",
   "execution_count": null,
   "id": "a5252593",
   "metadata": {},
   "outputs": [],
   "source": [
    "df.gender.unique()"
   ]
  },
  {
   "cell_type": "code",
   "execution_count": null,
   "id": "9adc1dfd",
   "metadata": {},
   "outputs": [],
   "source": [
    "# calculating average bmi value for each gender values\n",
    "df.groupby(['gender'])['bmi'].agg(['mean'])"
   ]
  },
  {
   "cell_type": "markdown",
   "id": "6f56644b",
   "metadata": {},
   "source": [
    "The missing bmi values cannot be left alone therefore options were prepared to be used in the future. \n",
    "First, simply removing the rows with missing values since 201/5110(3.93 percent) is a small number.\n",
    "Second, it can be replaced with average bmi of existing values. \n",
    "Lastly, it can be replaced with average bmi grouped by genders. "
   ]
  },
  {
   "cell_type": "markdown",
   "id": "18f859e5",
   "metadata": {},
   "source": [
    "## Conclusion<a id='2.2_Introduction'></a>"
   ]
  },
  {
   "cell_type": "markdown",
   "id": "236192e9",
   "metadata": {},
   "source": [
    "The data is well organized and is ready to be analyzed except for the missing value. The options for missing values would include, removing the columns with missing value(since it is only 3.93 percent) or impute and replace the missing bmi values with mean bmi by gender. \n",
    "\n",
    "In the next notebook, exploratory data analysis will be conducted by anaylzing the dataset visually and find out the relationship bewteen each variables. Also the correlation between the variables will be analyzed and hwo the datasets are distrubted numerically and categorically. "
   ]
  }
 ],
 "metadata": {
  "kernelspec": {
   "display_name": "Python 3 (ipykernel)",
   "language": "python",
   "name": "python3"
  },
  "language_info": {
   "codemirror_mode": {
    "name": "ipython",
    "version": 3
   },
   "file_extension": ".py",
   "mimetype": "text/x-python",
   "name": "python",
   "nbconvert_exporter": "python",
   "pygments_lexer": "ipython3",
   "version": "3.9.7"
  }
 },
 "nbformat": 4,
 "nbformat_minor": 5
}
